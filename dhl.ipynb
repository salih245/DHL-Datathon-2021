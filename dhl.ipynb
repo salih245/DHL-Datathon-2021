{
 "cells": [
  {
   "cell_type": "code",
   "execution_count": 1,
   "id": "16cf2d6c",
   "metadata": {},
   "outputs": [],
   "source": [
    "import pandas as pd\n",
    "from sklearn.ensemble import RandomForestRegressor\n",
    "from sklearn.metrics import r2_score\n",
    "from sklearn.model_selection import train_test_split\n",
    "from sklearn.pipeline import Pipeline\n",
    "from sklearn.preprocessing import StandardScaler, OneHotEncoder\n",
    "from sklearn.compose import ColumnTransformer\n",
    "import numpy as np\n",
    "import seaborn as sns\n",
    "import matplotlib.pyplot as plt\n",
    "from xgboost import XGBRegressor\n",
    "from sklearn.ensemble import GradientBoostingRegressor\n",
    "from sklearn.linear_model import LinearRegression\n",
    "from sklearn.linear_model import Lasso\n",
    "from sklearn.linear_model import ElasticNet\n",
    "from sklearn.tree import DecisionTreeRegressor\n",
    "from sklearn.neighbors import KNeighborsRegressor\n",
    "from sklearn.linear_model import Lasso\n",
    "from sklearn.linear_model import Ridge\n",
    "from sklearn.model_selection import StratifiedKFold\n",
    "from sklearn.model_selection import cross_validate"
   ]
  },
  {
   "cell_type": "code",
   "execution_count": 2,
   "id": "d8b26b99",
   "metadata": {},
   "outputs": [],
   "source": [
    "import time\n",
    "import pandas as pd\n",
    "import numpy as np\n",
    "import seaborn as sns\n",
    "import matplotlib.pyplot as plt\n",
    "from sklearn.preprocessing import StandardScaler\n",
    "from sklearn.model_selection import train_test_split\n",
    "from sklearn.metrics import mean_squared_error\n",
    "from sklearn.model_selection import RepeatedStratifiedKFold\n",
    "from sklearn.model_selection import GridSearchCV, RandomizedSearchCV\n",
    "from sklearn.model_selection import cross_val_score\n",
    "from xgboost import XGBRegressor\n",
    "from sklearn.tree import DecisionTreeRegressor\n",
    "from sklearn.gaussian_process import GaussianProcessRegressor\n",
    "from sklearn.linear_model import LinearRegression\n",
    "from sklearn.linear_model import Ridge\n",
    "from sklearn.linear_model import Lars\n",
    "from sklearn.linear_model import TheilSenRegressor\n",
    "from sklearn.linear_model import HuberRegressor\n",
    "from sklearn.linear_model import PassiveAggressiveRegressor\n",
    "from sklearn.linear_model import ARDRegression\n",
    "from sklearn.linear_model import BayesianRidge\n",
    "from sklearn.linear_model import ElasticNet\n",
    "from sklearn.linear_model import OrthogonalMatchingPursuit\n",
    "from sklearn.svm import SVR\n",
    "from sklearn.svm import NuSVR\n",
    "from sklearn.svm import LinearSVR\n",
    "from sklearn.kernel_ridge import KernelRidge\n",
    "from sklearn.isotonic import IsotonicRegression\n",
    "from sklearn.ensemble import RandomForestRegressor"
   ]
  },
  {
   "cell_type": "code",
   "execution_count": 3,
   "id": "e9b6979b",
   "metadata": {},
   "outputs": [],
   "source": [
    "train = pd.read_csv(\"train_set.csv\")\n",
    "test = pd.read_csv(\"test_set.csv\")\n",
    "sub = pd.read_csv(\"submission.csv\")"
   ]
  },
  {
   "cell_type": "code",
   "execution_count": 4,
   "id": "c282bd26",
   "metadata": {},
   "outputs": [
    {
     "data": {
      "text/html": [
       "<div>\n",
       "<style scoped>\n",
       "    .dataframe tbody tr th:only-of-type {\n",
       "        vertical-align: middle;\n",
       "    }\n",
       "\n",
       "    .dataframe tbody tr th {\n",
       "        vertical-align: top;\n",
       "    }\n",
       "\n",
       "    .dataframe thead th {\n",
       "        text-align: right;\n",
       "    }\n",
       "</style>\n",
       "<table border=\"1\" class=\"dataframe\">\n",
       "  <thead>\n",
       "    <tr style=\"text-align: right;\">\n",
       "      <th></th>\n",
       "      <th>Sipariş Numarası</th>\n",
       "      <th>Sipariş Satırı</th>\n",
       "      <th>Sipariş Tipi</th>\n",
       "      <th>Malzeme Numarası</th>\n",
       "      <th>Sipariş Edilen Miktar</th>\n",
       "      <th>Sku Plt. Standartı</th>\n",
       "      <th>Müşteri No</th>\n",
       "      <th>Sipariş Tarihi</th>\n",
       "    </tr>\n",
       "  </thead>\n",
       "  <tbody>\n",
       "    <tr>\n",
       "      <th>0</th>\n",
       "      <td>72616887</td>\n",
       "      <td>1</td>\n",
       "      <td>Müşteri Siparişleri</td>\n",
       "      <td>61001960</td>\n",
       "      <td>60</td>\n",
       "      <td>228</td>\n",
       "      <td>C-10008</td>\n",
       "      <td>2020-01-02</td>\n",
       "    </tr>\n",
       "    <tr>\n",
       "      <th>1</th>\n",
       "      <td>72616888</td>\n",
       "      <td>1</td>\n",
       "      <td>Müşteri Siparişleri</td>\n",
       "      <td>61000066</td>\n",
       "      <td>25</td>\n",
       "      <td>96</td>\n",
       "      <td>C-10185</td>\n",
       "      <td>2020-01-02</td>\n",
       "    </tr>\n",
       "    <tr>\n",
       "      <th>2</th>\n",
       "      <td>72616888</td>\n",
       "      <td>2</td>\n",
       "      <td>Müşteri Siparişleri</td>\n",
       "      <td>61001960</td>\n",
       "      <td>50</td>\n",
       "      <td>228</td>\n",
       "      <td>C-10185</td>\n",
       "      <td>2020-01-02</td>\n",
       "    </tr>\n",
       "    <tr>\n",
       "      <th>3</th>\n",
       "      <td>72616889</td>\n",
       "      <td>1</td>\n",
       "      <td>Müşteri Siparişleri</td>\n",
       "      <td>61000066</td>\n",
       "      <td>40</td>\n",
       "      <td>96</td>\n",
       "      <td>C-10188</td>\n",
       "      <td>2020-01-02</td>\n",
       "    </tr>\n",
       "    <tr>\n",
       "      <th>4</th>\n",
       "      <td>72616889</td>\n",
       "      <td>2</td>\n",
       "      <td>Müşteri Siparişleri</td>\n",
       "      <td>61001960</td>\n",
       "      <td>20</td>\n",
       "      <td>228</td>\n",
       "      <td>C-10188</td>\n",
       "      <td>2020-01-02</td>\n",
       "    </tr>\n",
       "    <tr>\n",
       "      <th>...</th>\n",
       "      <td>...</td>\n",
       "      <td>...</td>\n",
       "      <td>...</td>\n",
       "      <td>...</td>\n",
       "      <td>...</td>\n",
       "      <td>...</td>\n",
       "      <td>...</td>\n",
       "      <td>...</td>\n",
       "    </tr>\n",
       "    <tr>\n",
       "      <th>276748</th>\n",
       "      <td>72666126</td>\n",
       "      <td>1</td>\n",
       "      <td>Paketli Siparişler</td>\n",
       "      <td>61007050</td>\n",
       "      <td>2376</td>\n",
       "      <td>72</td>\n",
       "      <td>C-10005</td>\n",
       "      <td>2020-12-28</td>\n",
       "    </tr>\n",
       "    <tr>\n",
       "      <th>276749</th>\n",
       "      <td>72666165</td>\n",
       "      <td>1</td>\n",
       "      <td>Paketli Siparişler</td>\n",
       "      <td>PL08105A</td>\n",
       "      <td>12012</td>\n",
       "      <td>185</td>\n",
       "      <td>C-10005</td>\n",
       "      <td>2020-12-29</td>\n",
       "    </tr>\n",
       "    <tr>\n",
       "      <th>276750</th>\n",
       "      <td>72666166</td>\n",
       "      <td>1</td>\n",
       "      <td>Paketli Siparişler</td>\n",
       "      <td>PL08105A</td>\n",
       "      <td>12210</td>\n",
       "      <td>185</td>\n",
       "      <td>C-10005</td>\n",
       "      <td>2020-12-29</td>\n",
       "    </tr>\n",
       "    <tr>\n",
       "      <th>276751</th>\n",
       "      <td>72666197</td>\n",
       "      <td>1</td>\n",
       "      <td>Paketli Siparişler</td>\n",
       "      <td>PL08105A</td>\n",
       "      <td>11837</td>\n",
       "      <td>185</td>\n",
       "      <td>C-10005</td>\n",
       "      <td>2020-12-30</td>\n",
       "    </tr>\n",
       "    <tr>\n",
       "      <th>276752</th>\n",
       "      <td>72666198</td>\n",
       "      <td>1</td>\n",
       "      <td>Paketli Siparişler</td>\n",
       "      <td>PL08105A</td>\n",
       "      <td>12210</td>\n",
       "      <td>185</td>\n",
       "      <td>C-10005</td>\n",
       "      <td>2020-12-30</td>\n",
       "    </tr>\n",
       "  </tbody>\n",
       "</table>\n",
       "<p>276753 rows × 8 columns</p>\n",
       "</div>"
      ],
      "text/plain": [
       "        Sipariş Numarası  Sipariş Satırı         Sipariş Tipi  \\\n",
       "0               72616887               1  Müşteri Siparişleri   \n",
       "1               72616888               1  Müşteri Siparişleri   \n",
       "2               72616888               2  Müşteri Siparişleri   \n",
       "3               72616889               1  Müşteri Siparişleri   \n",
       "4               72616889               2  Müşteri Siparişleri   \n",
       "...                  ...             ...                  ...   \n",
       "276748          72666126               1   Paketli Siparişler   \n",
       "276749          72666165               1   Paketli Siparişler   \n",
       "276750          72666166               1   Paketli Siparişler   \n",
       "276751          72666197               1   Paketli Siparişler   \n",
       "276752          72666198               1   Paketli Siparişler   \n",
       "\n",
       "       Malzeme Numarası  Sipariş Edilen Miktar  Sku Plt. Standartı Müşteri No  \\\n",
       "0              61001960                     60                 228    C-10008   \n",
       "1              61000066                     25                  96    C-10185   \n",
       "2              61001960                     50                 228    C-10185   \n",
       "3              61000066                     40                  96    C-10188   \n",
       "4              61001960                     20                 228    C-10188   \n",
       "...                 ...                    ...                 ...        ...   \n",
       "276748         61007050                   2376                  72    C-10005   \n",
       "276749         PL08105A                  12012                 185    C-10005   \n",
       "276750         PL08105A                  12210                 185    C-10005   \n",
       "276751         PL08105A                  11837                 185    C-10005   \n",
       "276752         PL08105A                  12210                 185    C-10005   \n",
       "\n",
       "       Sipariş Tarihi  \n",
       "0          2020-01-02  \n",
       "1          2020-01-02  \n",
       "2          2020-01-02  \n",
       "3          2020-01-02  \n",
       "4          2020-01-02  \n",
       "...               ...  \n",
       "276748     2020-12-28  \n",
       "276749     2020-12-29  \n",
       "276750     2020-12-29  \n",
       "276751     2020-12-30  \n",
       "276752     2020-12-30  \n",
       "\n",
       "[276753 rows x 8 columns]"
      ]
     },
     "execution_count": 4,
     "metadata": {},
     "output_type": "execute_result"
    }
   ],
   "source": [
    "train"
   ]
  },
  {
   "cell_type": "code",
   "execution_count": 5,
   "id": "6ccb0b0e",
   "metadata": {},
   "outputs": [
    {
     "data": {
      "text/plain": [
       "Sipariş Numarası         0\n",
       "Sipariş Satırı           0\n",
       "Sipariş Tipi             0\n",
       "Malzeme Numarası         0\n",
       "Sipariş Edilen Miktar    0\n",
       "Sku Plt. Standartı       0\n",
       "Müşteri No               0\n",
       "Sipariş Tarihi           0\n",
       "dtype: int64"
      ]
     },
     "execution_count": 5,
     "metadata": {},
     "output_type": "execute_result"
    }
   ],
   "source": [
    "train.isnull().sum()"
   ]
  },
  {
   "cell_type": "code",
   "execution_count": 6,
   "id": "f7967f47",
   "metadata": {},
   "outputs": [
    {
     "data": {
      "text/html": [
       "<div>\n",
       "<style scoped>\n",
       "    .dataframe tbody tr th:only-of-type {\n",
       "        vertical-align: middle;\n",
       "    }\n",
       "\n",
       "    .dataframe tbody tr th {\n",
       "        vertical-align: top;\n",
       "    }\n",
       "\n",
       "    .dataframe thead th {\n",
       "        text-align: right;\n",
       "    }\n",
       "</style>\n",
       "<table border=\"1\" class=\"dataframe\">\n",
       "  <thead>\n",
       "    <tr style=\"text-align: right;\">\n",
       "      <th></th>\n",
       "      <th>Sipariş Numarası</th>\n",
       "      <th>Sipariş Satırı</th>\n",
       "      <th>Sipariş Tipi</th>\n",
       "      <th>Malzeme Numarası</th>\n",
       "      <th>Sku Plt. Standartı</th>\n",
       "      <th>Müşteri No</th>\n",
       "      <th>Sipariş Tarihi</th>\n",
       "    </tr>\n",
       "  </thead>\n",
       "  <tbody>\n",
       "    <tr>\n",
       "      <th>0</th>\n",
       "      <td>72666244</td>\n",
       "      <td>1</td>\n",
       "      <td>Paketli Siparişler</td>\n",
       "      <td>CN05756A</td>\n",
       "      <td>36</td>\n",
       "      <td>C-10005</td>\n",
       "      <td>2021-01-03</td>\n",
       "    </tr>\n",
       "    <tr>\n",
       "      <th>1</th>\n",
       "      <td>72666256</td>\n",
       "      <td>1</td>\n",
       "      <td>Müşteri Siparişleri</td>\n",
       "      <td>TR02237A</td>\n",
       "      <td>160</td>\n",
       "      <td>C-10176</td>\n",
       "      <td>2021-01-04</td>\n",
       "    </tr>\n",
       "    <tr>\n",
       "      <th>2</th>\n",
       "      <td>72666257</td>\n",
       "      <td>1</td>\n",
       "      <td>Müşteri Siparişleri</td>\n",
       "      <td>61013510</td>\n",
       "      <td>240</td>\n",
       "      <td>C-10154</td>\n",
       "      <td>2021-01-04</td>\n",
       "    </tr>\n",
       "    <tr>\n",
       "      <th>3</th>\n",
       "      <td>72666259</td>\n",
       "      <td>1</td>\n",
       "      <td>Müşteri Siparişleri</td>\n",
       "      <td>61013508</td>\n",
       "      <td>364</td>\n",
       "      <td>C-10160</td>\n",
       "      <td>2021-01-04</td>\n",
       "    </tr>\n",
       "    <tr>\n",
       "      <th>4</th>\n",
       "      <td>72666265</td>\n",
       "      <td>1</td>\n",
       "      <td>Müşteri Siparişleri</td>\n",
       "      <td>TR02237A</td>\n",
       "      <td>160</td>\n",
       "      <td>C-10024</td>\n",
       "      <td>2021-01-04</td>\n",
       "    </tr>\n",
       "  </tbody>\n",
       "</table>\n",
       "</div>"
      ],
      "text/plain": [
       "   Sipariş Numarası  Sipariş Satırı         Sipariş Tipi Malzeme Numarası  \\\n",
       "0          72666244               1   Paketli Siparişler         CN05756A   \n",
       "1          72666256               1  Müşteri Siparişleri         TR02237A   \n",
       "2          72666257               1  Müşteri Siparişleri         61013510   \n",
       "3          72666259               1  Müşteri Siparişleri         61013508   \n",
       "4          72666265               1  Müşteri Siparişleri         TR02237A   \n",
       "\n",
       "   Sku Plt. Standartı Müşteri No Sipariş Tarihi  \n",
       "0                  36    C-10005     2021-01-03  \n",
       "1                 160    C-10176     2021-01-04  \n",
       "2                 240    C-10154     2021-01-04  \n",
       "3                 364    C-10160     2021-01-04  \n",
       "4                 160    C-10024     2021-01-04  "
      ]
     },
     "execution_count": 6,
     "metadata": {},
     "output_type": "execute_result"
    }
   ],
   "source": [
    "test.head()"
   ]
  },
  {
   "cell_type": "code",
   "execution_count": 7,
   "id": "bcf069b3",
   "metadata": {},
   "outputs": [
    {
     "data": {
      "text/plain": [
       "Sipariş Numarası      0\n",
       "Sipariş Satırı        0\n",
       "Sipariş Tipi          0\n",
       "Malzeme Numarası      0\n",
       "Sku Plt. Standartı    0\n",
       "Müşteri No            0\n",
       "Sipariş Tarihi        0\n",
       "dtype: int64"
      ]
     },
     "execution_count": 7,
     "metadata": {},
     "output_type": "execute_result"
    }
   ],
   "source": [
    "test.isnull().sum()"
   ]
  },
  {
   "cell_type": "code",
   "execution_count": 8,
   "id": "7759623e",
   "metadata": {},
   "outputs": [
    {
     "data": {
      "text/plain": [
       "array(['Müşteri Siparişleri', 'Transfer', 'Paketli Siparişler'],\n",
       "      dtype=object)"
      ]
     },
     "execution_count": 8,
     "metadata": {},
     "output_type": "execute_result"
    }
   ],
   "source": [
    "train[\"Sipariş Tipi\"].unique()"
   ]
  },
  {
   "cell_type": "code",
   "execution_count": 9,
   "id": "302f8ba0",
   "metadata": {},
   "outputs": [
    {
     "data": {
      "text/plain": [
       "array([228,  96, 196, 216, 210,  57,  64, 192,  56,  52,  98,  84,  80,\n",
       "       224, 132, 175,  63, 128,  60,  48, 200, 280, 185, 100,  72,  55,\n",
       "       225, 320, 120,  54,  36, 108, 245, 300, 168, 250, 161, 650, 342,\n",
       "        45, 408, 182,  42, 333, 140, 344, 205, 372,  24,  28, 147,  27,\n",
       "        10, 261, 105,   8,  49, 189,  70, 336,  50, 144, 114,  18, 378,\n",
       "       125,  30, 520, 504, 270, 364, 288, 310, 312, 305, 180, 297, 112,\n",
       "       215, 400, 133,  85, 322,  95, 234, 155,   1, 259,  40, 258],\n",
       "      dtype=int64)"
      ]
     },
     "execution_count": 9,
     "metadata": {},
     "output_type": "execute_result"
    }
   ],
   "source": [
    "train[\"Sku Plt. Standartı\"].unique()"
   ]
  },
  {
   "cell_type": "code",
   "execution_count": 10,
   "id": "0b9bdf20",
   "metadata": {
    "scrolled": true
   },
   "outputs": [
    {
     "data": {
      "text/html": [
       "<div>\n",
       "<style scoped>\n",
       "    .dataframe tbody tr th:only-of-type {\n",
       "        vertical-align: middle;\n",
       "    }\n",
       "\n",
       "    .dataframe tbody tr th {\n",
       "        vertical-align: top;\n",
       "    }\n",
       "\n",
       "    .dataframe thead th {\n",
       "        text-align: right;\n",
       "    }\n",
       "</style>\n",
       "<table border=\"1\" class=\"dataframe\">\n",
       "  <thead>\n",
       "    <tr style=\"text-align: right;\">\n",
       "      <th></th>\n",
       "      <th>Sipariş Numarası</th>\n",
       "      <th>Sipariş Satırı</th>\n",
       "      <th>Sipariş Tipi</th>\n",
       "      <th>Malzeme Numarası</th>\n",
       "      <th>Sipariş Edilen Miktar</th>\n",
       "      <th>Sku Plt. Standartı</th>\n",
       "      <th>Müşteri No</th>\n",
       "      <th>Sipariş Tarihi</th>\n",
       "    </tr>\n",
       "  </thead>\n",
       "  <tbody>\n",
       "    <tr>\n",
       "      <th>146149</th>\n",
       "      <td>72643683</td>\n",
       "      <td>89</td>\n",
       "      <td>Müşteri Siparişleri</td>\n",
       "      <td>61003831</td>\n",
       "      <td>5</td>\n",
       "      <td>60</td>\n",
       "      <td>C-10001</td>\n",
       "      <td>2020-07-13</td>\n",
       "    </tr>\n",
       "    <tr>\n",
       "      <th>161840</th>\n",
       "      <td>72646548</td>\n",
       "      <td>89</td>\n",
       "      <td>Müşteri Siparişleri</td>\n",
       "      <td>FCN01816</td>\n",
       "      <td>89</td>\n",
       "      <td>280</td>\n",
       "      <td>C-10096</td>\n",
       "      <td>2020-08-07</td>\n",
       "    </tr>\n",
       "    <tr>\n",
       "      <th>217469</th>\n",
       "      <td>72655238</td>\n",
       "      <td>89</td>\n",
       "      <td>Müşteri Siparişleri</td>\n",
       "      <td>TR02287A</td>\n",
       "      <td>1</td>\n",
       "      <td>225</td>\n",
       "      <td>C-10069</td>\n",
       "      <td>2020-10-06</td>\n",
       "    </tr>\n",
       "    <tr>\n",
       "      <th>236402</th>\n",
       "      <td>72658847</td>\n",
       "      <td>89</td>\n",
       "      <td>Müşteri Siparişleri</td>\n",
       "      <td>CN01148A</td>\n",
       "      <td>3</td>\n",
       "      <td>132</td>\n",
       "      <td>C-10001</td>\n",
       "      <td>2020-10-31</td>\n",
       "    </tr>\n",
       "  </tbody>\n",
       "</table>\n",
       "</div>"
      ],
      "text/plain": [
       "        Sipariş Numarası  Sipariş Satırı         Sipariş Tipi  \\\n",
       "146149          72643683              89  Müşteri Siparişleri   \n",
       "161840          72646548              89  Müşteri Siparişleri   \n",
       "217469          72655238              89  Müşteri Siparişleri   \n",
       "236402          72658847              89  Müşteri Siparişleri   \n",
       "\n",
       "       Malzeme Numarası  Sipariş Edilen Miktar  Sku Plt. Standartı Müşteri No  \\\n",
       "146149         61003831                      5                  60    C-10001   \n",
       "161840         FCN01816                     89                 280    C-10096   \n",
       "217469         TR02287A                      1                 225    C-10069   \n",
       "236402         CN01148A                      3                 132    C-10001   \n",
       "\n",
       "       Sipariş Tarihi  \n",
       "146149     2020-07-13  \n",
       "161840     2020-08-07  \n",
       "217469     2020-10-06  \n",
       "236402     2020-10-31  "
      ]
     },
     "execution_count": 10,
     "metadata": {},
     "output_type": "execute_result"
    }
   ],
   "source": [
    "train[train[\"Sipariş Satırı\"]==89]"
   ]
  },
  {
   "cell_type": "code",
   "execution_count": 11,
   "id": "4ce3246b",
   "metadata": {},
   "outputs": [
    {
     "data": {
      "text/plain": [
       "array([   1,    2,    3,    6,    5,    7,    4,   12,   13,   10,   11,\n",
       "          8,    9,   29,   30,   15,   20,   22,   23,   19,   18,   21,\n",
       "         16,   14,   17,   25,   28,   26,   27,   24,   31,   36,   32,\n",
       "         33,   34,   35,   37,   42,   39,   53,   52,   43,   41,   38,\n",
       "         51,   56,   40,   50,   45,   57,   54,   55,   48,   49,   46,\n",
       "         47,   44,   59,   63,   60,   58,   62,   65,   61,   64,   66,\n",
       "         76,   67,   69,   68,   70,   72,   71,   73,   74,   75,   79,\n",
       "         77,   78,   80,   82,   81,   84,   83,   85,   87,   88,   86,\n",
       "         89,   91,   92,   90,   94,   93, 9999], dtype=int64)"
      ]
     },
     "execution_count": 11,
     "metadata": {},
     "output_type": "execute_result"
    }
   ],
   "source": [
    "train[\"Sipariş Satırı\"].unique()"
   ]
  },
  {
   "cell_type": "code",
   "execution_count": 12,
   "id": "d942c85b",
   "metadata": {},
   "outputs": [],
   "source": [
    "train['order_weekday'] =  pd.to_datetime(train['Sipariş Tarihi']).dt.weekday\n",
    "train['order_month'] = pd.to_datetime(train['Sipariş Tarihi']).dt.month\n",
    "train['order_day'] = pd.to_datetime(train['Sipariş Tarihi']).dt.day"
   ]
  },
  {
   "cell_type": "code",
   "execution_count": 13,
   "id": "533779ed",
   "metadata": {},
   "outputs": [],
   "source": [
    "train['Sipariş Satırı'] = train['Sipariş Satırı'].replace(9999, np.nan)\n",
    "train.dropna(inplace=True)"
   ]
  },
  {
   "cell_type": "code",
   "execution_count": 14,
   "id": "2be34b49",
   "metadata": {},
   "outputs": [],
   "source": [
    "order_returns = pd.DataFrame(train.groupby(['Sipariş Numarası'])['Sipariş Satırı'].max()).reset_index()"
   ]
  },
  {
   "cell_type": "code",
   "execution_count": 15,
   "id": "3e41960f",
   "metadata": {},
   "outputs": [],
   "source": [
    "train = pd.merge(train, order_returns, on=['Sipariş Numarası'], how='left')"
   ]
  },
  {
   "cell_type": "code",
   "execution_count": 16,
   "id": "e7b2481b",
   "metadata": {},
   "outputs": [],
   "source": [
    "train = train.rename(columns={'Sipariş Satırı_y': 'Sipariş Toplamı','Sipariş Satırı_x':'Sipariş Satırı'})"
   ]
  },
  {
   "cell_type": "code",
   "execution_count": 17,
   "id": "982d6a6e",
   "metadata": {},
   "outputs": [],
   "source": [
    "sip_df = train[['Müşteri No','Sipariş Numarası','Sipariş Toplamı']].copy()\n",
    "sip_df['tail'] = sip_df.groupby(['Müşteri No','Sipariş Numarası'])['Sipariş Toplamı'].tail(1)"
   ]
  },
  {
   "cell_type": "code",
   "execution_count": 18,
   "id": "92f3933e",
   "metadata": {},
   "outputs": [],
   "source": [
    "sip_df['shifted_sipariş_toplamı'] = sip_df.groupby(['Müşteri No'])['tail'].shift(1)"
   ]
  },
  {
   "cell_type": "code",
   "execution_count": 19,
   "id": "38a6f78b",
   "metadata": {
    "scrolled": true
   },
   "outputs": [
    {
     "data": {
      "text/plain": [
       "0         0.0\n",
       "1         0.0\n",
       "2         0.0\n",
       "3         0.0\n",
       "4         0.0\n",
       "         ... \n",
       "274874    3.0\n",
       "274875    1.0\n",
       "274876    1.0\n",
       "274877    1.0\n",
       "274878    1.0\n",
       "Name: shifted_sipariş_toplamı, Length: 274879, dtype: float64"
      ]
     },
     "execution_count": 19,
     "metadata": {},
     "output_type": "execute_result"
    }
   ],
   "source": [
    "sip_df['shifted_sipariş_toplamı'].fillna(0.0)"
   ]
  },
  {
   "cell_type": "code",
   "execution_count": 20,
   "id": "9d176416",
   "metadata": {},
   "outputs": [
    {
     "data": {
      "text/html": [
       "<div>\n",
       "<style scoped>\n",
       "    .dataframe tbody tr th:only-of-type {\n",
       "        vertical-align: middle;\n",
       "    }\n",
       "\n",
       "    .dataframe tbody tr th {\n",
       "        vertical-align: top;\n",
       "    }\n",
       "\n",
       "    .dataframe thead th {\n",
       "        text-align: right;\n",
       "    }\n",
       "</style>\n",
       "<table border=\"1\" class=\"dataframe\">\n",
       "  <thead>\n",
       "    <tr style=\"text-align: right;\">\n",
       "      <th></th>\n",
       "      <th>Müşteri No</th>\n",
       "      <th>Sipariş Numarası</th>\n",
       "      <th>Sipariş Toplamı</th>\n",
       "      <th>tail</th>\n",
       "      <th>shifted_sipariş_toplamı</th>\n",
       "    </tr>\n",
       "  </thead>\n",
       "  <tbody>\n",
       "    <tr>\n",
       "      <th>0</th>\n",
       "      <td>C-10008</td>\n",
       "      <td>72616887</td>\n",
       "      <td>1.0</td>\n",
       "      <td>1.0</td>\n",
       "      <td>NaN</td>\n",
       "    </tr>\n",
       "    <tr>\n",
       "      <th>1</th>\n",
       "      <td>C-10185</td>\n",
       "      <td>72616888</td>\n",
       "      <td>2.0</td>\n",
       "      <td>NaN</td>\n",
       "      <td>NaN</td>\n",
       "    </tr>\n",
       "    <tr>\n",
       "      <th>2</th>\n",
       "      <td>C-10185</td>\n",
       "      <td>72616888</td>\n",
       "      <td>2.0</td>\n",
       "      <td>2.0</td>\n",
       "      <td>NaN</td>\n",
       "    </tr>\n",
       "    <tr>\n",
       "      <th>3</th>\n",
       "      <td>C-10188</td>\n",
       "      <td>72616889</td>\n",
       "      <td>3.0</td>\n",
       "      <td>NaN</td>\n",
       "      <td>NaN</td>\n",
       "    </tr>\n",
       "    <tr>\n",
       "      <th>4</th>\n",
       "      <td>C-10188</td>\n",
       "      <td>72616889</td>\n",
       "      <td>3.0</td>\n",
       "      <td>NaN</td>\n",
       "      <td>NaN</td>\n",
       "    </tr>\n",
       "    <tr>\n",
       "      <th>...</th>\n",
       "      <td>...</td>\n",
       "      <td>...</td>\n",
       "      <td>...</td>\n",
       "      <td>...</td>\n",
       "      <td>...</td>\n",
       "    </tr>\n",
       "    <tr>\n",
       "      <th>274874</th>\n",
       "      <td>C-10005</td>\n",
       "      <td>72666126</td>\n",
       "      <td>1.0</td>\n",
       "      <td>1.0</td>\n",
       "      <td>3.0</td>\n",
       "    </tr>\n",
       "    <tr>\n",
       "      <th>274875</th>\n",
       "      <td>C-10005</td>\n",
       "      <td>72666165</td>\n",
       "      <td>1.0</td>\n",
       "      <td>1.0</td>\n",
       "      <td>1.0</td>\n",
       "    </tr>\n",
       "    <tr>\n",
       "      <th>274876</th>\n",
       "      <td>C-10005</td>\n",
       "      <td>72666166</td>\n",
       "      <td>1.0</td>\n",
       "      <td>1.0</td>\n",
       "      <td>1.0</td>\n",
       "    </tr>\n",
       "    <tr>\n",
       "      <th>274877</th>\n",
       "      <td>C-10005</td>\n",
       "      <td>72666197</td>\n",
       "      <td>1.0</td>\n",
       "      <td>1.0</td>\n",
       "      <td>1.0</td>\n",
       "    </tr>\n",
       "    <tr>\n",
       "      <th>274878</th>\n",
       "      <td>C-10005</td>\n",
       "      <td>72666198</td>\n",
       "      <td>1.0</td>\n",
       "      <td>1.0</td>\n",
       "      <td>1.0</td>\n",
       "    </tr>\n",
       "  </tbody>\n",
       "</table>\n",
       "<p>274879 rows × 5 columns</p>\n",
       "</div>"
      ],
      "text/plain": [
       "       Müşteri No  Sipariş Numarası  Sipariş Toplamı  tail  \\\n",
       "0         C-10008          72616887              1.0   1.0   \n",
       "1         C-10185          72616888              2.0   NaN   \n",
       "2         C-10185          72616888              2.0   2.0   \n",
       "3         C-10188          72616889              3.0   NaN   \n",
       "4         C-10188          72616889              3.0   NaN   \n",
       "...           ...               ...              ...   ...   \n",
       "274874    C-10005          72666126              1.0   1.0   \n",
       "274875    C-10005          72666165              1.0   1.0   \n",
       "274876    C-10005          72666166              1.0   1.0   \n",
       "274877    C-10005          72666197              1.0   1.0   \n",
       "274878    C-10005          72666198              1.0   1.0   \n",
       "\n",
       "        shifted_sipariş_toplamı  \n",
       "0                           NaN  \n",
       "1                           NaN  \n",
       "2                           NaN  \n",
       "3                           NaN  \n",
       "4                           NaN  \n",
       "...                         ...  \n",
       "274874                      3.0  \n",
       "274875                      1.0  \n",
       "274876                      1.0  \n",
       "274877                      1.0  \n",
       "274878                      1.0  \n",
       "\n",
       "[274879 rows x 5 columns]"
      ]
     },
     "execution_count": 20,
     "metadata": {},
     "output_type": "execute_result"
    }
   ],
   "source": [
    "sip_df"
   ]
  },
  {
   "cell_type": "code",
   "execution_count": 21,
   "id": "28ff17e4",
   "metadata": {},
   "outputs": [],
   "source": [
    "sip_df.drop(columns=[\"Sipariş Toplamı\",\"tail\"],inplace=True)"
   ]
  },
  {
   "cell_type": "code",
   "execution_count": 22,
   "id": "52bd2b3a",
   "metadata": {},
   "outputs": [],
   "source": [
    "sip_df.dropna(subset=[\"shifted_sipariş_toplamı\"],inplace=True)"
   ]
  },
  {
   "cell_type": "code",
   "execution_count": 23,
   "id": "a5684a7f",
   "metadata": {},
   "outputs": [
    {
     "data": {
      "text/html": [
       "<div>\n",
       "<style scoped>\n",
       "    .dataframe tbody tr th:only-of-type {\n",
       "        vertical-align: middle;\n",
       "    }\n",
       "\n",
       "    .dataframe tbody tr th {\n",
       "        vertical-align: top;\n",
       "    }\n",
       "\n",
       "    .dataframe thead th {\n",
       "        text-align: right;\n",
       "    }\n",
       "</style>\n",
       "<table border=\"1\" class=\"dataframe\">\n",
       "  <thead>\n",
       "    <tr style=\"text-align: right;\">\n",
       "      <th></th>\n",
       "      <th>Müşteri No</th>\n",
       "      <th>Sipariş Numarası</th>\n",
       "      <th>shifted_sipariş_toplamı</th>\n",
       "    </tr>\n",
       "  </thead>\n",
       "  <tbody>\n",
       "    <tr>\n",
       "      <th>274852</th>\n",
       "      <td>C-10005</td>\n",
       "      <td>72666039</td>\n",
       "      <td>1.0</td>\n",
       "    </tr>\n",
       "    <tr>\n",
       "      <th>274853</th>\n",
       "      <td>C-10005</td>\n",
       "      <td>72666051</td>\n",
       "      <td>1.0</td>\n",
       "    </tr>\n",
       "    <tr>\n",
       "      <th>274855</th>\n",
       "      <td>C-10005</td>\n",
       "      <td>72666052</td>\n",
       "      <td>2.0</td>\n",
       "    </tr>\n",
       "    <tr>\n",
       "      <th>274857</th>\n",
       "      <td>C-10005</td>\n",
       "      <td>72666053</td>\n",
       "      <td>2.0</td>\n",
       "    </tr>\n",
       "    <tr>\n",
       "      <th>274858</th>\n",
       "      <td>C-10005</td>\n",
       "      <td>72666054</td>\n",
       "      <td>1.0</td>\n",
       "    </tr>\n",
       "    <tr>\n",
       "      <th>274859</th>\n",
       "      <td>C-10005</td>\n",
       "      <td>72666055</td>\n",
       "      <td>1.0</td>\n",
       "    </tr>\n",
       "    <tr>\n",
       "      <th>274860</th>\n",
       "      <td>C-10005</td>\n",
       "      <td>72666056</td>\n",
       "      <td>1.0</td>\n",
       "    </tr>\n",
       "    <tr>\n",
       "      <th>274861</th>\n",
       "      <td>C-10005</td>\n",
       "      <td>72666057</td>\n",
       "      <td>1.0</td>\n",
       "    </tr>\n",
       "    <tr>\n",
       "      <th>274863</th>\n",
       "      <td>C-10005</td>\n",
       "      <td>72666058</td>\n",
       "      <td>2.0</td>\n",
       "    </tr>\n",
       "    <tr>\n",
       "      <th>274864</th>\n",
       "      <td>C-10005</td>\n",
       "      <td>72666059</td>\n",
       "      <td>1.0</td>\n",
       "    </tr>\n",
       "    <tr>\n",
       "      <th>274865</th>\n",
       "      <td>C-10005</td>\n",
       "      <td>72666104</td>\n",
       "      <td>1.0</td>\n",
       "    </tr>\n",
       "    <tr>\n",
       "      <th>274866</th>\n",
       "      <td>C-10005</td>\n",
       "      <td>72666105</td>\n",
       "      <td>1.0</td>\n",
       "    </tr>\n",
       "    <tr>\n",
       "      <th>274868</th>\n",
       "      <td>C-10005</td>\n",
       "      <td>72666106</td>\n",
       "      <td>2.0</td>\n",
       "    </tr>\n",
       "    <tr>\n",
       "      <th>274869</th>\n",
       "      <td>C-10005</td>\n",
       "      <td>72666124</td>\n",
       "      <td>1.0</td>\n",
       "    </tr>\n",
       "    <tr>\n",
       "      <th>274871</th>\n",
       "      <td>C-10005</td>\n",
       "      <td>72666125</td>\n",
       "      <td>2.0</td>\n",
       "    </tr>\n",
       "    <tr>\n",
       "      <th>274874</th>\n",
       "      <td>C-10005</td>\n",
       "      <td>72666126</td>\n",
       "      <td>3.0</td>\n",
       "    </tr>\n",
       "    <tr>\n",
       "      <th>274875</th>\n",
       "      <td>C-10005</td>\n",
       "      <td>72666165</td>\n",
       "      <td>1.0</td>\n",
       "    </tr>\n",
       "    <tr>\n",
       "      <th>274876</th>\n",
       "      <td>C-10005</td>\n",
       "      <td>72666166</td>\n",
       "      <td>1.0</td>\n",
       "    </tr>\n",
       "    <tr>\n",
       "      <th>274877</th>\n",
       "      <td>C-10005</td>\n",
       "      <td>72666197</td>\n",
       "      <td>1.0</td>\n",
       "    </tr>\n",
       "    <tr>\n",
       "      <th>274878</th>\n",
       "      <td>C-10005</td>\n",
       "      <td>72666198</td>\n",
       "      <td>1.0</td>\n",
       "    </tr>\n",
       "  </tbody>\n",
       "</table>\n",
       "</div>"
      ],
      "text/plain": [
       "       Müşteri No  Sipariş Numarası  shifted_sipariş_toplamı\n",
       "274852    C-10005          72666039                      1.0\n",
       "274853    C-10005          72666051                      1.0\n",
       "274855    C-10005          72666052                      2.0\n",
       "274857    C-10005          72666053                      2.0\n",
       "274858    C-10005          72666054                      1.0\n",
       "274859    C-10005          72666055                      1.0\n",
       "274860    C-10005          72666056                      1.0\n",
       "274861    C-10005          72666057                      1.0\n",
       "274863    C-10005          72666058                      2.0\n",
       "274864    C-10005          72666059                      1.0\n",
       "274865    C-10005          72666104                      1.0\n",
       "274866    C-10005          72666105                      1.0\n",
       "274868    C-10005          72666106                      2.0\n",
       "274869    C-10005          72666124                      1.0\n",
       "274871    C-10005          72666125                      2.0\n",
       "274874    C-10005          72666126                      3.0\n",
       "274875    C-10005          72666165                      1.0\n",
       "274876    C-10005          72666166                      1.0\n",
       "274877    C-10005          72666197                      1.0\n",
       "274878    C-10005          72666198                      1.0"
      ]
     },
     "execution_count": 23,
     "metadata": {},
     "output_type": "execute_result"
    }
   ],
   "source": [
    "sip_df.tail(20)"
   ]
  },
  {
   "cell_type": "code",
   "execution_count": 24,
   "id": "b0585c7b",
   "metadata": {},
   "outputs": [],
   "source": [
    "train = pd.merge(train, sip_df, on=['Müşteri No','Sipariş Numarası'], how='left')"
   ]
  },
  {
   "cell_type": "code",
   "execution_count": 25,
   "id": "038cdf5f",
   "metadata": {},
   "outputs": [],
   "source": [
    "train.dropna(subset=[\"shifted_sipariş_toplamı\"],inplace=True)"
   ]
  },
  {
   "cell_type": "code",
   "execution_count": 29,
   "id": "4e6eb6c0",
   "metadata": {},
   "outputs": [
    {
     "data": {
      "text/plain": [
       "array(['C-10198', 'C-10008', 'C-10085', 'C-10189', 'C-10023', 'C-10007',\n",
       "       'C-10040', 'C-10017', 'C-10065', 'C-10109', 'C-10134', 'C-10010',\n",
       "       'C-10159', 'C-10036', 'C-10124', 'C-10011', 'C-10199', 'C-10175',\n",
       "       'C-10077', 'C-10163', 'C-10047', 'C-10025', 'C-10037', 'C-10045',\n",
       "       'C-10139', 'C-10046', 'C-10004', 'C-10133', 'C-10009', 'C-10050',\n",
       "       'C-10038', 'C-10087', 'C-10028', 'C-10012', 'C-10042', 'C-10013',\n",
       "       'C-10003', 'C-10006', 'C-10035', 'C-10138', 'C-10090', 'C-10016',\n",
       "       'C-10031', 'C-10032', 'C-10041', 'C-10043', 'C-10071', 'C-10123',\n",
       "       'C-10131', 'C-10020', 'C-10021', 'C-10015', 'C-10137', 'C-10014',\n",
       "       'C-10019', 'C-10018', 'C-10001', 'C-10029', 'C-10078', 'C-10005',\n",
       "       'C-10221', 'C-10030', 'C-10070', 'C-10067', 'C-10060', 'C-10057',\n",
       "       'C-10075', 'C-10058', 'C-10054', 'C-10211', 'C-10056', 'C-10072',\n",
       "       'C-10110', 'C-10089', 'C-10105', 'C-10053', 'C-10059', 'C-10082',\n",
       "       'C-10063', 'C-10197', 'C-10091', 'C-10185', 'C-10166', 'C-10145',\n",
       "       'C-10129', 'C-10022', 'C-10052', 'C-10122', 'C-10051', 'C-10096',\n",
       "       'C-10039', 'C-10069', 'C-10088', 'C-10049', 'C-10086', 'C-10064',\n",
       "       'C-10044', 'C-10068', 'C-10026', 'C-10061', 'C-10079', 'C-10066',\n",
       "       'C-10121', 'C-10102', 'C-10033', 'C-10076', 'C-10146', 'C-10112',\n",
       "       'C-10034', 'C-10081', 'C-10148', 'C-10101', 'C-10194', 'C-10132',\n",
       "       'C-10095', 'C-10173', 'C-10160', 'C-10024', 'C-10180', 'C-10104',\n",
       "       'C-10172', 'C-10108', 'C-10119', 'C-10125', 'C-10048', 'C-10098',\n",
       "       'C-10080', 'C-10100', 'C-10062', 'C-10154', 'C-10176', 'C-10208',\n",
       "       'C-10209', 'C-10219', 'C-10225', 'C-10103', 'C-10099', 'C-10055',\n",
       "       'C-10233', 'C-10188', 'C-10135', 'C-10186', 'C-10174', 'C-10207',\n",
       "       'C-10227', 'C-10224', 'C-10217', 'C-10117', 'C-10107', 'C-10111',\n",
       "       'C-10136', 'C-10164', 'C-10179', 'C-10083', 'C-10074', 'C-10118',\n",
       "       'C-10097', 'C-10228', 'C-10114', 'C-10116', 'C-10115', 'C-10092',\n",
       "       'C-10143', 'C-10223', 'C-10027', 'C-10158', 'C-10140', 'C-10191',\n",
       "       'C-10212', 'C-10151', 'C-10093', 'C-10178', 'C-10168', 'C-10142',\n",
       "       'C-10153', 'C-10152', 'C-10171', 'C-10184', 'C-10187', 'C-10149',\n",
       "       'C-10147', 'C-10165', 'C-10181', 'C-10157', 'C-10155', 'C-10177',\n",
       "       'C-10203', 'C-10150', 'C-10182', 'C-10205', 'C-10161', 'C-10206',\n",
       "       'C-10144', 'C-10183', 'C-10128', 'C-10226', 'C-10169', 'C-10190',\n",
       "       'C-10214', 'C-10196', 'C-10193', 'C-10084', 'C-10094', 'C-10167',\n",
       "       'C-10141', 'C-10192', 'C-10170', 'C-10156', 'C-10073', 'C-10202',\n",
       "       'C-10113', 'C-10195', 'C-10120', 'C-10162', 'C-10126', 'C-10106',\n",
       "       'C-10127', 'C-10237', 'C-10218', 'C-10201', 'C-10222', 'C-10204',\n",
       "       'C-10200', 'C-10246', 'C-10243', 'C-10242', 'C-10245', 'C-10234',\n",
       "       'C-10216', 'C-10229', 'C-10238', 'C-10213', 'C-10239', 'C-10240',\n",
       "       'C-10210', 'C-10231', 'C-10220', 'C-10236', 'C-10235', 'C-10130',\n",
       "       'C-10230', 'C-10215', 'C-10232', 'C-10248', 'C-10252', 'C-10253',\n",
       "       'C-10250', 'C-10255', 'C-10249', 'C-10244', 'C-10256', 'C-10254',\n",
       "       'C-10258', 'C-10259', 'C-10260', 'C-10251', 'C-10261', 'C-10263',\n",
       "       'C-10272', 'C-10267', 'C-10273', 'C-10257', 'C-10277', 'C-10269',\n",
       "       'C-10266', 'C-10268', 'C-10270', 'C-10271', 'C-10276', 'C-10262',\n",
       "       'C-10264', 'C-10275', 'C-10279', 'C-10278', 'C-10280', 'C-10241',\n",
       "       'C-10281'], dtype=object)"
      ]
     },
     "execution_count": 29,
     "metadata": {},
     "output_type": "execute_result"
    }
   ],
   "source": [
    "train['Müşteri No'].unique()"
   ]
  },
  {
   "cell_type": "code",
   "execution_count": 30,
   "id": "6c8b6bfc",
   "metadata": {},
   "outputs": [],
   "source": [
    "label = ['Sipariş Edilen Miktar']\n",
    "\n",
    "categorical_str = [\n",
    "'Sipariş Tipi',\n",
    "'Müşteri No',\n",
    "'Malzeme Numarası'\n",
    "] \n",
    "\n",
    "categorical_int = [\n",
    "'Sku Plt. Standartı',\n",
    "'order_month',\n",
    "'order_weekday',\n",
    "'order_day'\n",
    "]\n",
    "\n",
    "numerical = [\n",
    "'Sipariş Toplamı',\n",
    "'Sipariş Satırı',\n",
    "'shifted_sipariş_toplamı'\n",
    "]\n",
    "\n",
    "drops = [\n",
    "'Sipariş Numarası',\n",
    "'Sipariş Tarihi']"
   ]
  },
  {
   "cell_type": "code",
   "execution_count": 31,
   "id": "d3674338",
   "metadata": {},
   "outputs": [],
   "source": [
    "merged_train = train[categorical_str+categorical_int+numerical+label]"
   ]
  },
  {
   "cell_type": "code",
   "execution_count": 32,
   "id": "bf27b6dd",
   "metadata": {
    "scrolled": false
   },
   "outputs": [
    {
     "data": {
      "image/png": "[encoded data removed]",
      "text/plain": [
       "<Figure size 1152x864 with 2 Axes>"
      ]
     },
     "metadata": {
      "needs_background": "light"
     },
     "output_type": "display_data"
    }
   ],
   "source": [
    "matrix = merged_train.corr().abs()\n",
    "\n",
    "# Create a mask\n",
    "mask = np.triu(np.ones_like(matrix, dtype=bool))\n",
    "\n",
    "# Create a custom diverging palette\n",
    "cmap = sns.diverging_palette(250, 15, s=75, l=40, n=9, center=\"light\", as_cmap=True)\n",
    "plt.figure(figsize=(16, 12))\n",
    "sns.heatmap(matrix, mask=mask, center=0, annot=True, fmt='.2f', square=True, cmap='crest')\n",
    "\n",
    "plt.show();"
   ]
  },
  {
   "cell_type": "code",
   "execution_count": 33,
   "id": "f86d3efb",
   "metadata": {},
   "outputs": [],
   "source": [
    "def create_pipeline_rf():\n",
    "    \n",
    "    numeric_transformer = Pipeline(steps=[\n",
    "        ('scaler', StandardScaler())])\n",
    "    \n",
    "\n",
    "    categorical_str_transformer = Pipeline(steps=[\n",
    "        ('one-hot', OneHotEncoder(handle_unknown='ignore'))])\n",
    "    \n",
    "\n",
    "    categorical_int_transformer = Pipeline(steps=[\n",
    "        ('one-hot', OneHotEncoder(handle_unknown='ignore'))])\n",
    "    \n",
    "\n",
    "    preprocessor = ColumnTransformer(\n",
    "                                    transformers=[\n",
    "                                                  ('num1', numeric_transformer, numerical),\n",
    "                                                  \n",
    "                                                  ('cat_str1', categorical_str_transformer, categorical_str),\n",
    "                                                  \n",
    "                                                  ('cat_int1', categorical_int_transformer, categorical_int),\n",
    "                                                  ])\n",
    "\n",
    "    pipeline = Pipeline(steps=[('preprocessor', preprocessor),\n",
    "                          ('regressor',XGBRegressor(gamma = 0.05, learning_rate= 0.1, max_depth=5,\n",
    "                                                     n_estimators= 1000, n_jobs= 8, objective= 'reg:squarederror',\n",
    "                                                     reg_alpha= 0.5, reg_lambda= 1, scale_pos_weight=1, subsample= 1.0))])\n",
    "    \n",
    "    return pipeline"
   ]
  },
  {
   "cell_type": "code",
   "execution_count": 34,
   "id": "6d7c616f",
   "metadata": {},
   "outputs": [],
   "source": [
    "def rmse(predictions, targets):\n",
    "    return np.sqrt(((predictions - targets) ** 2).mean())"
   ]
  },
  {
   "cell_type": "code",
   "execution_count": 35,
   "id": "0457e968",
   "metadata": {},
   "outputs": [
    {
     "name": "stderr",
     "output_type": "stream",
     "text": [
      "C:\\Users\\Salih\\anaconda3\\lib\\site-packages\\sklearn\\model_selection\\_split.py:666: UserWarning: The least populated class in y has only 1 members, which is less than n_splits=5.\n",
      "  warnings.warn((\"The least populated class in y has only %d\"\n"
     ]
    },
    {
     "name": "stdout",
     "output_type": "stream",
     "text": [
      "R2 score:0.6806589761359918, RMSE:76.23160684012086\n"
     ]
    }
   ],
   "source": [
    "y = merged_train['Sipariş Edilen Miktar']\n",
    "X = merged_train[categorical_str+categorical_int+numerical]\n",
    "\n",
    "X_train, X_test, y_train, y_test = train_test_split(X, y, test_size=0.20, random_state=15)\n",
    "\n",
    "pipe1 = create_pipeline_rf()\n",
    "pipe1.fit(X_train, y_train)\n",
    "preds = pipe1.predict(X_test)\n",
    "\n",
    "cv = StratifiedKFold(n_splits=5, shuffle=True, random_state=1)\n",
    "scores = cross_validate(pipe1, X, y, scoring=('r2', 'neg_mean_squared_error'), n_jobs=-1, \n",
    "                        return_estimator=True, return_train_score=True, cv=cv)\n",
    "\n",
    "print(\"R2 score:{}, RMSE:{}\".format(np.mean(scores[\"test_r2\"]),np.mean(np.sqrt(-scores['test_neg_mean_squared_error']))))"
   ]
  },
  {
   "cell_type": "code",
   "execution_count": 36,
   "id": "6a1a71d6",
   "metadata": {},
   "outputs": [
    {
     "ename": "NameError",
     "evalue": "name 'aa' is not defined",
     "output_type": "error",
     "traceback": [
      "\u001b[1;31m---------------------------------------------------------------------------\u001b[0m",
      "\u001b[1;31mNameError\u001b[0m                                 Traceback (most recent call last)",
      "\u001b[1;32m~\\AppData\\Local\\Temp/ipykernel_14096/1344060039.py\u001b[0m in \u001b[0;36m<module>\u001b[1;34m\u001b[0m\n\u001b[1;32m----> 1\u001b[1;33m \u001b[0maa\u001b[0m\u001b[1;33m\u001b[0m\u001b[1;33m\u001b[0m\u001b[0m\n\u001b[0m",
      "\u001b[1;31mNameError\u001b[0m: name 'aa' is not defined"
     ]
    }
   ],
   "source": [
    "aa"
   ]
  },
  {
   "cell_type": "code",
   "execution_count": 61,
   "id": "69cb8804",
   "metadata": {},
   "outputs": [
    {
     "data": {
      "image/png": "[encoded data removed]",
      "text/plain": [
       "<Figure size 720x504 with 1 Axes>"
      ]
     },
     "metadata": {
      "needs_background": "light"
     },
     "output_type": "display_data"
    }
   ],
   "source": [
    "from sklearn.inspection import permutation_importance\n",
    "\n",
    "result = permutation_importance(pipe1, X_test, y_test, n_repeats=10,\n",
    "                                random_state=42, n_jobs=2)\n",
    "sorted_idx = result.importances_mean.argsort()\n",
    "\n",
    "fig, ax = plt.subplots(figsize=(10,7))\n",
    "ax.boxplot(result.importances[sorted_idx].T,\n",
    "           vert=False, labels=X_test.columns[sorted_idx])\n",
    "ax.set_title(\"Permutation Importances (test set)\")\n",
    "fig.tight_layout()\n",
    "plt.show()"
   ]
  },
  {
   "cell_type": "code",
   "execution_count": null,
   "id": "800e163d",
   "metadata": {},
   "outputs": [],
   "source": [
    "import phik\n",
    "phik_overview = merged_train.phik_matrix()\n",
    "\n",
    "matrix = phik_overview.abs()\n",
    "\n",
    "# Create a mask\n",
    "mask = np.triu(np.ones_like(matrix, dtype=bool))\n",
    "\n",
    "# Create a custom diverging palette\n",
    "cmap = sns.diverging_palette(250, 15, s=75, l=40, n=9, center=\"light\", as_cmap=True)\n",
    "plt.figure(figsize=(18, 12))\n",
    "sns.heatmap(matrix[matrix>0.5], mask=mask, center=0, annot=True, fmt='.2f', square=True, cmap='Dark2_r')\n",
    "\n",
    "plt.show();"
   ]
  },
  {
   "cell_type": "code",
   "execution_count": null,
   "id": "250a6786",
   "metadata": {},
   "outputs": [],
   "source": [
    "sampled_data = merged_train.sample(n=50000, random_state=1)"
   ]
  },
  {
   "cell_type": "code",
   "execution_count": null,
   "id": "f434c265",
   "metadata": {},
   "outputs": [],
   "source": [
    "sampled_data"
   ]
  },
  {
   "cell_type": "code",
   "execution_count": null,
   "id": "326a7b09",
   "metadata": {},
   "outputs": [],
   "source": [
    "def create_pipeline(reg_name, reg_object):\n",
    "    \n",
    "    numeric_transformer = Pipeline(steps=[\n",
    "        ('scaler', StandardScaler())])\n",
    "    \n",
    "\n",
    "    categorical_str_transformer = Pipeline(steps=[\n",
    "        ('one-hot', OneHotEncoder(handle_unknown='ignore'))])\n",
    "    \n",
    "\n",
    "    categorical_int_transformer = Pipeline(steps=[\n",
    "        ('one-hot', OneHotEncoder(handle_unknown='ignore'))])\n",
    "    \n",
    "\n",
    "    preprocessor = ColumnTransformer(\n",
    "                                    transformers=[\n",
    "                                                  ('num1', numeric_transformer, numerical),\n",
    "                                                  \n",
    "                                                  ('cat_str1', categorical_str_transformer, categorical_str),\n",
    "                                                  \n",
    "                                                  ('cat_int1', categorical_int_transformer, categorical_int),\n",
    "                                                  ])\n",
    "\n",
    "    pipeline = Pipeline(steps=[('preprocessor', preprocessor),\n",
    "                          (reg_name, reg_object)])\n",
    "    \n",
    "    return pipeline"
   ]
  },
  {
   "cell_type": "code",
   "execution_count": null,
   "id": "8aad0459",
   "metadata": {},
   "outputs": [],
   "source": [
    "regressors = {\n",
    "    \"XGBRegressor\": XGBRegressor(),\n",
    "    \"RandomForestRegressor\": RandomForestRegressor(),\n",
    "    \"DecisionTreeRegressor\": DecisionTreeRegressor(),\n",
    "    \"SVR\": SVR(),\n",
    "    \"LinearSVR\": LinearSVR(),\n",
    "    \"LinearRegression\": LinearRegression(),\n",
    "    \"Ridge\":Ridge()\n",
    "}"
   ]
  },
  {
   "cell_type": "code",
   "execution_count": null,
   "id": "d1ee909c",
   "metadata": {},
   "outputs": [],
   "source": [
    "df_models = pd.DataFrame(columns=['model', 'run_time', 'rmse', 'rmse_cv'])\n",
    "y = sampled_data['Sipariş Edilen Miktar']\n",
    "X = sampled_data[categorical_str+categorical_int+numerical]\n",
    "X_train, X_test, y_train, y_test = train_test_split(X, y, test_size=0.20, random_state=1)\n",
    "for value, key in regressors.items():\n",
    "\n",
    "    print('*',value, key)\n",
    "\n",
    "    start_time = time.time()\n",
    "    \n",
    "    \n",
    "    pipe2 = create_pipeline(value,key)\n",
    "    pipe2.fit(X_train, y_train)\n",
    "    y_pred = pipe2.predict(X_test)\n",
    "    \n",
    "    cv = StratifiedKFold(n_splits=5, shuffle=True, random_state=1)\n",
    "    scores = cross_validate(pipe2, X, y, scoring=('r2', 'neg_mean_squared_error'), n_jobs=-1, \n",
    "                        return_estimator=True, return_train_score=True, cv=cv)\n",
    "    \"\"\"scores = cross_val_score(pipe2, \n",
    "                             X_train, \n",
    "                             y_train,\n",
    "                             scoring=\"neg_root_mean_squared_error\", \n",
    "                             cv=5)\"\"\"\n",
    "\n",
    " \n",
    "\n",
    "    row = {'model': key,\n",
    "           'run_time': format(scores['fit_time']),\n",
    "           'train_r2': scores['train_r2'],\n",
    "           'test_r2': scores['test_r2'],\n",
    "           'rmse': scores['test_neg_mean_squared_error'],\n",
    "           'rmse_cv': np.mean(np.sqrt(-scores['test_neg_mean_squared_error']))\n",
    "    }\n",
    "\n",
    "    df_models = df_models.append(row, ignore_index=True)"
   ]
  },
  {
   "cell_type": "code",
   "execution_count": null,
   "id": "423e84b7",
   "metadata": {},
   "outputs": [],
   "source": [
    "df_models.head(20).sort_values(by='rmse_cv', ascending=True)"
   ]
  },
  {
   "cell_type": "markdown",
   "id": "8f08e8fe",
   "metadata": {},
   "source": [
    "#### Hyperparameter Tuning for XGBRegressor"
   ]
  },
  {
   "cell_type": "code",
   "execution_count": null,
   "id": "9e600139",
   "metadata": {
    "scrolled": false
   },
   "outputs": [],
   "source": [
    "pipe1[1].get_params()"
   ]
  },
  {
   "cell_type": "code",
   "execution_count": null,
   "id": "07ee94fd",
   "metadata": {},
   "outputs": [],
   "source": [
    "param_grid = dict(\n",
    "    n_jobs=[8],\n",
    "    learning_rate=[0.1, 0.5],\n",
    "    objective=['reg:squarederror'],\n",
    "    max_depth=[5, 10, 15], \n",
    "    n_estimators=[100, 500, 1000],\n",
    "    subsample=[0.2, 0.8, 1.0],\n",
    "    gamma=[0.05, 0.5],\n",
    "    scale_pos_weight=[0, 1],\n",
    "    reg_alpha=[0, 0.5],\n",
    "    reg_lambda=[1, 0],\n",
    ")"
   ]
  },
  {
   "cell_type": "code",
   "execution_count": null,
   "id": "4df63caf",
   "metadata": {},
   "outputs": [],
   "source": [
    "def prepare_param_grid(params):\n",
    "    \n",
    "    param_grid = {}\n",
    "    for key, value in params.items():\n",
    "        new_key = 'regressor__' + key \n",
    "        param_grid[new_key] = value\n",
    "    return param_grid"
   ]
  },
  {
   "cell_type": "code",
   "execution_count": null,
   "id": "27d41454",
   "metadata": {},
   "outputs": [],
   "source": [
    "from sklearn.experimental import enable_halving_search_cv\n",
    "from sklearn.model_selection import HalvingGridSearchCV\n",
    "halving_grid_search = HalvingGridSearchCV(estimator=pipe1,\n",
    "                           param_grid=prepare_param_grid(param_grid),\n",
    "                           scoring='neg_root_mean_squared_error', n_jobs=-1\n",
    "                           )\n",
    "\n",
    "best_model = halving_grid_search.fit(X_train, y_train)\n",
    "print('Optimum parameters', best_model.best_params_)"
   ]
  },
  {
   "cell_type": "markdown",
   "id": "957b22ac",
   "metadata": {},
   "source": [
    "## Test"
   ]
  },
  {
   "cell_type": "code",
   "execution_count": 37,
   "id": "18366644",
   "metadata": {},
   "outputs": [],
   "source": [
    "test['order_weekday'] =  pd.to_datetime(test['Sipariş Tarihi']).dt.weekday\n",
    "test['order_month'] = pd.to_datetime(test['Sipariş Tarihi']).dt.month\n",
    "test['order_day'] = pd.to_datetime(test['Sipariş Tarihi']).dt.day"
   ]
  },
  {
   "cell_type": "code",
   "execution_count": 38,
   "id": "9ac56598",
   "metadata": {},
   "outputs": [],
   "source": [
    "test['Sipariş Satırı'] = test['Sipariş Satırı'].replace(9999, np.nan)\n",
    "test.dropna(inplace=True)"
   ]
  },
  {
   "cell_type": "code",
   "execution_count": 39,
   "id": "dd4ab79c",
   "metadata": {},
   "outputs": [],
   "source": [
    "order_returns = pd.DataFrame(test.groupby(['Sipariş Numarası'])['Sipariş Satırı'].max()).reset_index()\n",
    "test = pd.merge(test, order_returns, on=['Sipariş Numarası'], how='left')\n",
    "test = test.rename(columns={'Sipariş Satırı_y': 'Sipariş Toplamı','Sipariş Satırı_x':'Sipariş Satırı'})"
   ]
  },
  {
   "cell_type": "code",
   "execution_count": 40,
   "id": "b9438b5d",
   "metadata": {},
   "outputs": [
    {
     "data": {
      "text/plain": [
       "0         0.0\n",
       "1         0.0\n",
       "2         0.0\n",
       "3         0.0\n",
       "4         0.0\n",
       "         ... \n",
       "46587     0.0\n",
       "46588    15.0\n",
       "46589     0.0\n",
       "46590    16.0\n",
       "46591     0.0\n",
       "Name: shifted_sipariş_toplamı, Length: 46592, dtype: float64"
      ]
     },
     "execution_count": 40,
     "metadata": {},
     "output_type": "execute_result"
    }
   ],
   "source": [
    "sip_df = test[['Müşteri No','Sipariş Numarası','Sipariş Toplamı']].copy()\n",
    "sip_df['tail'] = sip_df.groupby(['Müşteri No','Sipariş Numarası'])['Sipariş Toplamı'].tail(1)\n",
    "sip_df['shifted_sipariş_toplamı'] = sip_df.groupby(['Müşteri No'])['tail'].shift(1)\n",
    "sip_df['shifted_sipariş_toplamı'].fillna(0.0)"
   ]
  },
  {
   "cell_type": "code",
   "execution_count": 41,
   "id": "6f227b81",
   "metadata": {},
   "outputs": [],
   "source": [
    "sip_df.drop(columns=[\"Sipariş Toplamı\",\"tail\"],inplace=True)\n",
    "sip_df.dropna(subset=[\"shifted_sipariş_toplamı\"],inplace=True)"
   ]
  },
  {
   "cell_type": "code",
   "execution_count": 42,
   "id": "ba1f25a3",
   "metadata": {},
   "outputs": [],
   "source": [
    "test = pd.merge(test, sip_df, on=['Müşteri No','Sipariş Numarası'], how='left')\n",
    "test.dropna(subset=[\"shifted_sipariş_toplamı\"],inplace=True)"
   ]
  },
  {
   "cell_type": "code",
   "execution_count": 47,
   "id": "69671658",
   "metadata": {},
   "outputs": [],
   "source": [
    "merged_test = test[categorical_str+categorical_int+numerical]"
   ]
  },
  {
   "cell_type": "code",
   "execution_count": 45,
   "id": "702c53aa",
   "metadata": {},
   "outputs": [],
   "source": [
    "def create_pipeline_test():\n",
    "    \n",
    "    numeric_transformer = Pipeline(steps=[\n",
    "        ('scaler', StandardScaler())])\n",
    "    \n",
    "\n",
    "    categorical_str_transformer = Pipeline(steps=[\n",
    "        ('one-hot', OneHotEncoder(handle_unknown='ignore'))])\n",
    "    \n",
    "\n",
    "    categorical_int_transformer = Pipeline(steps=[\n",
    "        ('one-hot', OneHotEncoder(handle_unknown='ignore'))])\n",
    "    \n",
    "\n",
    "    preprocessor = ColumnTransformer(\n",
    "                                    transformers=[\n",
    "                                                  ('num1', numeric_transformer, numerical),\n",
    "                                                  \n",
    "                                                  ('cat_str1', categorical_str_transformer, categorical_str),\n",
    "                                                  \n",
    "                                                  ('cat_int1', categorical_int_transformer, categorical_int),\n",
    "                                                  ])\n",
    "\n",
    "    pipeline = Pipeline(steps=[('preprocessor', preprocessor),\n",
    "                          ('regressor',XGBRegressor(gamma = 0.05, learning_rate= 0.1, max_depth=5,\n",
    "                                                     n_estimators= 1000, n_jobs= 8, objective= 'reg:squarederror',\n",
    "                                                     reg_alpha= 0.5, reg_lambda= 1, scale_pos_weight=1, subsample= 1.0))])\n",
    "    \n",
    "    return pipeline"
   ]
  },
  {
   "cell_type": "code",
   "execution_count": 46,
   "id": "6fefa8bb",
   "metadata": {},
   "outputs": [
    {
     "name": "stdout",
     "output_type": "stream",
     "text": [
      "[ 33.35295   112.71699    59.781082  ...   1.289927    4.1898046\n",
      "   2.9065795]\n"
     ]
    }
   ],
   "source": [
    "y = merged_train['Sipariş Edilen Miktar']\n",
    "X = merged_train[categorical_str+categorical_int+numerical]\n",
    "\n",
    "pipe1 = create_pipeline_test()\n",
    "pipe1.fit(X, y)\n",
    "preds = pipe1.predict(merged_test)\n",
    "\n",
    "print(preds)"
   ]
  },
  {
   "cell_type": "code",
   "execution_count": 60,
   "id": "9756ca6f",
   "metadata": {
    "scrolled": true
   },
   "outputs": [
    {
     "data": {
      "text/html": [
       "<div>\n",
       "<style scoped>\n",
       "    .dataframe tbody tr th:only-of-type {\n",
       "        vertical-align: middle;\n",
       "    }\n",
       "\n",
       "    .dataframe tbody tr th {\n",
       "        vertical-align: top;\n",
       "    }\n",
       "\n",
       "    .dataframe thead th {\n",
       "        text-align: right;\n",
       "    }\n",
       "</style>\n",
       "<table border=\"1\" class=\"dataframe\">\n",
       "  <thead>\n",
       "    <tr style=\"text-align: right;\">\n",
       "      <th></th>\n",
       "      <th>0</th>\n",
       "    </tr>\n",
       "  </thead>\n",
       "  <tbody>\n",
       "    <tr>\n",
       "      <th>0</th>\n",
       "      <td>33.0</td>\n",
       "    </tr>\n",
       "    <tr>\n",
       "      <th>1</th>\n",
       "      <td>113.0</td>\n",
       "    </tr>\n",
       "    <tr>\n",
       "      <th>2</th>\n",
       "      <td>60.0</td>\n",
       "    </tr>\n",
       "    <tr>\n",
       "      <th>3</th>\n",
       "      <td>34.0</td>\n",
       "    </tr>\n",
       "    <tr>\n",
       "      <th>4</th>\n",
       "      <td>54.0</td>\n",
       "    </tr>\n",
       "    <tr>\n",
       "      <th>...</th>\n",
       "      <td>...</td>\n",
       "    </tr>\n",
       "    <tr>\n",
       "      <th>73358</th>\n",
       "      <td>1.0</td>\n",
       "    </tr>\n",
       "    <tr>\n",
       "      <th>73359</th>\n",
       "      <td>3.0</td>\n",
       "    </tr>\n",
       "    <tr>\n",
       "      <th>73360</th>\n",
       "      <td>1.0</td>\n",
       "    </tr>\n",
       "    <tr>\n",
       "      <th>73361</th>\n",
       "      <td>4.0</td>\n",
       "    </tr>\n",
       "    <tr>\n",
       "      <th>73362</th>\n",
       "      <td>3.0</td>\n",
       "    </tr>\n",
       "  </tbody>\n",
       "</table>\n",
       "<p>73363 rows × 1 columns</p>\n",
       "</div>"
      ],
      "text/plain": [
       "           0\n",
       "0       33.0\n",
       "1      113.0\n",
       "2       60.0\n",
       "3       34.0\n",
       "4       54.0\n",
       "...      ...\n",
       "73358    1.0\n",
       "73359    3.0\n",
       "73360    1.0\n",
       "73361    4.0\n",
       "73362    3.0\n",
       "\n",
       "[73363 rows x 1 columns]"
      ]
     },
     "execution_count": 60,
     "metadata": {},
     "output_type": "execute_result"
    }
   ],
   "source": [
    "pd.DataFrame(preds)"
   ]
  }
 ],
 "metadata": {
  "kernelspec": {
   "display_name": "Python 3 (ipykernel)",
   "language": "python",
   "name": "python3"
  },
  "language_info": {
   "codemirror_mode": {
    "name": "ipython",
    "version": 3
   },
   "file_extension": ".py",
   "mimetype": "text/x-python",
   "name": "python",
   "nbconvert_exporter": "python",
   "pygments_lexer": "ipython3",
   "version": "3.8.12"
  }
 },
 "nbformat": 4,
 "nbformat_minor": 5
}
