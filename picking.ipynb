{
 "cells": [
  {
   "cell_type": "markdown",
   "metadata": {},
   "source": [
    "# notlar"
   ]
  },
  {
   "cell_type": "markdown",
   "metadata": {},
   "source": [
    "### Varsayımlar:"
   ]
  },
  {
   "cell_type": "markdown",
   "metadata": {},
   "source": [
    "1. Bütün orderlar aynı boyutta ve aynı ağırlıktadır. \n",
    "2. Her bir wave'de en fazla 8 farklı malzeme toplanabilir. Wave'ler için bir kapasite kısıtı yoktur.\n",
    "3. O1 tipi siparişler için günlük toplama kapasitesi 25.000, O2 tipi için ise 175.000'dir.\n",
    "4. Toplanması gereken miktarlar için 'datathon_picking' dosyasındaki 'Toplanan Miktar' sütunu baz alınmıştır\n",
    "5. Siparişler günün başlangıcında alınır (08.00), teslimatlar gün sonunda yapılır (18:00).\n",
    "6. Gelecek günlerden sipariş toplaması yapılabilir.\n",
    "7. Aynı wave içerisinde farklı orderdan ürünler bulunabileceği gibi, aynı orderdan malzemeler farklı wavelerde bulunabilir. Paketleme sürecinde sipariş düzenleme işleminin halledildiği varsayılmaktadır. \n",
    "8. Bir sipariş içerisindeki bir sipariş kaleminde bulunan malzemeler bölünemez. (örn. 111 nolu siparişin 2 nolu kalemi A malz. 30 adet, bu farklı wavelerde toplanacak şekilde bölünemez.)\n",
    "9. Gerçek hayatta thminler ne kadar iyi de olsa güvenilmez olduğu i  n sadece tahminlere göre topla/toplama kararı verilmiş, kesin siparişler harici tahminler üzerinden toplama yapılmamıştır. "
   ]
  },
  {
   "cell_type": "markdown",
   "metadata": {},
   "source": [
    "### Toplama algoritması adımları:"
   ]
  },
  {
   "cell_type": "markdown",
   "metadata": {},
   "source": [
    "##### Terminoloji:"
   ]
  },
  {
   "cell_type": "markdown",
   "metadata": {},
   "source": [
    "- wave : bir toplama operasyonudur, en fazla 8 farklı ürün içerebilir, kapasite kısıtı yoktur.                   \n",
    "- checklist : kesinleşmiş siparişler listesidir.               \n",
    "- must_pick : o gün toplanması gereken siparişler listesidir. Bütün siparişler en geç sevk tarihinde toplanmaktadır.           "
   ]
  },
  {
   "cell_type": "markdown",
   "metadata": {},
   "source": [
    "##### Adımlar"
   ]
  },
  {
   "cell_type": "markdown",
   "metadata": {},
   "source": [
    "Her bir gün için yap:\n",
    "\n",
    "    1. O gün gelen siparişleri ve varsa henüz teslim edilmemiş eski siparişleri checklist'e ekle\n",
    "\n",
    "    2. Checklist'te bulunan ve o gün teslim edilmesi gereken siparişleri must_pick listesine ekle ve checklist'ten must_pick listesini çıkar.\n",
    "\n",
    "    3. Must_pick listesini topla\n",
    "        3.0 must_pick listesini malzeme numarasına göre sırala\n",
    "        3.1 Günlük kapasiteye kadar olan siparişleri 'normal' tipte topla\n",
    "        3.2 Günlük kapasite üzeri siparişleri 'overwork' olarak topla\n",
    "\n",
    "    4. Eğer wave'lerde boş yer kaldıysa ve günlük kapasite dolmadıysa ekstra toplama yap (wave kısıtı 8 farklı malzeme toplamak olduğu için bu doldurulana kadar toplama yapılabilir.)\n",
    "        4.0 checklist'i aynı tipteki materyaller ve diğerleri olarak ayır ve teslim tarihine göre sırala\n",
    "        4.1 checklist'te kalan aynı tipteki malzemeleri topla (wave'i efektif kullanmak adına)\n",
    "        4.2 Hala yer kaldıysa checklist'te bulunan en yakın tarihli malzeleri bul. Eğer bu malzemeler için teslim tarihinden önce yeni bir sipariş gelmesi beklenmiyorsa (tahminleri kullanarak) günlük kısıtı aşmayacak şekilde topla.\n",
    "\n",
    "    5. Hala günlük kapasite varsa ekstra toplama yap\n",
    "        5.0 checklist'i kontrol ederek gelecek günlerde bir darboğaz olup olmayacağını kontrol et.\n",
    "        5.1 Eğer darboğaz varsa günlük kısıtı aşmayacak şekilde toplama yapmaya devam et.\n",
    "\n",
    "    6. Sonuçları yazdır."
   ]
  },
  {
   "cell_type": "markdown",
   "metadata": {},
   "source": [
    "### can be improved by:\n",
    "\n",
    "1. balance the workload, not 10,1,3,22 waves for 4 days, should be 8,9,9,10\n",
    "2. minimize the workload for sunday\n",
    "3. add holidays"
   ]
  },
  {
   "cell_type": "code",
   "execution_count": 1,
   "metadata": {},
   "outputs": [],
   "source": [
    "import pandas as pd\n",
    "from tqdm import tqdm\n",
    "import time"
   ]
  },
  {
   "cell_type": "code",
   "execution_count": 2,
   "metadata": {},
   "outputs": [],
   "source": [
    "picking_data_path = r'data/datathon_picking.csv'"
   ]
  },
  {
   "cell_type": "code",
   "execution_count": 3,
   "metadata": {},
   "outputs": [
    {
     "name": "stderr",
     "output_type": "stream",
     "text": [
      "C:\\Users\\IsmailKaraman\\anaconda3\\lib\\site-packages\\IPython\\core\\interactiveshell.py:3155: DtypeWarning: Columns (1,5,7,8) have mixed types.Specify dtype option on import or set low_memory=False.\n",
      "  has_raised = await self.run_ast_nodes(code_ast.body, cell_name,\n"
     ]
    }
   ],
   "source": [
    "picking_df = pd.read_csv(picking_data_path, index_col='Unnamed: 0')"
   ]
  },
  {
   "cell_type": "code",
   "execution_count": 4,
   "metadata": {},
   "outputs": [
    {
     "data": {
      "text/html": [
       "<div>\n",
       "<style scoped>\n",
       "    .dataframe tbody tr th:only-of-type {\n",
       "        vertical-align: middle;\n",
       "    }\n",
       "\n",
       "    .dataframe tbody tr th {\n",
       "        vertical-align: top;\n",
       "    }\n",
       "\n",
       "    .dataframe thead th {\n",
       "        text-align: right;\n",
       "    }\n",
       "</style>\n",
       "<table border=\"1\" class=\"dataframe\">\n",
       "  <thead>\n",
       "    <tr style=\"text-align: right;\">\n",
       "      <th></th>\n",
       "      <th>Siparis No</th>\n",
       "      <th>Siparis Tipi</th>\n",
       "      <th>Urun Kodu</th>\n",
       "      <th>Toplanan Miktar</th>\n",
       "      <th>Toplama Tarihi</th>\n",
       "      <th>Toplama Saati</th>\n",
       "      <th>Siparişin Düştüğü Tarih</th>\n",
       "      <th>Sevkiyat Tarihi</th>\n",
       "      <th>Müşteri</th>\n",
       "      <th>Operasyon Numarası</th>\n",
       "    </tr>\n",
       "  </thead>\n",
       "  <tbody>\n",
       "    <tr>\n",
       "      <th>0</th>\n",
       "      <td>72616784</td>\n",
       "      <td>10.0</td>\n",
       "      <td>61000058</td>\n",
       "      <td>45</td>\n",
       "      <td>28122019</td>\n",
       "      <td>11:10</td>\n",
       "      <td>26122019</td>\n",
       "      <td>2012020</td>\n",
       "      <td>C10005</td>\n",
       "      <td>O1</td>\n",
       "    </tr>\n",
       "    <tr>\n",
       "      <th>1</th>\n",
       "      <td>72616784</td>\n",
       "      <td>10.0</td>\n",
       "      <td>61000058</td>\n",
       "      <td>45</td>\n",
       "      <td>28122019</td>\n",
       "      <td>11:11</td>\n",
       "      <td>26122019</td>\n",
       "      <td>2012020</td>\n",
       "      <td>C10005</td>\n",
       "      <td>O1</td>\n",
       "    </tr>\n",
       "    <tr>\n",
       "      <th>2</th>\n",
       "      <td>72616784</td>\n",
       "      <td>10.0</td>\n",
       "      <td>61000058</td>\n",
       "      <td>45</td>\n",
       "      <td>28122019</td>\n",
       "      <td>11:11</td>\n",
       "      <td>26122019</td>\n",
       "      <td>2012020</td>\n",
       "      <td>C10005</td>\n",
       "      <td>O1</td>\n",
       "    </tr>\n",
       "    <tr>\n",
       "      <th>3</th>\n",
       "      <td>72616784</td>\n",
       "      <td>10.0</td>\n",
       "      <td>61000058</td>\n",
       "      <td>45</td>\n",
       "      <td>28122019</td>\n",
       "      <td>11:12</td>\n",
       "      <td>26122019</td>\n",
       "      <td>2012020</td>\n",
       "      <td>C10005</td>\n",
       "      <td>O1</td>\n",
       "    </tr>\n",
       "    <tr>\n",
       "      <th>4</th>\n",
       "      <td>72616784</td>\n",
       "      <td>10.0</td>\n",
       "      <td>61000058</td>\n",
       "      <td>45</td>\n",
       "      <td>28122019</td>\n",
       "      <td>11:10</td>\n",
       "      <td>26122019</td>\n",
       "      <td>2012020</td>\n",
       "      <td>C10005</td>\n",
       "      <td>O1</td>\n",
       "    </tr>\n",
       "  </tbody>\n",
       "</table>\n",
       "</div>"
      ],
      "text/plain": [
       "  Siparis No  Siparis Tipi Urun Kodu  Toplanan Miktar Toplama Tarihi  \\\n",
       "0   72616784          10.0  61000058               45       28122019   \n",
       "1   72616784          10.0  61000058               45       28122019   \n",
       "2   72616784          10.0  61000058               45       28122019   \n",
       "3   72616784          10.0  61000058               45       28122019   \n",
       "4   72616784          10.0  61000058               45       28122019   \n",
       "\n",
       "  Toplama Saati Siparişin Düştüğü Tarih Sevkiyat Tarihi Müşteri  \\\n",
       "0         11:10                26122019         2012020  C10005   \n",
       "1         11:11                26122019         2012020  C10005   \n",
       "2         11:11                26122019         2012020  C10005   \n",
       "3         11:12                26122019         2012020  C10005   \n",
       "4         11:10                26122019         2012020  C10005   \n",
       "\n",
       "  Operasyon Numarası  \n",
       "0                 O1  \n",
       "1                 O1  \n",
       "2                 O1  \n",
       "3                 O1  \n",
       "4                 O1  "
      ]
     },
     "execution_count": 4,
     "metadata": {},
     "output_type": "execute_result"
    }
   ],
   "source": [
    "picking_df.head()"
   ]
  },
  {
   "cell_type": "code",
   "execution_count": 5,
   "metadata": {},
   "outputs": [],
   "source": [
    "picking_df.columns = ['order_num', 'order_type', 'material_num', 'order_amount', 'picking_date', \n",
    "                      'picking_hour', 'order_receive_date', 'shipping_date', 'customer_num', 'operation_type']"
   ]
  },
  {
   "cell_type": "code",
   "execution_count": 6,
   "metadata": {},
   "outputs": [],
   "source": [
    "# from analysis we saw that customer number 'C-10170' is replaced with 'C-10277', so we replace all the values\n",
    "picking_df.replace('C-10170', 'C-10277', inplace=True)"
   ]
  },
  {
   "cell_type": "code",
   "execution_count": 7,
   "metadata": {},
   "outputs": [
    {
     "data": {
      "text/html": [
       "<div>\n",
       "<style scoped>\n",
       "    .dataframe tbody tr th:only-of-type {\n",
       "        vertical-align: middle;\n",
       "    }\n",
       "\n",
       "    .dataframe tbody tr th {\n",
       "        vertical-align: top;\n",
       "    }\n",
       "\n",
       "    .dataframe thead th {\n",
       "        text-align: right;\n",
       "    }\n",
       "</style>\n",
       "<table border=\"1\" class=\"dataframe\">\n",
       "  <thead>\n",
       "    <tr style=\"text-align: right;\">\n",
       "      <th></th>\n",
       "      <th>order_num</th>\n",
       "      <th>order_type</th>\n",
       "      <th>material_num</th>\n",
       "      <th>order_amount</th>\n",
       "      <th>picking_date</th>\n",
       "      <th>picking_hour</th>\n",
       "      <th>order_receive_date</th>\n",
       "      <th>shipping_date</th>\n",
       "      <th>customer_num</th>\n",
       "      <th>operation_type</th>\n",
       "    </tr>\n",
       "  </thead>\n",
       "  <tbody>\n",
       "    <tr>\n",
       "      <th>0</th>\n",
       "      <td>72616784</td>\n",
       "      <td>10.0</td>\n",
       "      <td>61000058</td>\n",
       "      <td>45</td>\n",
       "      <td>28122019</td>\n",
       "      <td>11:10</td>\n",
       "      <td>26122019</td>\n",
       "      <td>2012020</td>\n",
       "      <td>C10005</td>\n",
       "      <td>O1</td>\n",
       "    </tr>\n",
       "    <tr>\n",
       "      <th>1</th>\n",
       "      <td>72616784</td>\n",
       "      <td>10.0</td>\n",
       "      <td>61000058</td>\n",
       "      <td>45</td>\n",
       "      <td>28122019</td>\n",
       "      <td>11:11</td>\n",
       "      <td>26122019</td>\n",
       "      <td>2012020</td>\n",
       "      <td>C10005</td>\n",
       "      <td>O1</td>\n",
       "    </tr>\n",
       "    <tr>\n",
       "      <th>2</th>\n",
       "      <td>72616784</td>\n",
       "      <td>10.0</td>\n",
       "      <td>61000058</td>\n",
       "      <td>45</td>\n",
       "      <td>28122019</td>\n",
       "      <td>11:11</td>\n",
       "      <td>26122019</td>\n",
       "      <td>2012020</td>\n",
       "      <td>C10005</td>\n",
       "      <td>O1</td>\n",
       "    </tr>\n",
       "    <tr>\n",
       "      <th>3</th>\n",
       "      <td>72616784</td>\n",
       "      <td>10.0</td>\n",
       "      <td>61000058</td>\n",
       "      <td>45</td>\n",
       "      <td>28122019</td>\n",
       "      <td>11:12</td>\n",
       "      <td>26122019</td>\n",
       "      <td>2012020</td>\n",
       "      <td>C10005</td>\n",
       "      <td>O1</td>\n",
       "    </tr>\n",
       "    <tr>\n",
       "      <th>4</th>\n",
       "      <td>72616784</td>\n",
       "      <td>10.0</td>\n",
       "      <td>61000058</td>\n",
       "      <td>45</td>\n",
       "      <td>28122019</td>\n",
       "      <td>11:10</td>\n",
       "      <td>26122019</td>\n",
       "      <td>2012020</td>\n",
       "      <td>C10005</td>\n",
       "      <td>O1</td>\n",
       "    </tr>\n",
       "  </tbody>\n",
       "</table>\n",
       "</div>"
      ],
      "text/plain": [
       "  order_num  order_type material_num  order_amount picking_date picking_hour  \\\n",
       "0  72616784        10.0     61000058            45     28122019        11:10   \n",
       "1  72616784        10.0     61000058            45     28122019        11:11   \n",
       "2  72616784        10.0     61000058            45     28122019        11:11   \n",
       "3  72616784        10.0     61000058            45     28122019        11:12   \n",
       "4  72616784        10.0     61000058            45     28122019        11:10   \n",
       "\n",
       "  order_receive_date shipping_date customer_num operation_type  \n",
       "0           26122019       2012020       C10005             O1  \n",
       "1           26122019       2012020       C10005             O1  \n",
       "2           26122019       2012020       C10005             O1  \n",
       "3           26122019       2012020       C10005             O1  \n",
       "4           26122019       2012020       C10005             O1  "
      ]
     },
     "execution_count": 7,
     "metadata": {},
     "output_type": "execute_result"
    }
   ],
   "source": [
    "picking_df.head()"
   ]
  },
  {
   "cell_type": "code",
   "execution_count": 8,
   "metadata": {},
   "outputs": [],
   "source": [
    "def convert_string_to_date(str_date):\n",
    "    \n",
    "    str_date = str(str_date)\n",
    "    str_date = str_date.replace('/','')\n",
    "    str_date = str_date.replace('.','')\n",
    "    \n",
    "    len_date = len(str_date)\n",
    "    \n",
    "    if len_date>7:\n",
    "        return pd.Timestamp(int(str_date[4:]), int(str_date[2:4]), int(str_date[:2]))   \n",
    "    elif len_date==7:\n",
    "        return pd.Timestamp(int(str_date[3:]), int(str_date[1:3]), int(str_date[:1]))   \n",
    "    elif len_date==6:\n",
    "        return pd.Timestamp(int(str_date[2:]), int(str_date[1:2]), int(str_date[:1]))   "
   ]
  },
  {
   "cell_type": "code",
   "execution_count": 9,
   "metadata": {},
   "outputs": [],
   "source": [
    "picking_df['picking_date'] = picking_df['picking_date'].apply(convert_string_to_date)\n",
    "picking_df['order_receive_date'] = picking_df['order_receive_date'].apply(convert_string_to_date)\n",
    "picking_df['shipping_date'] = picking_df['shipping_date'].apply(convert_string_to_date)\n",
    "picking_df['picking_hour'] = pd.to_datetime(picking_df['picking_hour'])"
   ]
  },
  {
   "cell_type": "code",
   "execution_count": 10,
   "metadata": {
    "scrolled": true
   },
   "outputs": [
    {
     "data": {
      "text/plain": [
       "(712390, 10)"
      ]
     },
     "execution_count": 10,
     "metadata": {},
     "output_type": "execute_result"
    }
   ],
   "source": [
    "picking_df.shape"
   ]
  },
  {
   "cell_type": "code",
   "execution_count": 11,
   "metadata": {},
   "outputs": [],
   "source": [
    "picking_df['time_for_shipping'] = (picking_df['shipping_date'] - picking_df['order_receive_date']).dt.days"
   ]
  },
  {
   "cell_type": "code",
   "execution_count": 12,
   "metadata": {},
   "outputs": [
    {
     "data": {
      "text/plain": [
       "<AxesSubplot:>"
      ]
     },
     "execution_count": 12,
     "metadata": {},
     "output_type": "execute_result"
    },
    {
     "data": {
      "image/png": "[encoded data removed]",
      "text/plain": [
       "<Figure size 432x288 with 1 Axes>"
      ]
     },
     "metadata": {
      "needs_background": "light"
     },
     "output_type": "display_data"
    }
   ],
   "source": [
    "picking_df['time_for_shipping'].value_counts().plot(kind='bar')"
   ]
  },
  {
   "cell_type": "code",
   "execution_count": 13,
   "metadata": {},
   "outputs": [
    {
     "data": {
      "text/html": [
       "<div>\n",
       "<style scoped>\n",
       "    .dataframe tbody tr th:only-of-type {\n",
       "        vertical-align: middle;\n",
       "    }\n",
       "\n",
       "    .dataframe tbody tr th {\n",
       "        vertical-align: top;\n",
       "    }\n",
       "\n",
       "    .dataframe thead th {\n",
       "        text-align: right;\n",
       "    }\n",
       "</style>\n",
       "<table border=\"1\" class=\"dataframe\">\n",
       "  <thead>\n",
       "    <tr style=\"text-align: right;\">\n",
       "      <th></th>\n",
       "      <th>material_num</th>\n",
       "      <th>avg_shipping_time</th>\n",
       "      <th>shipping_count</th>\n",
       "    </tr>\n",
       "  </thead>\n",
       "  <tbody>\n",
       "    <tr>\n",
       "      <th>2</th>\n",
       "      <td>PL07872A</td>\n",
       "      <td>0.0</td>\n",
       "      <td>54</td>\n",
       "    </tr>\n",
       "    <tr>\n",
       "      <th>5</th>\n",
       "      <td>TR00818B</td>\n",
       "      <td>0.0</td>\n",
       "      <td>13</td>\n",
       "    </tr>\n",
       "    <tr>\n",
       "      <th>14</th>\n",
       "      <td>TR02034B</td>\n",
       "      <td>0.0</td>\n",
       "      <td>17</td>\n",
       "    </tr>\n",
       "    <tr>\n",
       "      <th>19</th>\n",
       "      <td>CN06559A</td>\n",
       "      <td>0.0</td>\n",
       "      <td>13</td>\n",
       "    </tr>\n",
       "    <tr>\n",
       "      <th>22</th>\n",
       "      <td>61010324</td>\n",
       "      <td>0.0</td>\n",
       "      <td>29</td>\n",
       "    </tr>\n",
       "  </tbody>\n",
       "</table>\n",
       "</div>"
      ],
      "text/plain": [
       "   material_num  avg_shipping_time  shipping_count\n",
       "2      PL07872A                0.0              54\n",
       "5      TR00818B                0.0              13\n",
       "14     TR02034B                0.0              17\n",
       "19     CN06559A                0.0              13\n",
       "22     61010324                0.0              29"
      ]
     },
     "execution_count": 13,
     "metadata": {},
     "output_type": "execute_result"
    }
   ],
   "source": [
    "avg_prod_shipping = pd.DataFrame()\n",
    "avg_prod_shipping['avg_shipping_time'] = picking_df.groupby('material_num').agg({'time_for_shipping':'mean'})['time_for_shipping']\n",
    "avg_prod_shipping['shipping_count'] = picking_df.groupby('material_num').agg({'time_for_shipping':'count'})['time_for_shipping']\n",
    "avg_prod_shipping = avg_prod_shipping.sort_values('avg_shipping_time').reset_index()\n",
    "avg_prod_shipping.query('avg_shipping_time == 0 and shipping_count > 10')\n",
    "# orders for below products are immediate"
   ]
  },
  {
   "cell_type": "code",
   "execution_count": 14,
   "metadata": {},
   "outputs": [
    {
     "data": {
      "text/html": [
       "<div>\n",
       "<style scoped>\n",
       "    .dataframe tbody tr th:only-of-type {\n",
       "        vertical-align: middle;\n",
       "    }\n",
       "\n",
       "    .dataframe tbody tr th {\n",
       "        vertical-align: top;\n",
       "    }\n",
       "\n",
       "    .dataframe thead th {\n",
       "        text-align: right;\n",
       "    }\n",
       "</style>\n",
       "<table border=\"1\" class=\"dataframe\">\n",
       "  <thead>\n",
       "    <tr style=\"text-align: right;\">\n",
       "      <th></th>\n",
       "      <th>customer_num</th>\n",
       "      <th>avg_shipping_time</th>\n",
       "      <th>shipping_count</th>\n",
       "    </tr>\n",
       "  </thead>\n",
       "  <tbody>\n",
       "    <tr>\n",
       "      <th>0</th>\n",
       "      <td>M982</td>\n",
       "      <td>0.0</td>\n",
       "      <td>32</td>\n",
       "    </tr>\n",
       "    <tr>\n",
       "      <th>2</th>\n",
       "      <td>M788</td>\n",
       "      <td>0.0</td>\n",
       "      <td>13</td>\n",
       "    </tr>\n",
       "    <tr>\n",
       "      <th>4</th>\n",
       "      <td>C10282</td>\n",
       "      <td>0.0</td>\n",
       "      <td>51</td>\n",
       "    </tr>\n",
       "    <tr>\n",
       "      <th>6</th>\n",
       "      <td>C10244</td>\n",
       "      <td>0.0</td>\n",
       "      <td>36</td>\n",
       "    </tr>\n",
       "    <tr>\n",
       "      <th>7</th>\n",
       "      <td>M597</td>\n",
       "      <td>0.0</td>\n",
       "      <td>20</td>\n",
       "    </tr>\n",
       "    <tr>\n",
       "      <th>10</th>\n",
       "      <td>M961</td>\n",
       "      <td>0.0</td>\n",
       "      <td>28</td>\n",
       "    </tr>\n",
       "    <tr>\n",
       "      <th>12</th>\n",
       "      <td>M147</td>\n",
       "      <td>0.0</td>\n",
       "      <td>11</td>\n",
       "    </tr>\n",
       "    <tr>\n",
       "      <th>13</th>\n",
       "      <td>M98</td>\n",
       "      <td>0.0</td>\n",
       "      <td>45</td>\n",
       "    </tr>\n",
       "    <tr>\n",
       "      <th>18</th>\n",
       "      <td>M449</td>\n",
       "      <td>0.0</td>\n",
       "      <td>17</td>\n",
       "    </tr>\n",
       "  </tbody>\n",
       "</table>\n",
       "</div>"
      ],
      "text/plain": [
       "   customer_num  avg_shipping_time  shipping_count\n",
       "0          M982                0.0              32\n",
       "2          M788                0.0              13\n",
       "4        C10282                0.0              51\n",
       "6        C10244                0.0              36\n",
       "7          M597                0.0              20\n",
       "10         M961                0.0              28\n",
       "12         M147                0.0              11\n",
       "13          M98                0.0              45\n",
       "18         M449                0.0              17"
      ]
     },
     "execution_count": 14,
     "metadata": {},
     "output_type": "execute_result"
    }
   ],
   "source": [
    "avg_cust_shipping = pd.DataFrame()\n",
    "avg_cust_shipping['avg_shipping_time'] = picking_df.groupby('customer_num').agg({'time_for_shipping':'mean'})['time_for_shipping']\n",
    "avg_cust_shipping['shipping_count'] = picking_df.groupby('customer_num').agg({'time_for_shipping':'count'})['time_for_shipping']\n",
    "avg_cust_shipping = avg_cust_shipping.sort_values('avg_shipping_time').reset_index()\n",
    "avg_cust_shipping.query('avg_shipping_time == 0 and shipping_count > 10')\n",
    "# below customers give their orders immediate, same day shipping"
   ]
  },
  {
   "cell_type": "code",
   "execution_count": 15,
   "metadata": {},
   "outputs": [],
   "source": [
    "df = picking_df[['order_num', 'material_num', 'order_receive_date', 'shipping_date',\n",
    "                 'customer_num', 'operation_type', 'order_amount']].copy()"
   ]
  },
  {
   "cell_type": "code",
   "execution_count": 16,
   "metadata": {},
   "outputs": [],
   "source": [
    "df.sort_values(by=['order_receive_date', 'order_num'], inplace=True)"
   ]
  },
  {
   "cell_type": "code",
   "execution_count": 17,
   "metadata": {},
   "outputs": [
    {
     "data": {
      "text/html": [
       "<div>\n",
       "<style scoped>\n",
       "    .dataframe tbody tr th:only-of-type {\n",
       "        vertical-align: middle;\n",
       "    }\n",
       "\n",
       "    .dataframe tbody tr th {\n",
       "        vertical-align: top;\n",
       "    }\n",
       "\n",
       "    .dataframe thead th {\n",
       "        text-align: right;\n",
       "    }\n",
       "</style>\n",
       "<table border=\"1\" class=\"dataframe\">\n",
       "  <thead>\n",
       "    <tr style=\"text-align: right;\">\n",
       "      <th></th>\n",
       "      <th>order_num</th>\n",
       "      <th>material_num</th>\n",
       "      <th>order_receive_date</th>\n",
       "      <th>shipping_date</th>\n",
       "      <th>customer_num</th>\n",
       "      <th>operation_type</th>\n",
       "      <th>order_amount</th>\n",
       "    </tr>\n",
       "  </thead>\n",
       "  <tbody>\n",
       "    <tr>\n",
       "      <th>0</th>\n",
       "      <td>72616784</td>\n",
       "      <td>61000058</td>\n",
       "      <td>2019-12-26</td>\n",
       "      <td>2020-01-02</td>\n",
       "      <td>C10005</td>\n",
       "      <td>O1</td>\n",
       "      <td>45</td>\n",
       "    </tr>\n",
       "    <tr>\n",
       "      <th>1</th>\n",
       "      <td>72616784</td>\n",
       "      <td>61000058</td>\n",
       "      <td>2019-12-26</td>\n",
       "      <td>2020-01-02</td>\n",
       "      <td>C10005</td>\n",
       "      <td>O1</td>\n",
       "      <td>45</td>\n",
       "    </tr>\n",
       "    <tr>\n",
       "      <th>2</th>\n",
       "      <td>72616784</td>\n",
       "      <td>61000058</td>\n",
       "      <td>2019-12-26</td>\n",
       "      <td>2020-01-02</td>\n",
       "      <td>C10005</td>\n",
       "      <td>O1</td>\n",
       "      <td>45</td>\n",
       "    </tr>\n",
       "    <tr>\n",
       "      <th>3</th>\n",
       "      <td>72616784</td>\n",
       "      <td>61000058</td>\n",
       "      <td>2019-12-26</td>\n",
       "      <td>2020-01-02</td>\n",
       "      <td>C10005</td>\n",
       "      <td>O1</td>\n",
       "      <td>45</td>\n",
       "    </tr>\n",
       "    <tr>\n",
       "      <th>4</th>\n",
       "      <td>72616784</td>\n",
       "      <td>61000058</td>\n",
       "      <td>2019-12-26</td>\n",
       "      <td>2020-01-02</td>\n",
       "      <td>C10005</td>\n",
       "      <td>O1</td>\n",
       "      <td>45</td>\n",
       "    </tr>\n",
       "  </tbody>\n",
       "</table>\n",
       "</div>"
      ],
      "text/plain": [
       "  order_num material_num order_receive_date shipping_date customer_num  \\\n",
       "0  72616784     61000058         2019-12-26    2020-01-02       C10005   \n",
       "1  72616784     61000058         2019-12-26    2020-01-02       C10005   \n",
       "2  72616784     61000058         2019-12-26    2020-01-02       C10005   \n",
       "3  72616784     61000058         2019-12-26    2020-01-02       C10005   \n",
       "4  72616784     61000058         2019-12-26    2020-01-02       C10005   \n",
       "\n",
       "  operation_type  order_amount  \n",
       "0             O1            45  \n",
       "1             O1            45  \n",
       "2             O1            45  \n",
       "3             O1            45  \n",
       "4             O1            45  "
      ]
     },
     "execution_count": 17,
     "metadata": {},
     "output_type": "execute_result"
    }
   ],
   "source": [
    "df.head()"
   ]
  },
  {
   "cell_type": "code",
   "execution_count": 18,
   "metadata": {},
   "outputs": [
    {
     "data": {
      "text/plain": [
       "<AxesSubplot:>"
      ]
     },
     "execution_count": 18,
     "metadata": {},
     "output_type": "execute_result"
    },
    {
     "data": {
      "image/png": "[encoded data removed]",
      "text/plain": [
       "<Figure size 432x288 with 1 Axes>"
      ]
     },
     "metadata": {
      "needs_background": "light"
     },
     "output_type": "display_data"
    }
   ],
   "source": [
    "df['shipping_date'].dt.weekday.value_counts().plot(kind='bar')"
   ]
  },
  {
   "cell_type": "code",
   "execution_count": 19,
   "metadata": {},
   "outputs": [],
   "source": [
    "def receive_orders(orders, date):\n",
    "    \n",
    "    checklist = pd.DataFrame()\n",
    "    new_orders = orders[orders['order_receive_date']==date]\n",
    "    checklist = pd.concat([checklist, new_orders], axis=0).sort_values(by='shipping_date')\n",
    "        \n",
    "    return checklist"
   ]
  },
  {
   "cell_type": "code",
   "execution_count": 20,
   "metadata": {},
   "outputs": [],
   "source": [
    "def add_picking_list(picking_list, row, num_wave, date, picking_type):\n",
    "\n",
    "    row_picking = {}\n",
    "    row_picking['wave_no'] = num_wave\n",
    "    row_picking['material'] = row['material_num']\n",
    "    row_picking['order_num'] = row['order_num']\n",
    "    row_picking['picking_date'] = date\n",
    "    row_picking['shipping_date'] = row['shipping_date']\n",
    "    row_picking['customer_num'] = row['customer_num']\n",
    "    row_picking['order_receive_date'] = row['order_receive_date']\n",
    "    row_picking['operation_type'] = row['operation_type']\n",
    "    row_picking['picking_type'] = picking_type\n",
    "    row_picking['amount'] = row['order_amount']\n",
    "    picking_list = pd.concat([picking_list, pd.DataFrame([row_picking])])\n",
    "    \n",
    "    return picking_list"
   ]
  },
  {
   "cell_type": "code",
   "execution_count": 21,
   "metadata": {},
   "outputs": [],
   "source": [
    "def create_wave(checklist, num_wave, picking_list, date, picking_type):\n",
    "    \n",
    "    wave_materials_set = set()\n",
    "    wave_total_amount = 0\n",
    "    \n",
    "    for idx, row in checklist.iterrows():\n",
    "            \n",
    "        mat_num = row['material_num']\n",
    "        amount = row['order_amount']  \n",
    "        \n",
    "        if len(wave_materials_set) < 8:\n",
    "            # if (daily_capacity-amount)>=0:\n",
    "            wave_materials_set.add(mat_num)\n",
    "            wave_total_amount += amount\n",
    "            picking_list = add_picking_list(picking_list, row, num_wave, date, picking_type)\n",
    "            checklist.drop(idx, axis=0, inplace=True)   \n",
    "            # else: continue\n",
    "        \n",
    "        elif len(wave_materials_set) == 8:\n",
    "            # if (daily_capacity-amount)>=0:\n",
    "            if mat_num in wave_materials_set:\n",
    "                wave_materials_set.add(mat_num)\n",
    "                wave_total_amount += amount\n",
    "                picking_list = add_picking_list(picking_list, row, num_wave, date, picking_type)\n",
    "                checklist.drop(idx, axis=0, inplace=True)  \n",
    "            #else: continue    \n",
    "        else:   \n",
    "            break   \n",
    "    remain_wave = 8-len(wave_materials_set)\n",
    "        \n",
    "    return checklist, picking_list.reset_index(drop=True), wave_materials_set, wave_total_amount"
   ]
  },
  {
   "cell_type": "code",
   "execution_count": 22,
   "metadata": {},
   "outputs": [],
   "source": [
    "def check_future_predictions(mat_num, date, shipping_date):\n",
    "    \n",
    "    future_preds = df.query(f\"material_num == '{mat_num}' and order_receive_date > '{date}' and shipping_date <= '{shipping_date}'\")\n",
    "    \n",
    "    if len(future_preds) > 0:\n",
    "        return False\n",
    "    else:\n",
    "        return True"
   ]
  },
  {
   "cell_type": "code",
   "execution_count": 23,
   "metadata": {},
   "outputs": [],
   "source": [
    "def check_bottleneck(checklist, daily_capacity):\n",
    "    \n",
    "    tmp_sums = checklist.groupby(['shipping_date'])['order_amount'].sum()\n",
    "    bottleneck_dates = tmp_sums[tmp_sums>daily_capacity].index\n",
    "    \n",
    "    return bottleneck_dates"
   ]
  },
  {
   "cell_type": "code",
   "execution_count": 24,
   "metadata": {},
   "outputs": [],
   "source": [
    "def complete_wave(checklist, picking_list, num_wave, date, picking_type, wave_materials_set, wave_total_amount, daily_capacity):\n",
    "    \n",
    "    same_materials = checklist[checklist['material_num'].isin(wave_materials_set)].sort_values(by=['shipping_date', 'material_num'])\n",
    "    checklist = checklist[~checklist['material_num'].isin(wave_materials_set)].sort_values(by=['shipping_date', 'material_num'])\n",
    "    \n",
    "    if len(same_materials)>0:\n",
    "        \n",
    "        for idx, row in same_materials.iterrows():\n",
    "            \n",
    "            amount = row['order_amount'] \n",
    "            if daily_capacity-amount >= 0:\n",
    "                \n",
    "                wave_total_amount += amount\n",
    "                daily_capacity -= amount\n",
    "                picking_list = add_picking_list(picking_list, row, num_wave, date, picking_type)\n",
    "                same_materials.drop(idx, axis=0, inplace=True)  \n",
    "            else:\n",
    "                continue\n",
    "                \n",
    "    if daily_capacity > 0 and len(checklist) > 0:       \n",
    "            \n",
    "        for idx, row in checklist.iterrows():\n",
    "            \n",
    "            amount = row['order_amount'] \n",
    "            mat_num = row['material_num']\n",
    "            \n",
    "            pick_suggestion_flag = check_future_predictions(mat_num, date, row['shipping_date'])\n",
    "            \n",
    "            if (daily_capacity-amount >= 0) and pick_suggestion_flag:\n",
    "                \n",
    "                wave_materials_set.add(mat_num)\n",
    "                wave_total_amount += amount\n",
    "                daily_capacity -= amount\n",
    "                picking_list = add_picking_list(picking_list, row, num_wave, date, picking_type)\n",
    "                checklist.drop(idx, axis=0, inplace=True)  \n",
    "\n",
    "                if len(wave_materials_set) == 8 or daily_capacity == 0:\n",
    "                    break\n",
    "            else:\n",
    "                continue\n",
    "                \n",
    "    if len(same_materials)>0:\n",
    "        checklist = pd.concat([checklist, same_materials])\n",
    "        \n",
    "    return checklist, picking_list, wave_total_amount, daily_capacity"
   ]
  },
  {
   "cell_type": "code",
   "execution_count": 25,
   "metadata": {},
   "outputs": [],
   "source": [
    "def sort_checklist_by_amount(checklist):\n",
    "    \n",
    "    sorter = checklist.groupby('material_num')['order_amount'].sum().sort_values(ascending=False).index\n",
    "    sorterIndex = dict(zip(sorter, range(len(sorter))))\n",
    "    checklist['mat_rank'] = checklist['material_num'].map(sorterIndex)\n",
    "    checklist.sort_values(['mat_rank'], inplace = True)\n",
    "    checklist.drop('mat_rank', 1, inplace = True)\n",
    "    \n",
    "    return checklist"
   ]
  },
  {
   "cell_type": "code",
   "execution_count": 26,
   "metadata": {},
   "outputs": [],
   "source": [
    "def pick_orders(orders, checklist, picking_list, daily_capacity, date):\n",
    "    \n",
    "    # receiving daily orders\n",
    "    new_orders = receive_orders(orders, date)\n",
    "    checklist = pd.concat([checklist, new_orders])\n",
    "    checklist['time_for_shipping'] = (checklist['shipping_date'] - date).dt.days  \n",
    "    # creating must_pick orders list\n",
    "    must_pick = checklist[checklist['time_for_shipping']==0].sort_values(by=['material_num'])\n",
    "    # deleting must_pick orders from checklist\n",
    "    checklist = checklist[checklist['time_for_shipping']>0].sort_values(by=['time_for_shipping'])\n",
    "    \n",
    "    num_wave = 0\n",
    "    wave_materials_set = set()\n",
    "    wave_total_amount = 0\n",
    "    \n",
    "    # pick all the materials that should be shipped today, even its greater than daily capacity do overwork to handle it\n",
    "    while len(must_pick) > 0:\n",
    "        \n",
    "        num_wave += 1\n",
    "        if daily_capacity > 0:\n",
    "            picking_type = 'normal'\n",
    "        elif daily_capacity <= 0:\n",
    "            picking_type = 'overwork'\n",
    "        \n",
    "        must_pick, picking_list, wave_materials_set, wave_total_amount = create_wave(must_pick, num_wave, picking_list, date, picking_type)\n",
    "        daily_capacity -= wave_total_amount\n",
    "    \n",
    "    # if there are some uncomplete waves, complete by picking next orders that has no future predictions\n",
    "    if (0 <  len(wave_materials_set) < 8) and (daily_capacity > 0) and (len(checklist) > 0):\n",
    "        \n",
    "        picking_type = 'utilize_wave'\n",
    "        checklist, picking_list, wave_total_amount, daily_capacity = complete_wave(checklist, picking_list, num_wave, date, picking_type, wave_materials_set, wave_total_amount, daily_capacity)\n",
    "        daily_capacity -= wave_total_amount\n",
    "    \n",
    "    smallest_amount = checklist['order_amount'].min()\n",
    "    \n",
    "    while (daily_capacity >= smallest_amount) and (len(checklist) > 0):\n",
    "        \n",
    "        num_wave += 1\n",
    "        \n",
    "        picking_type = 'resolve_bottleneck'\n",
    "        bottleneck_dates = check_bottleneck(checklist, daily_capacity)\n",
    "        \n",
    "        if len(bottleneck_dates) > 0:\n",
    "            \n",
    "            closest_bottleneck = sorted(bottleneck_dates)[0]\n",
    "            \n",
    "            bottleneck_checklist = checklist[checklist['shipping_date']<=closest_bottleneck] \n",
    "            checklist = checklist[checklist['shipping_date']>closest_bottleneck] \n",
    "            \n",
    "            bottleneck_checklist = sort_checklist_by_amount(bottleneck_checklist)\n",
    "            bottleneck_checklist, picking_list, wave_materials_set, wave_total_amount = create_wave(bottleneck_checklist, num_wave, picking_list, date, picking_type)\n",
    "            daily_capacity -= wave_total_amount\n",
    "            \n",
    "            checklist = pd.concat([checklist, bottleneck_checklist])\n",
    "            smallest_amount = bottleneck_checklist['order_amount'].min()\n",
    "        else: \n",
    "            break\n",
    "\n",
    "    return picking_list, checklist, daily_capacity"
   ]
  },
  {
   "cell_type": "code",
   "execution_count": 27,
   "metadata": {
    "scrolled": true
   },
   "outputs": [],
   "source": [
    "def picking(orders, daily_capacity):\n",
    "    \n",
    "    picking_list = pd.DataFrame()\n",
    "    checklist = pd.DataFrame()\n",
    "    left_capacities = []\n",
    "    # for date in pd.date_range(df['order_receive_date'].min(), df['order_receive_date'].max()):\n",
    "    for date in tqdm(pd.date_range(orders['order_receive_date'].min(), orders['order_receive_date'].max())):    \n",
    "\n",
    "        # updating checklist\n",
    "        picking_list, checklist, left_daily_capacity = pick_orders(orders, checklist, picking_list, daily_capacity, date)\n",
    "        left_capacities.append(left_daily_capacity)\n",
    "\n",
    "    return picking_list"
   ]
  },
  {
   "cell_type": "markdown",
   "metadata": {},
   "source": [
    "### O1"
   ]
  },
  {
   "cell_type": "code",
   "execution_count": 28,
   "metadata": {},
   "outputs": [
    {
     "name": "stderr",
     "output_type": "stream",
     "text": [
      "100%|██████████████████████████████████████████████████████████████████████████████| 371/371 [2:23:26<00:00, 23.20s/it]\n"
     ]
    }
   ],
   "source": [
    "df_O1 = df[df['operation_type']=='O1']\n",
    "capacity_for_O1 = 25000\n",
    "# run picking algorithm\n",
    "picking_plans_O1 = picking(df_O1, capacity_for_O1)"
   ]
  },
  {
   "cell_type": "code",
   "execution_count": 29,
   "metadata": {},
   "outputs": [
    {
     "name": "stdout",
     "output_type": "stream",
     "text": [
      "\n",
      "O1 Operasyon Tipi\n",
      "\n",
      "-------------------------------------------\n",
      "Günlük toplama miktarı istatisikleri : \n",
      "Ortalama toplama miktarı:    22733.03\n",
      "std:                         10145.96\n",
      "min:                         691.00\n",
      "max:                         57677.00\n",
      "Ortalama kapasite kullanımı: % 90.93\n",
      "-------------------------------------------\n",
      "Wave verimlilik istatistikleri : \n",
      "(Not: Her bir wave max 8 tip ürün alabilmektedir)\n",
      "Ortalama doluluk oranı :      7.94, \n",
      "std                           0.55, \n",
      "min:                          1.00, \n",
      "max:                          8.00\n",
      "Ortalama kapasite kullanımı : % 0.99, \n"
     ]
    }
   ],
   "source": [
    "average_daily_picking = picking_plans_O1.groupby(['picking_date'])['amount'].sum()\n",
    "print()\n",
    "print('O1 Operasyon Tipi')\n",
    "print()\n",
    "print('-------------------------------------------')\n",
    "print(f\"Günlük toplama miktarı istatisikleri : \")\n",
    "print(f\"Ortalama toplama miktarı:    {average_daily_picking.mean():.2f}\" )\n",
    "print(f\"std:                         {average_daily_picking.std():.2f}\")\n",
    "print(f\"min:                         {average_daily_picking.min():.2f}\")\n",
    "print(f\"max:                         {average_daily_picking.max():.2f}\")\n",
    "print(f\"Ortalama kapasite kullanımı: % {100*average_daily_picking.mean()/25000:.2f}\" )\n",
    "print('-------------------------------------------')\n",
    "wave_utilization = picking_plans_O1.groupby(['picking_date', 'wave_no'])['material'].nunique()\n",
    "print(f\"Wave verimlilik istatistikleri : \")\n",
    "print(f\"(Not: Her bir wave max 8 tip ürün alabilmektedir)\")\n",
    "print(f\"Ortalama doluluk oranı :      {wave_utilization.mean():.2f}, \")\n",
    "print(f\"std                           {wave_utilization.std():.2f}, \")\n",
    "print(f\"min:                          {wave_utilization.min():.2f}, \")\n",
    "print(f\"max:                          {wave_utilization.max():.2f}\")\n",
    "print(f\"Ortalama kapasite kullanımı : % {wave_utilization.mean()/8:.2f}, \")"
   ]
  },
  {
   "cell_type": "markdown",
   "metadata": {},
   "source": [
    "### O2"
   ]
  },
  {
   "cell_type": "code",
   "execution_count": null,
   "metadata": {
    "scrolled": true
   },
   "outputs": [
    {
     "name": "stderr",
     "output_type": "stream",
     "text": [
      " 68%|███████████████████████████████████████████████████▋                        | 247/363 [2:20:56<1:33:52, 48.56s/it]"
     ]
    }
   ],
   "source": [
    "df_O2 = df[df['operation_type']=='O2']\n",
    "capacity_for_O2 = 175000\n",
    "# run picking algorithm\n",
    "picking_plans_O2 = picking(df_O2, capacity_for_O2)"
   ]
  },
  {
   "cell_type": "code",
   "execution_count": 2,
   "metadata": {},
   "outputs": [
    {
     "name": "stderr",
     "output_type": "stream",
     "text": [
      "C:\\Users\\IsmailKaraman\\anaconda3\\lib\\site-packages\\IPython\\core\\interactiveshell.py:3155: DtypeWarning: Columns (2) have mixed types.Specify dtype option on import or set low_memory=False.\n",
      "  has_raised = await self.run_ast_nodes(code_ast.body, cell_name,\n"
     ]
    }
   ],
   "source": [
    "import pandas as pd\n",
    "picking_plans_O1 = pd.read_csv('sub_O1.csv')\n",
    "picking_plans_O2 = pd.read_csv('plans_O2.csv')"
   ]
  },
  {
   "cell_type": "code",
   "execution_count": 4,
   "metadata": {},
   "outputs": [
    {
     "name": "stdout",
     "output_type": "stream",
     "text": [
      "\n",
      "O2 Operasyon Tipi\n",
      "\n",
      "-------------------------------------------\n",
      "Günlük toplama miktarı istatisikleri : \n",
      "Ortalama toplama miktarı:    169811.61\n",
      "std:                         94026.17\n",
      "min:                         482.00\n",
      "max:                         845696.00\n",
      "Ortalama kapasite kullanımı: % 97.04\n",
      "-------------------------------------------\n",
      "Wave verimlilik istatistikleri : \n",
      "(Not: Her bir wave max 8 tip ürün alabilmektedir)\n",
      "Ortalama doluluk oranı :      7.93, \n",
      "std                           0.60, \n",
      "min:                          1.00, \n",
      "max:                          8.00\n",
      "Ortalama kapasite kullanımı : % 0.99, \n"
     ]
    }
   ],
   "source": [
    "average_daily_picking = picking_plans_O2.groupby(['picking_date'])['amount'].sum()\n",
    "print()\n",
    "print('O2 Operasyon Tipi')\n",
    "print()\n",
    "print('-------------------------------------------')\n",
    "print(f\"Günlük toplama miktarı istatisikleri : \")\n",
    "print(f\"Ortalama toplama miktarı:    {average_daily_picking.mean():.2f}\" )\n",
    "print(f\"std:                         {average_daily_picking.std():.2f}\")\n",
    "print(f\"min:                         {average_daily_picking.min():.2f}\")\n",
    "print(f\"max:                         {average_daily_picking.max():.2f}\")\n",
    "print(f\"Ortalama kapasite kullanımı: % {100*average_daily_picking.mean()/175000:.2f}\" )\n",
    "print('-------------------------------------------')\n",
    "wave_utilization = picking_plans_O2.groupby(['picking_date', 'wave_no'])['material'].nunique()\n",
    "print(f\"Wave verimlilik istatistikleri : \")\n",
    "print(f\"(Not: Her bir wave max 8 tip ürün alabilmektedir)\")\n",
    "print(f\"Ortalama doluluk oranı :      {wave_utilization.mean():.2f}, \")\n",
    "print(f\"std                           {wave_utilization.std():.2f}, \")\n",
    "print(f\"min:                          {wave_utilization.min():.2f}, \")\n",
    "print(f\"max:                          {wave_utilization.max():.2f}\")\n",
    "print(f\"Ortalama kapasite kullanımı : % {wave_utilization.mean()/8:.2f}, \")"
   ]
  },
  {
   "cell_type": "markdown",
   "metadata": {},
   "source": [
    "### submission format"
   ]
  },
  {
   "cell_type": "code",
   "execution_count": 5,
   "metadata": {},
   "outputs": [],
   "source": [
    "sub_O1 = picking_plans_O1.groupby(['picking_date', 'wave_no', 'material']).agg({'operation_type':'max', 'picking_type':'max',\n",
    "                                                                                'amount':'sum'}).reset_index()"
   ]
  },
  {
   "cell_type": "code",
   "execution_count": 6,
   "metadata": {},
   "outputs": [],
   "source": [
    "sub_O2 = picking_plans_O2.groupby(['picking_date', 'wave_no', 'material']).agg({'operation_type':'max', 'picking_type':'max',\n",
    "                                                                                'amount':'sum'}).reset_index()"
   ]
  },
  {
   "cell_type": "code",
   "execution_count": 7,
   "metadata": {},
   "outputs": [],
   "source": [
    "sub = pd.concat([sub_O1, sub_O2])\n",
    "sub.sort_values(by=['picking_date', 'wave_no'], inplace=True)\n",
    "sub.columns = ['Toplama Tarihi', 'Wave Number', 'Malzeme No', 'Operasyon No', 'Toplama Türü', 'Toplama Miktarı']\n",
    "sub[['Wave Number', 'Operasyon No', 'Malzeme No', 'Toplama Miktarı','Toplama Tarihi', 'Toplama Türü']].to_csv('submission_DataButchers.csv')"
   ]
  },
  {
   "cell_type": "code",
   "execution_count": null,
   "metadata": {},
   "outputs": [],
   "source": []
  }
 ],
 "metadata": {
  "kernelspec": {
   "display_name": "Python 3 (ipykernel)",
   "language": "python",
   "name": "python3"
  },
  "language_info": {
   "codemirror_mode": {
    "name": "ipython",
    "version": 3
   },
   "file_extension": ".py",
   "mimetype": "text/x-python",
   "name": "python",
   "nbconvert_exporter": "python",
   "pygments_lexer": "ipython3",
   "version": "3.8.12"
  }
 },
 "nbformat": 4,
 "nbformat_minor": 4
}
