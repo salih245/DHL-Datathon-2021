{
 "cells": [
  {
   "cell_type": "code",
   "execution_count": 1,
   "id": "08414d0e",
   "metadata": {},
   "outputs": [],
   "source": [
    "import pandas as pd\n",
    "import numpy as np\n",
    "from datetime import datetime\n",
    "from sklearn.preprocessing import StandardScaler\n",
    "import matplotlib.pyplot as plt\n",
    "from sklearn.decomposition import PCA\n",
    "import seaborn as sns\n",
    "from matplotlib.pyplot import figure, show\n",
    "from matplotlib.ticker import MaxNLocator"
   ]
  },
  {
   "cell_type": "code",
   "execution_count": 2,
   "id": "6a5900d2",
   "metadata": {},
   "outputs": [
    {
     "name": "stderr",
     "output_type": "stream",
     "text": [
      "C:\\Users\\Salih\\anaconda3\\lib\\site-packages\\IPython\\core\\interactiveshell.py:3441: DtypeWarning: Columns (0,3) have mixed types.Specify dtype option on import or set low_memory=False.\n",
      "  exec(code_obj, self.user_global_ns, self.user_ns)\n",
      "C:\\Users\\Salih\\anaconda3\\lib\\site-packages\\IPython\\core\\interactiveshell.py:3441: DtypeWarning: Columns (1,5,7,8) have mixed types.Specify dtype option on import or set low_memory=False.\n",
      "  exec(code_obj, self.user_global_ns, self.user_ns)\n"
     ]
    }
   ],
   "source": [
    "data_order = pd.read_csv(\"datathon_order.csv\")\n",
    "data_picking = pd.read_csv(\"datathon_picking.csv\")"
   ]
  },
  {
   "cell_type": "code",
   "execution_count": 3,
   "id": "c3978f2f",
   "metadata": {
    "scrolled": true
   },
   "outputs": [
    {
     "data": {
      "text/plain": [
       "Unnamed: 0                     0\n",
       "Siparis No                     0\n",
       "Siparis Tipi               27970\n",
       "Urun Kodu                      0\n",
       "Toplanan Miktar                0\n",
       "Toplama Tarihi                 0\n",
       "Toplama Saati                  0\n",
       "Siparişin Düştüğü Tarih        0\n",
       "Sevkiyat Tarihi                0\n",
       "Müşteri                        5\n",
       "Operasyon Numarası             0\n",
       "dtype: int64"
      ]
     },
     "execution_count": 3,
     "metadata": {},
     "output_type": "execute_result"
    }
   ],
   "source": [
    "data_picking.isna().sum()"
   ]
  },
  {
   "cell_type": "markdown",
   "id": "a27a27b5",
   "metadata": {},
   "source": [
    "#### Customer-based Segmentation using feature engineering"
   ]
  },
  {
   "cell_type": "code",
   "execution_count": 4,
   "id": "88322d6f",
   "metadata": {},
   "outputs": [],
   "source": [
    "data_cust = pd.DataFrame()"
   ]
  },
  {
   "cell_type": "code",
   "execution_count": 5,
   "id": "24edac8e",
   "metadata": {},
   "outputs": [],
   "source": [
    "# For each customer, monthly average number of unique products is calculated. \n",
    "data_cust[\"prod_month_avg\"] = data_order.groupby(['Müşteri No'])['Malzeme Numarası'].nunique()/12"
   ]
  },
  {
   "cell_type": "code",
   "execution_count": 6,
   "id": "8c93c688",
   "metadata": {},
   "outputs": [],
   "source": [
    "# For each customer, monthly average number of total orders is calculated. \n",
    "data_cust[\"order_month_avg\"] = data_order.groupby(['Müşteri No'])['Sipariş Numarası'].count()/12"
   ]
  },
  {
   "cell_type": "code",
   "execution_count": 7,
   "id": "d794e33f",
   "metadata": {},
   "outputs": [],
   "source": [
    "# For each customer, monthly average number of total order amounts is calculated. \n",
    "data_cust[\"order_amount_sum\"] = data_order.groupby(['Müşteri No'])['Sipariş Edilen Miktar'].sum()/12"
   ]
  },
  {
   "cell_type": "code",
   "execution_count": 8,
   "id": "860387aa",
   "metadata": {},
   "outputs": [],
   "source": [
    "data_cust = data_cust.reset_index()"
   ]
  },
  {
   "cell_type": "code",
   "execution_count": 9,
   "id": "8e1f449e",
   "metadata": {},
   "outputs": [
    {
     "data": {
      "text/html": [
       "<div>\n",
       "<style scoped>\n",
       "    .dataframe tbody tr th:only-of-type {\n",
       "        vertical-align: middle;\n",
       "    }\n",
       "\n",
       "    .dataframe tbody tr th {\n",
       "        vertical-align: top;\n",
       "    }\n",
       "\n",
       "    .dataframe thead th {\n",
       "        text-align: right;\n",
       "    }\n",
       "</style>\n",
       "<table border=\"1\" class=\"dataframe\">\n",
       "  <thead>\n",
       "    <tr style=\"text-align: right;\">\n",
       "      <th></th>\n",
       "      <th>Müşteri No</th>\n",
       "      <th>prod_month_avg</th>\n",
       "      <th>order_month_avg</th>\n",
       "      <th>order_amount_sum</th>\n",
       "    </tr>\n",
       "  </thead>\n",
       "  <tbody>\n",
       "    <tr>\n",
       "      <th>0</th>\n",
       "      <td>C-10001</td>\n",
       "      <td>18.000000</td>\n",
       "      <td>1430.083333</td>\n",
       "      <td>10524.166667</td>\n",
       "    </tr>\n",
       "    <tr>\n",
       "      <th>1</th>\n",
       "      <td>C-10003</td>\n",
       "      <td>14.666667</td>\n",
       "      <td>305.250000</td>\n",
       "      <td>2484.583333</td>\n",
       "    </tr>\n",
       "    <tr>\n",
       "      <th>2</th>\n",
       "      <td>C-10004</td>\n",
       "      <td>1.500000</td>\n",
       "      <td>25.000000</td>\n",
       "      <td>1269.833333</td>\n",
       "    </tr>\n",
       "    <tr>\n",
       "      <th>3</th>\n",
       "      <td>C-10005</td>\n",
       "      <td>13.333333</td>\n",
       "      <td>117.750000</td>\n",
       "      <td>73408.583333</td>\n",
       "    </tr>\n",
       "    <tr>\n",
       "      <th>4</th>\n",
       "      <td>C-10006</td>\n",
       "      <td>14.166667</td>\n",
       "      <td>213.000000</td>\n",
       "      <td>972.750000</td>\n",
       "    </tr>\n",
       "    <tr>\n",
       "      <th>...</th>\n",
       "      <td>...</td>\n",
       "      <td>...</td>\n",
       "      <td>...</td>\n",
       "      <td>...</td>\n",
       "    </tr>\n",
       "    <tr>\n",
       "      <th>666</th>\n",
       "      <td>M10384</td>\n",
       "      <td>3.083333</td>\n",
       "      <td>29.500000</td>\n",
       "      <td>1746.750000</td>\n",
       "    </tr>\n",
       "    <tr>\n",
       "      <th>667</th>\n",
       "      <td>M10385</td>\n",
       "      <td>0.500000</td>\n",
       "      <td>0.833333</td>\n",
       "      <td>341.333333</td>\n",
       "    </tr>\n",
       "    <tr>\n",
       "      <th>668</th>\n",
       "      <td>M10386</td>\n",
       "      <td>14.916667</td>\n",
       "      <td>88.083333</td>\n",
       "      <td>2809.416667</td>\n",
       "    </tr>\n",
       "    <tr>\n",
       "      <th>669</th>\n",
       "      <td>M10387</td>\n",
       "      <td>16.916667</td>\n",
       "      <td>288.833333</td>\n",
       "      <td>22097.750000</td>\n",
       "    </tr>\n",
       "    <tr>\n",
       "      <th>670</th>\n",
       "      <td>M10388</td>\n",
       "      <td>15.666667</td>\n",
       "      <td>140.583333</td>\n",
       "      <td>5629.000000</td>\n",
       "    </tr>\n",
       "  </tbody>\n",
       "</table>\n",
       "<p>671 rows × 4 columns</p>\n",
       "</div>"
      ],
      "text/plain": [
       "    Müşteri No  prod_month_avg  order_month_avg  order_amount_sum\n",
       "0      C-10001       18.000000      1430.083333      10524.166667\n",
       "1      C-10003       14.666667       305.250000       2484.583333\n",
       "2      C-10004        1.500000        25.000000       1269.833333\n",
       "3      C-10005       13.333333       117.750000      73408.583333\n",
       "4      C-10006       14.166667       213.000000        972.750000\n",
       "..         ...             ...              ...               ...\n",
       "666     M10384        3.083333        29.500000       1746.750000\n",
       "667     M10385        0.500000         0.833333        341.333333\n",
       "668     M10386       14.916667        88.083333       2809.416667\n",
       "669     M10387       16.916667       288.833333      22097.750000\n",
       "670     M10388       15.666667       140.583333       5629.000000\n",
       "\n",
       "[671 rows x 4 columns]"
      ]
     },
     "execution_count": 9,
     "metadata": {},
     "output_type": "execute_result"
    }
   ],
   "source": [
    "data_cust"
   ]
  },
  {
   "cell_type": "code",
   "execution_count": 10,
   "id": "ce76ee61",
   "metadata": {},
   "outputs": [],
   "source": [
    "data_order[\"Sipariş Tarihi\"] = pd.to_datetime(data_order[\"Sipariş Tarihi\"])"
   ]
  },
  {
   "cell_type": "code",
   "execution_count": 11,
   "id": "13c19e56",
   "metadata": {},
   "outputs": [],
   "source": [
    "data_order[\"order_month\"] = data_order[\"Sipariş Tarihi\"].dt.month"
   ]
  },
  {
   "cell_type": "code",
   "execution_count": 12,
   "id": "5c94af64",
   "metadata": {},
   "outputs": [],
   "source": [
    "aa = data_order.groupby(['Müşteri No',\"order_month\"])['Sipariş Edilen Miktar'].sum()"
   ]
  },
  {
   "cell_type": "code",
   "execution_count": 13,
   "id": "68610f71",
   "metadata": {},
   "outputs": [],
   "source": [
    "aa = pd.DataFrame(aa).reset_index()"
   ]
  },
  {
   "cell_type": "code",
   "execution_count": 14,
   "id": "e671860a",
   "metadata": {},
   "outputs": [],
   "source": [
    "b = pd.DataFrame()\n",
    "b[\"order_std_monthly\"] = aa.groupby(['Müşteri No'])['Sipariş Edilen Miktar'].std()\n",
    "b=b.reset_index()"
   ]
  },
  {
   "cell_type": "code",
   "execution_count": 15,
   "id": "6f0f738d",
   "metadata": {
    "scrolled": true
   },
   "outputs": [],
   "source": [
    "data_cust2 = pd.merge(data_cust, b, on=\"Müşteri No\")"
   ]
  },
  {
   "cell_type": "code",
   "execution_count": 16,
   "id": "dd1b67f0",
   "metadata": {},
   "outputs": [],
   "source": [
    "data_cust2['order_std_monthly'] = data_cust2['order_std_monthly'].fillna((data_cust2['order_std_monthly'].mean()))"
   ]
  },
  {
   "cell_type": "code",
   "execution_count": 17,
   "id": "c3415af4",
   "metadata": {},
   "outputs": [
    {
     "data": {
      "text/html": [
       "<div>\n",
       "<style scoped>\n",
       "    .dataframe tbody tr th:only-of-type {\n",
       "        vertical-align: middle;\n",
       "    }\n",
       "\n",
       "    .dataframe tbody tr th {\n",
       "        vertical-align: top;\n",
       "    }\n",
       "\n",
       "    .dataframe thead th {\n",
       "        text-align: right;\n",
       "    }\n",
       "</style>\n",
       "<table border=\"1\" class=\"dataframe\">\n",
       "  <thead>\n",
       "    <tr style=\"text-align: right;\">\n",
       "      <th></th>\n",
       "      <th>Müşteri No</th>\n",
       "      <th>prod_month_avg</th>\n",
       "      <th>order_month_avg</th>\n",
       "      <th>order_amount_sum</th>\n",
       "      <th>order_std_monthly</th>\n",
       "    </tr>\n",
       "  </thead>\n",
       "  <tbody>\n",
       "    <tr>\n",
       "      <th>0</th>\n",
       "      <td>C-10001</td>\n",
       "      <td>18.000000</td>\n",
       "      <td>1430.083333</td>\n",
       "      <td>10524.166667</td>\n",
       "      <td>3081.735398</td>\n",
       "    </tr>\n",
       "    <tr>\n",
       "      <th>1</th>\n",
       "      <td>C-10003</td>\n",
       "      <td>14.666667</td>\n",
       "      <td>305.250000</td>\n",
       "      <td>2484.583333</td>\n",
       "      <td>1290.086569</td>\n",
       "    </tr>\n",
       "    <tr>\n",
       "      <th>2</th>\n",
       "      <td>C-10004</td>\n",
       "      <td>1.500000</td>\n",
       "      <td>25.000000</td>\n",
       "      <td>1269.833333</td>\n",
       "      <td>740.402941</td>\n",
       "    </tr>\n",
       "    <tr>\n",
       "      <th>3</th>\n",
       "      <td>C-10005</td>\n",
       "      <td>13.333333</td>\n",
       "      <td>117.750000</td>\n",
       "      <td>73408.583333</td>\n",
       "      <td>73880.144623</td>\n",
       "    </tr>\n",
       "    <tr>\n",
       "      <th>4</th>\n",
       "      <td>C-10006</td>\n",
       "      <td>14.166667</td>\n",
       "      <td>213.000000</td>\n",
       "      <td>972.750000</td>\n",
       "      <td>352.988057</td>\n",
       "    </tr>\n",
       "    <tr>\n",
       "      <th>...</th>\n",
       "      <td>...</td>\n",
       "      <td>...</td>\n",
       "      <td>...</td>\n",
       "      <td>...</td>\n",
       "      <td>...</td>\n",
       "    </tr>\n",
       "    <tr>\n",
       "      <th>666</th>\n",
       "      <td>M10384</td>\n",
       "      <td>3.083333</td>\n",
       "      <td>29.500000</td>\n",
       "      <td>1746.750000</td>\n",
       "      <td>1096.806780</td>\n",
       "    </tr>\n",
       "    <tr>\n",
       "      <th>667</th>\n",
       "      <td>M10385</td>\n",
       "      <td>0.500000</td>\n",
       "      <td>0.833333</td>\n",
       "      <td>341.333333</td>\n",
       "      <td>1327.166536</td>\n",
       "    </tr>\n",
       "    <tr>\n",
       "      <th>668</th>\n",
       "      <td>M10386</td>\n",
       "      <td>14.916667</td>\n",
       "      <td>88.083333</td>\n",
       "      <td>2809.416667</td>\n",
       "      <td>2900.352595</td>\n",
       "    </tr>\n",
       "    <tr>\n",
       "      <th>669</th>\n",
       "      <td>M10387</td>\n",
       "      <td>16.916667</td>\n",
       "      <td>288.833333</td>\n",
       "      <td>22097.750000</td>\n",
       "      <td>10801.190289</td>\n",
       "    </tr>\n",
       "    <tr>\n",
       "      <th>670</th>\n",
       "      <td>M10388</td>\n",
       "      <td>15.666667</td>\n",
       "      <td>140.583333</td>\n",
       "      <td>5629.000000</td>\n",
       "      <td>7050.485760</td>\n",
       "    </tr>\n",
       "  </tbody>\n",
       "</table>\n",
       "<p>671 rows × 5 columns</p>\n",
       "</div>"
      ],
      "text/plain": [
       "    Müşteri No  prod_month_avg  order_month_avg  order_amount_sum  \\\n",
       "0      C-10001       18.000000      1430.083333      10524.166667   \n",
       "1      C-10003       14.666667       305.250000       2484.583333   \n",
       "2      C-10004        1.500000        25.000000       1269.833333   \n",
       "3      C-10005       13.333333       117.750000      73408.583333   \n",
       "4      C-10006       14.166667       213.000000        972.750000   \n",
       "..         ...             ...              ...               ...   \n",
       "666     M10384        3.083333        29.500000       1746.750000   \n",
       "667     M10385        0.500000         0.833333        341.333333   \n",
       "668     M10386       14.916667        88.083333       2809.416667   \n",
       "669     M10387       16.916667       288.833333      22097.750000   \n",
       "670     M10388       15.666667       140.583333       5629.000000   \n",
       "\n",
       "     order_std_monthly  \n",
       "0          3081.735398  \n",
       "1          1290.086569  \n",
       "2           740.402941  \n",
       "3         73880.144623  \n",
       "4           352.988057  \n",
       "..                 ...  \n",
       "666        1096.806780  \n",
       "667        1327.166536  \n",
       "668        2900.352595  \n",
       "669       10801.190289  \n",
       "670        7050.485760  \n",
       "\n",
       "[671 rows x 5 columns]"
      ]
     },
     "execution_count": 17,
     "metadata": {},
     "output_type": "execute_result"
    }
   ],
   "source": [
    "data_cust2"
   ]
  },
  {
   "cell_type": "code",
   "execution_count": 18,
   "id": "b4ba033e",
   "metadata": {},
   "outputs": [],
   "source": [
    "data_cust3 = data_cust2[[\"prod_month_avg\",\"order_month_avg\",\"order_amount_sum\",\"order_std_monthly\"]]"
   ]
  },
  {
   "cell_type": "code",
   "execution_count": 19,
   "id": "c9ae1e4f",
   "metadata": {},
   "outputs": [
    {
     "data": {
      "text/html": [
       "<div>\n",
       "<style scoped>\n",
       "    .dataframe tbody tr th:only-of-type {\n",
       "        vertical-align: middle;\n",
       "    }\n",
       "\n",
       "    .dataframe tbody tr th {\n",
       "        vertical-align: top;\n",
       "    }\n",
       "\n",
       "    .dataframe thead th {\n",
       "        text-align: right;\n",
       "    }\n",
       "</style>\n",
       "<table border=\"1\" class=\"dataframe\">\n",
       "  <thead>\n",
       "    <tr style=\"text-align: right;\">\n",
       "      <th></th>\n",
       "      <th>prod_month_avg</th>\n",
       "      <th>order_month_avg</th>\n",
       "      <th>order_amount_sum</th>\n",
       "      <th>order_std_monthly</th>\n",
       "    </tr>\n",
       "  </thead>\n",
       "  <tbody>\n",
       "    <tr>\n",
       "      <th>0</th>\n",
       "      <td>18.000000</td>\n",
       "      <td>1430.083333</td>\n",
       "      <td>10524.166667</td>\n",
       "      <td>3081.735398</td>\n",
       "    </tr>\n",
       "    <tr>\n",
       "      <th>1</th>\n",
       "      <td>14.666667</td>\n",
       "      <td>305.250000</td>\n",
       "      <td>2484.583333</td>\n",
       "      <td>1290.086569</td>\n",
       "    </tr>\n",
       "    <tr>\n",
       "      <th>2</th>\n",
       "      <td>1.500000</td>\n",
       "      <td>25.000000</td>\n",
       "      <td>1269.833333</td>\n",
       "      <td>740.402941</td>\n",
       "    </tr>\n",
       "    <tr>\n",
       "      <th>3</th>\n",
       "      <td>13.333333</td>\n",
       "      <td>117.750000</td>\n",
       "      <td>73408.583333</td>\n",
       "      <td>73880.144623</td>\n",
       "    </tr>\n",
       "    <tr>\n",
       "      <th>4</th>\n",
       "      <td>14.166667</td>\n",
       "      <td>213.000000</td>\n",
       "      <td>972.750000</td>\n",
       "      <td>352.988057</td>\n",
       "    </tr>\n",
       "    <tr>\n",
       "      <th>...</th>\n",
       "      <td>...</td>\n",
       "      <td>...</td>\n",
       "      <td>...</td>\n",
       "      <td>...</td>\n",
       "    </tr>\n",
       "    <tr>\n",
       "      <th>666</th>\n",
       "      <td>3.083333</td>\n",
       "      <td>29.500000</td>\n",
       "      <td>1746.750000</td>\n",
       "      <td>1096.806780</td>\n",
       "    </tr>\n",
       "    <tr>\n",
       "      <th>667</th>\n",
       "      <td>0.500000</td>\n",
       "      <td>0.833333</td>\n",
       "      <td>341.333333</td>\n",
       "      <td>1327.166536</td>\n",
       "    </tr>\n",
       "    <tr>\n",
       "      <th>668</th>\n",
       "      <td>14.916667</td>\n",
       "      <td>88.083333</td>\n",
       "      <td>2809.416667</td>\n",
       "      <td>2900.352595</td>\n",
       "    </tr>\n",
       "    <tr>\n",
       "      <th>669</th>\n",
       "      <td>16.916667</td>\n",
       "      <td>288.833333</td>\n",
       "      <td>22097.750000</td>\n",
       "      <td>10801.190289</td>\n",
       "    </tr>\n",
       "    <tr>\n",
       "      <th>670</th>\n",
       "      <td>15.666667</td>\n",
       "      <td>140.583333</td>\n",
       "      <td>5629.000000</td>\n",
       "      <td>7050.485760</td>\n",
       "    </tr>\n",
       "  </tbody>\n",
       "</table>\n",
       "<p>671 rows × 4 columns</p>\n",
       "</div>"
      ],
      "text/plain": [
       "     prod_month_avg  order_month_avg  order_amount_sum  order_std_monthly\n",
       "0         18.000000      1430.083333      10524.166667        3081.735398\n",
       "1         14.666667       305.250000       2484.583333        1290.086569\n",
       "2          1.500000        25.000000       1269.833333         740.402941\n",
       "3         13.333333       117.750000      73408.583333       73880.144623\n",
       "4         14.166667       213.000000        972.750000         352.988057\n",
       "..              ...              ...               ...                ...\n",
       "666        3.083333        29.500000       1746.750000        1096.806780\n",
       "667        0.500000         0.833333        341.333333        1327.166536\n",
       "668       14.916667        88.083333       2809.416667        2900.352595\n",
       "669       16.916667       288.833333      22097.750000       10801.190289\n",
       "670       15.666667       140.583333       5629.000000        7050.485760\n",
       "\n",
       "[671 rows x 4 columns]"
      ]
     },
     "execution_count": 19,
     "metadata": {},
     "output_type": "execute_result"
    }
   ],
   "source": [
    "data_cust3"
   ]
  },
  {
   "cell_type": "code",
   "execution_count": 20,
   "id": "e4b2f62c",
   "metadata": {},
   "outputs": [],
   "source": [
    "scaler = StandardScaler()\n",
    "data_cust4 = scaler.fit_transform(data_cust3)"
   ]
  },
  {
   "cell_type": "code",
   "execution_count": 21,
   "id": "4d16c29e",
   "metadata": {
    "scrolled": false
   },
   "outputs": [
    {
     "data": {
      "text/html": [
       "<div>\n",
       "<style scoped>\n",
       "    .dataframe tbody tr th:only-of-type {\n",
       "        vertical-align: middle;\n",
       "    }\n",
       "\n",
       "    .dataframe tbody tr th {\n",
       "        vertical-align: top;\n",
       "    }\n",
       "\n",
       "    .dataframe thead th {\n",
       "        text-align: right;\n",
       "    }\n",
       "</style>\n",
       "<table border=\"1\" class=\"dataframe\">\n",
       "  <thead>\n",
       "    <tr style=\"text-align: right;\">\n",
       "      <th></th>\n",
       "      <th>prod_month_avg</th>\n",
       "      <th>order_month_avg</th>\n",
       "      <th>order_amount_sum</th>\n",
       "      <th>order_std_monthly</th>\n",
       "    </tr>\n",
       "  </thead>\n",
       "  <tbody>\n",
       "    <tr>\n",
       "      <th>0</th>\n",
       "      <td>2.273117</td>\n",
       "      <td>9.788629</td>\n",
       "      <td>1.970678</td>\n",
       "      <td>5.110450e-01</td>\n",
       "    </tr>\n",
       "    <tr>\n",
       "      <th>1</th>\n",
       "      <td>1.667512</td>\n",
       "      <td>1.733985</td>\n",
       "      <td>0.141878</td>\n",
       "      <td>-1.080011e-02</td>\n",
       "    </tr>\n",
       "    <tr>\n",
       "      <th>2</th>\n",
       "      <td>-0.724628</td>\n",
       "      <td>-0.272814</td>\n",
       "      <td>-0.134447</td>\n",
       "      <td>-1.709039e-01</td>\n",
       "    </tr>\n",
       "    <tr>\n",
       "      <th>3</th>\n",
       "      <td>1.425270</td>\n",
       "      <td>0.391346</td>\n",
       "      <td>16.275278</td>\n",
       "      <td>2.113217e+01</td>\n",
       "    </tr>\n",
       "    <tr>\n",
       "      <th>4</th>\n",
       "      <td>1.576671</td>\n",
       "      <td>1.073406</td>\n",
       "      <td>-0.202026</td>\n",
       "      <td>-2.837444e-01</td>\n",
       "    </tr>\n",
       "    <tr>\n",
       "      <th>...</th>\n",
       "      <td>...</td>\n",
       "      <td>...</td>\n",
       "      <td>...</td>\n",
       "      <td>...</td>\n",
       "    </tr>\n",
       "    <tr>\n",
       "      <th>666</th>\n",
       "      <td>-0.436965</td>\n",
       "      <td>-0.240590</td>\n",
       "      <td>-0.025961</td>\n",
       "      <td>-6.709581e-02</td>\n",
       "    </tr>\n",
       "    <tr>\n",
       "      <th>667</th>\n",
       "      <td>-0.906309</td>\n",
       "      <td>-0.445865</td>\n",
       "      <td>-0.345657</td>\n",
       "      <td>-6.622606e-17</td>\n",
       "    </tr>\n",
       "    <tr>\n",
       "      <th>668</th>\n",
       "      <td>1.712932</td>\n",
       "      <td>0.178910</td>\n",
       "      <td>0.215769</td>\n",
       "      <td>4.582145e-01</td>\n",
       "    </tr>\n",
       "    <tr>\n",
       "      <th>669</th>\n",
       "      <td>2.076295</td>\n",
       "      <td>1.616430</td>\n",
       "      <td>4.603373</td>\n",
       "      <td>2.759454e+00</td>\n",
       "    </tr>\n",
       "    <tr>\n",
       "      <th>670</th>\n",
       "      <td>1.849193</td>\n",
       "      <td>0.554849</td>\n",
       "      <td>0.857152</td>\n",
       "      <td>1.667004e+00</td>\n",
       "    </tr>\n",
       "  </tbody>\n",
       "</table>\n",
       "<p>671 rows × 4 columns</p>\n",
       "</div>"
      ],
      "text/plain": [
       "     prod_month_avg  order_month_avg  order_amount_sum  order_std_monthly\n",
       "0          2.273117         9.788629          1.970678       5.110450e-01\n",
       "1          1.667512         1.733985          0.141878      -1.080011e-02\n",
       "2         -0.724628        -0.272814         -0.134447      -1.709039e-01\n",
       "3          1.425270         0.391346         16.275278       2.113217e+01\n",
       "4          1.576671         1.073406         -0.202026      -2.837444e-01\n",
       "..              ...              ...               ...                ...\n",
       "666       -0.436965        -0.240590         -0.025961      -6.709581e-02\n",
       "667       -0.906309        -0.445865         -0.345657      -6.622606e-17\n",
       "668        1.712932         0.178910          0.215769       4.582145e-01\n",
       "669        2.076295         1.616430          4.603373       2.759454e+00\n",
       "670        1.849193         0.554849          0.857152       1.667004e+00\n",
       "\n",
       "[671 rows x 4 columns]"
      ]
     },
     "execution_count": 21,
     "metadata": {},
     "output_type": "execute_result"
    }
   ],
   "source": [
    "data_cust4 = pd.DataFrame(data_cust4, columns=[\"prod_month_avg\",\"order_month_avg\",\"order_amount_sum\",\"order_std_monthly\"])\n",
    "data_cust4"
   ]
  },
  {
   "cell_type": "markdown",
   "id": "b448a1e7",
   "metadata": {},
   "source": [
    "### Visualising Clusters by applying PCA"
   ]
  },
  {
   "cell_type": "markdown",
   "id": "c4b4596d",
   "metadata": {},
   "source": [
    "#### By using new features found above, customer based segmentation is done. Customers are clustered in three categories."
   ]
  },
  {
   "cell_type": "code",
   "execution_count": 22,
   "id": "dc82d8bb",
   "metadata": {
    "scrolled": false
   },
   "outputs": [
    {
     "name": "stderr",
     "output_type": "stream",
     "text": [
      "C:\\Users\\Salih\\anaconda3\\lib\\site-packages\\sklearn\\cluster\\_kmeans.py:881: UserWarning: KMeans is known to have a memory leak on Windows with MKL, when there are less chunks than available threads. You can avoid it by setting the environment variable OMP_NUM_THREADS=3.\n",
      "  warnings.warn(\n"
     ]
    },
    {
     "data": {
      "image/png": "[encoded data removed]",
      "text/plain": [
       "<Figure size 864x432 with 1 Axes>"
      ]
     },
     "metadata": {
      "needs_background": "light"
     },
     "output_type": "display_data"
    }
   ],
   "source": [
    "from sklearn.cluster import KMeans\n",
    "wcss = []\n",
    "for k in range(1,11):\n",
    "    kmeans = KMeans(n_clusters=k, init=\"k-means++\")\n",
    "    kmeans.fit(data_cust3)\n",
    "    wcss.append(kmeans.inertia_)\n",
    "plt.figure(figsize=(12,6))    \n",
    "plt.grid()\n",
    "plt.plot(range(1,11),wcss, linewidth=2, color=\"red\", marker =\"8\")\n",
    "plt.xlabel(\"K Value\")\n",
    "plt.xticks(np.arange(1,11,1))\n",
    "plt.ylabel(\"WCSS\")\n",
    "plt.show()"
   ]
  },
  {
   "cell_type": "code",
   "execution_count": 23,
   "id": "2e5f3295",
   "metadata": {},
   "outputs": [
    {
     "data": {
      "text/plain": [
       "KMeans(n_clusters=3)"
      ]
     },
     "execution_count": 23,
     "metadata": {},
     "output_type": "execute_result"
    }
   ],
   "source": [
    "from sklearn.cluster import KMeans\n",
    "# K -clusters is equal to 3 because things will be sorted into A, B, and C\n",
    "kmeans = KMeans(n_clusters=3)\n",
    "kmeans.fit(data_cust4)"
   ]
  },
  {
   "cell_type": "code",
   "execution_count": 24,
   "id": "1cf4fecd",
   "metadata": {},
   "outputs": [],
   "source": [
    "data_cust4[\"category\"] = kmeans.labels_"
   ]
  },
  {
   "cell_type": "code",
   "execution_count": 25,
   "id": "44c6a13e",
   "metadata": {},
   "outputs": [
    {
     "name": "stdout",
     "output_type": "stream",
     "text": [
      "pca.components: \n",
      " [[ 0.45308972  0.39979241  0.59197261  0.53333307]\n",
      " [-0.48911267 -0.62183227  0.33085987  0.51441731]\n",
      " [-0.74027494  0.66666109  0.05817265  0.06459061]\n",
      " [-0.0864379  -0.09515068  0.73260912 -0.66840012]]\n",
      "pca.explained variance:\n",
      " [2.34165098 1.06154363 0.48528971 0.11748582]\n",
      "pca.explained variance ratio:\n",
      " [0.5845403  0.2649904  0.12114162 0.02932768]\n",
      "mse:\n"
     ]
    },
    {
     "data": {
      "text/plain": [
       "prod_month_avg       6.958441e-31\n",
       "order_month_avg      2.943243e-31\n",
       "order_amount_sum     7.374339e-31\n",
       "order_std_monthly    1.457823e-30\n",
       "dtype: float64"
      ]
     },
     "metadata": {},
     "output_type": "display_data"
    }
   ],
   "source": [
    "X = data_cust4.drop(columns=['category'])\n",
    "p = 4 # number of principle components to keep \n",
    "pca = PCA(p) \n",
    "Y = pca.fit_transform(X) ## pca is applied\n",
    "print('pca.components: \\n', pca.components_)\n",
    "print('pca.explained variance:\\n', pca.explained_variance_)\n",
    "print('pca.explained variance ratio:\\n', pca.explained_variance_ratio_)\n",
    "X_reconstructed = pca.inverse_transform(Y)\n",
    "X_reconstructed = pd.DataFrame(X_reconstructed, columns=X.columns)\n",
    "print('mse:')\n",
    "display(((X-X_reconstructed)*(X-X_reconstructed)).mean())"
   ]
  },
  {
   "cell_type": "code",
   "execution_count": 26,
   "id": "277e8178",
   "metadata": {},
   "outputs": [
    {
     "data": {
      "text/plain": [
       "<AxesSubplot:xlabel='Principal Components', ylabel='Explained Variance Ratios'>"
      ]
     },
     "execution_count": 26,
     "metadata": {},
     "output_type": "execute_result"
    },
    {
     "data": {
      "image/png": "[encoded data removed]",
      "text/plain": [
       "<Figure size 1440x360 with 1 Axes>"
      ]
     },
     "metadata": {
      "needs_background": "light"
     },
     "output_type": "display_data"
    }
   ],
   "source": [
    "PClist= []\n",
    "for i in range(1,5):\n",
    "    PClist.append(str(i))\n",
    "\n",
    "df11 = pd.DataFrame({'Explained Variance Ratios':pca.explained_variance_ratio_,\n",
    "             'Principal Components':PClist})\n",
    "fig, ax = plt.subplots(figsize=(20, 5))\n",
    "sns.barplot(x='Principal Components',y=\"Explained Variance Ratios\", \n",
    "           data=df11, color=\"c\", ax = ax)"
   ]
  },
  {
   "cell_type": "code",
   "execution_count": 27,
   "id": "a374df51",
   "metadata": {},
   "outputs": [],
   "source": [
    "pca = PCA(n_components=2)\n",
    "principalComponents = pca.fit_transform(X)\n",
    "principalDf = pd.DataFrame(data = principalComponents\n",
    "             , columns = ['principal component 1', 'principal component 2'])"
   ]
  },
  {
   "cell_type": "code",
   "execution_count": 28,
   "id": "93e4ebd7",
   "metadata": {},
   "outputs": [],
   "source": [
    "finalDf = pd.concat([principalDf, data_cust4[['category']]], axis = 1)"
   ]
  },
  {
   "cell_type": "code",
   "execution_count": 29,
   "id": "840983dd",
   "metadata": {
    "scrolled": false
   },
   "outputs": [
    {
     "data": {
      "image/png": "[encoded data removed]",
      "text/plain": [
       "<Figure size 432x432 with 1 Axes>"
      ]
     },
     "metadata": {
      "needs_background": "light"
     },
     "output_type": "display_data"
    }
   ],
   "source": [
    "fig = plt.figure(figsize = (6,6))\n",
    "ax = fig.add_subplot(1,1,1) \n",
    "ax.set_xlabel('Principal Component 1', fontsize = 15)\n",
    "ax.set_ylabel('Principal Component 2', fontsize = 15)\n",
    "ax.set_title('2 component PCA', fontsize = 20)\n",
    "targets = [0,1,2]\n",
    "colors = ['r', 'b', \"g\"]\n",
    "for target, color in zip(targets,colors):\n",
    "    indicesToKeep = finalDf['category'] == target\n",
    "    ax.scatter(finalDf.loc[indicesToKeep, 'principal component 1']\n",
    "               , finalDf.loc[indicesToKeep, 'principal component 2']\n",
    "               , c = color\n",
    "               , s = 50)\n",
    "ax.legend(targets)\n",
    "ax.grid()"
   ]
  },
  {
   "cell_type": "markdown",
   "id": "0980bcf2",
   "metadata": {},
   "source": [
    "#### Product-based Segmentation using feature engineering"
   ]
  },
  {
   "cell_type": "code",
   "execution_count": 30,
   "id": "42569437",
   "metadata": {},
   "outputs": [],
   "source": [
    "data_prod = pd.DataFrame()\n",
    "data_prod[\"cust_month_avg\"] = data_order.groupby(['Malzeme Numarası'])['Müşteri No'].nunique()/12\n",
    "data_prod[\"order_month_avg\"] = data_order.groupby(['Malzeme Numarası'])['Sipariş Numarası'].count()/12\n",
    "data_prod[\"order_amount_avg\"] = data_order.groupby(['Malzeme Numarası'])['Sipariş Edilen Miktar'].sum()/12\n",
    "data_prod = data_prod.reset_index()"
   ]
  },
  {
   "cell_type": "code",
   "execution_count": 31,
   "id": "54207d1a",
   "metadata": {},
   "outputs": [],
   "source": [
    "data_order[\"Sipariş Tarihi\"] = pd.to_datetime(data_order[\"Sipariş Tarihi\"])\n",
    "data_order[\"order_month\"] = data_order[\"Sipariş Tarihi\"].dt.month\n",
    "aa = data_order.groupby(['Malzeme Numarası',\"order_month\"])['Sipariş Edilen Miktar'].sum()\n",
    "aa = pd.DataFrame(aa).reset_index()\n",
    "b = pd.DataFrame()\n",
    "b[\"order_std_monthly\"] = aa.groupby(['Malzeme Numarası'])['Sipariş Edilen Miktar'].std()\n",
    "b=b.reset_index()\n",
    "data_prod2 = pd.merge(data_prod, b, on='Malzeme Numarası')\n",
    "data_prod2['order_std_monthly'] = data_prod2['order_std_monthly'].fillna((data_prod2['order_std_monthly'].mean()))\n",
    "data_prod3 = data_prod2[[\"cust_month_avg\",\"order_month_avg\",\"order_amount_avg\",\"order_std_monthly\"]]"
   ]
  },
  {
   "cell_type": "code",
   "execution_count": 32,
   "id": "5ac0c96f",
   "metadata": {},
   "outputs": [],
   "source": [
    "scaler = StandardScaler()\n",
    "data_prod4 = scaler.fit_transform(data_prod3)\n",
    "data_prod4 = pd.DataFrame(data_prod4, columns=[\"cust_month_avg\",\"order_month_avg\",\"order_amount_avg\",\"order_std_monthly\"])"
   ]
  },
  {
   "cell_type": "markdown",
   "id": "89685bb9",
   "metadata": {},
   "source": [
    "### Visualising Clusters by applying PCA"
   ]
  },
  {
   "cell_type": "markdown",
   "id": "78128c76",
   "metadata": {},
   "source": [
    "#### By using new features found above, product based segmentation is done. Products are clustered in three categories."
   ]
  },
  {
   "cell_type": "code",
   "execution_count": 33,
   "id": "bab6b48d",
   "metadata": {},
   "outputs": [
    {
     "name": "stderr",
     "output_type": "stream",
     "text": [
      "C:\\Users\\Salih\\anaconda3\\lib\\site-packages\\sklearn\\cluster\\_kmeans.py:881: UserWarning: KMeans is known to have a memory leak on Windows with MKL, when there are less chunks than available threads. You can avoid it by setting the environment variable OMP_NUM_THREADS=4.\n",
      "  warnings.warn(\n"
     ]
    },
    {
     "data": {
      "image/png": "[encoded data removed]",
      "text/plain": [
       "<Figure size 864x432 with 1 Axes>"
      ]
     },
     "metadata": {
      "needs_background": "light"
     },
     "output_type": "display_data"
    }
   ],
   "source": [
    "from sklearn.cluster import KMeans\n",
    "wcss = []\n",
    "for k in range(1,11):\n",
    "    kmeans = KMeans(n_clusters=k, init=\"k-means++\")\n",
    "    kmeans.fit(data_prod3)\n",
    "    wcss.append(kmeans.inertia_)\n",
    "plt.figure(figsize=(12,6))    \n",
    "plt.grid()\n",
    "plt.plot(range(1,11),wcss, linewidth=2, color=\"red\", marker =\"8\")\n",
    "plt.xlabel(\"K Value\")\n",
    "plt.xticks(np.arange(1,11,1))\n",
    "plt.ylabel(\"WCSS\")\n",
    "plt.show()"
   ]
  },
  {
   "cell_type": "code",
   "execution_count": 34,
   "id": "86ed5120",
   "metadata": {},
   "outputs": [
    {
     "data": {
      "text/plain": [
       "KMeans(n_clusters=3)"
      ]
     },
     "execution_count": 34,
     "metadata": {},
     "output_type": "execute_result"
    }
   ],
   "source": [
    "from sklearn.cluster import KMeans\n",
    "# K -clusters is equal to 3 because things will be sorted into A, B, and C\n",
    "kmeans = KMeans(n_clusters=3)\n",
    "kmeans.fit(data_prod4)"
   ]
  },
  {
   "cell_type": "code",
   "execution_count": 35,
   "id": "7a3db7d5",
   "metadata": {},
   "outputs": [],
   "source": [
    "data_prod4[\"category\"] = kmeans.labels_"
   ]
  },
  {
   "cell_type": "code",
   "execution_count": 36,
   "id": "f929bcc9",
   "metadata": {},
   "outputs": [
    {
     "name": "stdout",
     "output_type": "stream",
     "text": [
      "pca.components: \n",
      " [[ 0.51273024  0.5511187   0.5687507   0.33150946]\n",
      " [-0.38145259 -0.38677891  0.25183286  0.80092209]\n",
      " [-0.71740906  0.34715893  0.50419049 -0.33256109]\n",
      " [-0.27735512  0.65280237 -0.59907829  0.37152173]]\n",
      "pca.explained variance:\n",
      " [2.43512931 1.04777033 0.38480155 0.13726159]\n",
      "pca.explained variance ratio:\n",
      " [0.60802795 0.261618   0.09608118 0.03427287]\n",
      "mse:\n"
     ]
    },
    {
     "data": {
      "text/plain": [
       "cust_month_avg       2.520467e-31\n",
       "order_month_avg      8.186812e-31\n",
       "order_amount_avg     7.132729e-31\n",
       "order_std_monthly    4.664993e-31\n",
       "dtype: float64"
      ]
     },
     "metadata": {},
     "output_type": "display_data"
    }
   ],
   "source": [
    "X = data_prod4.drop(columns=['category'])\n",
    "p = 4 # number of principle components to keep \n",
    "pca = PCA(p) \n",
    "Y = pca.fit_transform(X) ## pca is applied\n",
    "print('pca.components: \\n', pca.components_)\n",
    "print('pca.explained variance:\\n', pca.explained_variance_)\n",
    "print('pca.explained variance ratio:\\n', pca.explained_variance_ratio_)\n",
    "X_reconstructed = pca.inverse_transform(Y)\n",
    "X_reconstructed = pd.DataFrame(X_reconstructed, columns=X.columns)\n",
    "print('mse:')\n",
    "display(((X-X_reconstructed)*(X-X_reconstructed)).mean())"
   ]
  },
  {
   "cell_type": "code",
   "execution_count": 37,
   "id": "24af174c",
   "metadata": {},
   "outputs": [
    {
     "data": {
      "text/plain": [
       "<AxesSubplot:xlabel='Principal Components', ylabel='Explained Variance Ratios'>"
      ]
     },
     "execution_count": 37,
     "metadata": {},
     "output_type": "execute_result"
    },
    {
     "data": {
      "image/png": "[encoded data removed]",
      "text/plain": [
       "<Figure size 1440x360 with 1 Axes>"
      ]
     },
     "metadata": {
      "needs_background": "light"
     },
     "output_type": "display_data"
    }
   ],
   "source": [
    "PClist= []\n",
    "for i in range(1,5):\n",
    "    PClist.append(str(i))\n",
    "\n",
    "df11 = pd.DataFrame({'Explained Variance Ratios':pca.explained_variance_ratio_,\n",
    "             'Principal Components':PClist})\n",
    "fig, ax = plt.subplots(figsize=(20, 5))\n",
    "sns.barplot(x='Principal Components',y=\"Explained Variance Ratios\", \n",
    "           data=df11, color=\"c\", ax = ax)"
   ]
  },
  {
   "cell_type": "code",
   "execution_count": 38,
   "id": "c9dd4fd5",
   "metadata": {},
   "outputs": [],
   "source": [
    "pca = PCA(n_components=2)\n",
    "principalComponents = pca.fit_transform(X)\n",
    "principalDf = pd.DataFrame(data = principalComponents\n",
    "             , columns = ['principal component 1', 'principal component 2'])\n",
    "finalDf = pd.concat([principalDf, data_prod4[['category']]], axis = 1)"
   ]
  },
  {
   "cell_type": "code",
   "execution_count": 39,
   "id": "8a542cf0",
   "metadata": {},
   "outputs": [
    {
     "data": {
      "image/png": "[encoded data removed]",
      "text/plain": [
       "<Figure size 432x432 with 1 Axes>"
      ]
     },
     "metadata": {
      "needs_background": "light"
     },
     "output_type": "display_data"
    }
   ],
   "source": [
    "fig = plt.figure(figsize = (6,6))\n",
    "ax = fig.add_subplot(1,1,1) \n",
    "ax.set_xlabel('Principal Component 1', fontsize = 15)\n",
    "ax.set_ylabel('Principal Component 2', fontsize = 15)\n",
    "ax.set_title('2 component PCA', fontsize = 20)\n",
    "targets = [0,1,2]\n",
    "colors = ['r', 'b', \"g\"]\n",
    "for target, color in zip(targets,colors):\n",
    "    indicesToKeep = finalDf['category'] == target\n",
    "    ax.scatter(finalDf.loc[indicesToKeep, 'principal component 1']\n",
    "               , finalDf.loc[indicesToKeep, 'principal component 2']\n",
    "               , c = color\n",
    "               , s = 50)\n",
    "ax.legend(targets)\n",
    "ax.grid()"
   ]
  },
  {
   "cell_type": "markdown",
   "id": "361ac587",
   "metadata": {},
   "source": [
    "### ABC Analysis(Using only Sipariş Edilen Miktar)"
   ]
  },
  {
   "cell_type": "code",
   "execution_count": 40,
   "id": "d663239d",
   "metadata": {},
   "outputs": [],
   "source": [
    "df_1 = data_order.groupby(['Müşteri No'])['Sipariş Edilen Miktar'].sum()\n",
    "df_2 = data_order.groupby(['Malzeme Numarası'])['Sipariş Edilen Miktar'].sum()\n",
    "df_2 = pd.DataFrame(df_2).reset_index()"
   ]
  },
  {
   "cell_type": "markdown",
   "id": "2c47f6fa",
   "metadata": {},
   "source": [
    "#### Product-based ABC Analysis"
   ]
  },
  {
   "cell_type": "code",
   "execution_count": 41,
   "id": "f9b1d998",
   "metadata": {},
   "outputs": [],
   "source": [
    "# Create bins function\n",
    "def bins(x):\n",
    "    for bar in range(1000, 370000, 1000):\n",
    "        if x <= bar:\n",
    "            return bar\n",
    "# Create new column to apply the bin function\n",
    "df_2[\"miktar_dist\"] = df_2[\"Sipariş Edilen Miktar\"].apply(lambda x: bins(x))"
   ]
  },
  {
   "cell_type": "code",
   "execution_count": 42,
   "id": "a4a477cc",
   "metadata": {},
   "outputs": [],
   "source": [
    "# Create a support column of 1’s to facilitate the pivot table\n",
    "df_2[\"count\"] = 1\n",
    "# Create a pivot table of the revenue distributions\n",
    "pivot_table = pd.pivot_table(df_2, index = [\"miktar_dist\"], values = [\"count\"], aggfunc = np.sum)"
   ]
  },
  {
   "cell_type": "code",
   "execution_count": 43,
   "id": "82757330",
   "metadata": {},
   "outputs": [
    {
     "data": {
      "text/plain": [
       "KMeans(n_clusters=3)"
      ]
     },
     "execution_count": 43,
     "metadata": {},
     "output_type": "execute_result"
    }
   ],
   "source": [
    "# import model from SKLearn\n",
    "from sklearn.cluster import KMeans\n",
    "# K -clusters is equal to 3 because things will be sorted into A, B, and C\n",
    "kmeans = KMeans(n_clusters=3)\n",
    "kmeans.fit(pivot_table)"
   ]
  },
  {
   "cell_type": "code",
   "execution_count": 44,
   "id": "3c52d4f2",
   "metadata": {},
   "outputs": [],
   "source": [
    "pivot_table[\"category\"] = kmeans.labels_"
   ]
  },
  {
   "cell_type": "code",
   "execution_count": 45,
   "id": "627981ad",
   "metadata": {},
   "outputs": [],
   "source": [
    "# Create a dictionary to give alphabetical labels\n",
    "ABC_dict = {    \n",
    "    0: \"A\",\n",
    "    1: \"C\",\n",
    "    2: \"B\"\n",
    "}\n",
    "pivot_table[\"ABC\"] = pivot_table[\"category\"].apply(lambda x: ABC_dict[x])"
   ]
  },
  {
   "cell_type": "code",
   "execution_count": 46,
   "id": "f7d27212",
   "metadata": {},
   "outputs": [],
   "source": [
    "# Merge the dataframes so that there's a new column to identify ABC\n",
    "data_order_2 = pd.merge(df_2, pivot_table, on = \"miktar_dist\", how =\"left\")"
   ]
  },
  {
   "cell_type": "code",
   "execution_count": 47,
   "id": "36cac3b9",
   "metadata": {},
   "outputs": [
    {
     "data": {
      "text/html": [
       "<div>\n",
       "<style scoped>\n",
       "    .dataframe tbody tr th:only-of-type {\n",
       "        vertical-align: middle;\n",
       "    }\n",
       "\n",
       "    .dataframe tbody tr th {\n",
       "        vertical-align: top;\n",
       "    }\n",
       "\n",
       "    .dataframe thead th {\n",
       "        text-align: right;\n",
       "    }\n",
       "</style>\n",
       "<table border=\"1\" class=\"dataframe\">\n",
       "  <thead>\n",
       "    <tr style=\"text-align: right;\">\n",
       "      <th></th>\n",
       "      <th>Malzeme Numarası</th>\n",
       "      <th>Sipariş Edilen Miktar</th>\n",
       "      <th>miktar_dist</th>\n",
       "      <th>count_x</th>\n",
       "      <th>count_y</th>\n",
       "      <th>category</th>\n",
       "      <th>ABC</th>\n",
       "    </tr>\n",
       "  </thead>\n",
       "  <tbody>\n",
       "    <tr>\n",
       "      <th>0</th>\n",
       "      <td>12574</td>\n",
       "      <td>4989</td>\n",
       "      <td>5000</td>\n",
       "      <td>1</td>\n",
       "      <td>33</td>\n",
       "      <td>2</td>\n",
       "      <td>B</td>\n",
       "    </tr>\n",
       "    <tr>\n",
       "      <th>1</th>\n",
       "      <td>91704</td>\n",
       "      <td>28919</td>\n",
       "      <td>29000</td>\n",
       "      <td>1</td>\n",
       "      <td>2</td>\n",
       "      <td>0</td>\n",
       "      <td>A</td>\n",
       "    </tr>\n",
       "    <tr>\n",
       "      <th>2</th>\n",
       "      <td>91708</td>\n",
       "      <td>10303</td>\n",
       "      <td>11000</td>\n",
       "      <td>1</td>\n",
       "      <td>27</td>\n",
       "      <td>2</td>\n",
       "      <td>B</td>\n",
       "    </tr>\n",
       "    <tr>\n",
       "      <th>3</th>\n",
       "      <td>92291</td>\n",
       "      <td>23699</td>\n",
       "      <td>24000</td>\n",
       "      <td>1</td>\n",
       "      <td>8</td>\n",
       "      <td>0</td>\n",
       "      <td>A</td>\n",
       "    </tr>\n",
       "    <tr>\n",
       "      <th>4</th>\n",
       "      <td>92741</td>\n",
       "      <td>10144</td>\n",
       "      <td>11000</td>\n",
       "      <td>1</td>\n",
       "      <td>27</td>\n",
       "      <td>2</td>\n",
       "      <td>B</td>\n",
       "    </tr>\n",
       "    <tr>\n",
       "      <th>...</th>\n",
       "      <td>...</td>\n",
       "      <td>...</td>\n",
       "      <td>...</td>\n",
       "      <td>...</td>\n",
       "      <td>...</td>\n",
       "      <td>...</td>\n",
       "      <td>...</td>\n",
       "    </tr>\n",
       "    <tr>\n",
       "      <th>802</th>\n",
       "      <td>VN00721A</td>\n",
       "      <td>10</td>\n",
       "      <td>1000</td>\n",
       "      <td>1</td>\n",
       "      <td>178</td>\n",
       "      <td>1</td>\n",
       "      <td>C</td>\n",
       "    </tr>\n",
       "    <tr>\n",
       "      <th>803</th>\n",
       "      <td>VN00722A</td>\n",
       "      <td>46400</td>\n",
       "      <td>47000</td>\n",
       "      <td>1</td>\n",
       "      <td>3</td>\n",
       "      <td>0</td>\n",
       "      <td>A</td>\n",
       "    </tr>\n",
       "    <tr>\n",
       "      <th>804</th>\n",
       "      <td>VN01037A</td>\n",
       "      <td>3470</td>\n",
       "      <td>4000</td>\n",
       "      <td>1</td>\n",
       "      <td>36</td>\n",
       "      <td>2</td>\n",
       "      <td>B</td>\n",
       "    </tr>\n",
       "    <tr>\n",
       "      <th>805</th>\n",
       "      <td>VN01054A</td>\n",
       "      <td>7183</td>\n",
       "      <td>8000</td>\n",
       "      <td>1</td>\n",
       "      <td>22</td>\n",
       "      <td>2</td>\n",
       "      <td>B</td>\n",
       "    </tr>\n",
       "    <tr>\n",
       "      <th>806</th>\n",
       "      <td>VN01324A</td>\n",
       "      <td>33060</td>\n",
       "      <td>34000</td>\n",
       "      <td>1</td>\n",
       "      <td>2</td>\n",
       "      <td>0</td>\n",
       "      <td>A</td>\n",
       "    </tr>\n",
       "  </tbody>\n",
       "</table>\n",
       "<p>807 rows × 7 columns</p>\n",
       "</div>"
      ],
      "text/plain": [
       "    Malzeme Numarası  Sipariş Edilen Miktar  miktar_dist  count_x  count_y  \\\n",
       "0              12574                   4989         5000        1       33   \n",
       "1              91704                  28919        29000        1        2   \n",
       "2              91708                  10303        11000        1       27   \n",
       "3              92291                  23699        24000        1        8   \n",
       "4              92741                  10144        11000        1       27   \n",
       "..               ...                    ...          ...      ...      ...   \n",
       "802         VN00721A                     10         1000        1      178   \n",
       "803         VN00722A                  46400        47000        1        3   \n",
       "804         VN01037A                   3470         4000        1       36   \n",
       "805         VN01054A                   7183         8000        1       22   \n",
       "806         VN01324A                  33060        34000        1        2   \n",
       "\n",
       "     category ABC  \n",
       "0           2   B  \n",
       "1           0   A  \n",
       "2           2   B  \n",
       "3           0   A  \n",
       "4           2   B  \n",
       "..        ...  ..  \n",
       "802         1   C  \n",
       "803         0   A  \n",
       "804         2   B  \n",
       "805         2   B  \n",
       "806         0   A  \n",
       "\n",
       "[807 rows x 7 columns]"
      ]
     },
     "execution_count": 47,
     "metadata": {},
     "output_type": "execute_result"
    }
   ],
   "source": [
    "data_order_2"
   ]
  },
  {
   "cell_type": "code",
   "execution_count": 48,
   "id": "5937b827",
   "metadata": {
    "scrolled": true
   },
   "outputs": [
    {
     "data": {
      "text/plain": [
       "B    367\n",
       "A    262\n",
       "C    178\n",
       "Name: ABC, dtype: int64"
      ]
     },
     "execution_count": 48,
     "metadata": {},
     "output_type": "execute_result"
    }
   ],
   "source": [
    "data_order_2[\"ABC\"].value_counts()"
   ]
  },
  {
   "cell_type": "code",
   "execution_count": 49,
   "id": "c13e6156",
   "metadata": {},
   "outputs": [
    {
     "data": {
      "text/plain": [
       "12971069"
      ]
     },
     "execution_count": 49,
     "metadata": {},
     "output_type": "execute_result"
    }
   ],
   "source": [
    "data_order_2[data_order_2[\"ABC\"]==\"A\"][\"Sipariş Edilen Miktar\"].sum()"
   ]
  },
  {
   "cell_type": "code",
   "execution_count": 50,
   "id": "c9091aaf",
   "metadata": {},
   "outputs": [
    {
     "data": {
      "text/plain": [
       "1954449"
      ]
     },
     "execution_count": 50,
     "metadata": {},
     "output_type": "execute_result"
    }
   ],
   "source": [
    "data_order_2[data_order_2[\"ABC\"]==\"B\"][\"Sipariş Edilen Miktar\"].sum()"
   ]
  },
  {
   "cell_type": "code",
   "execution_count": 51,
   "id": "4b5a04cb",
   "metadata": {
    "scrolled": true
   },
   "outputs": [
    {
     "data": {
      "text/plain": [
       "58254"
      ]
     },
     "execution_count": 51,
     "metadata": {},
     "output_type": "execute_result"
    }
   ],
   "source": [
    "data_order_2[data_order_2[\"ABC\"]==\"C\"][\"Sipariş Edilen Miktar\"].sum()"
   ]
  },
  {
   "cell_type": "code",
   "execution_count": 52,
   "id": "e2990d3f",
   "metadata": {
    "scrolled": true
   },
   "outputs": [
    {
     "name": "stdout",
     "output_type": "stream",
     "text": [
      "32.47 percent of the products (Segment A) form 86.57 percent of all order amounts\n"
     ]
    }
   ],
   "source": [
    "seg_A = (262/(367+262+178))*100\n",
    "seg_A_total = (12971069/(12971069+1954449+58254))*100\n",
    "print(\"{:.2f} percent of the products (Segment A) form {:.2f} percent of all order amounts\".format(seg_A,seg_A_total))"
   ]
  },
  {
   "cell_type": "code",
   "execution_count": 53,
   "id": "8579e1ae",
   "metadata": {},
   "outputs": [
    {
     "name": "stdout",
     "output_type": "stream",
     "text": [
      "45.48 percent of the products (Segment B) form 13.04 percent of all order amounts\n"
     ]
    }
   ],
   "source": [
    "seg_B = (367/(367+262+178))*100\n",
    "seg_B_total = (1954449/(12971069+1954449+58254))*100\n",
    "print(\"{:.2f} percent of the products (Segment B) form {:.2f} percent of all order amounts\".format(seg_B,seg_B_total))"
   ]
  },
  {
   "cell_type": "code",
   "execution_count": 54,
   "id": "9a9e1b54",
   "metadata": {},
   "outputs": [
    {
     "name": "stdout",
     "output_type": "stream",
     "text": [
      "22.06 percent of the products (Segment C) form 0.39 percent of all order amounts\n"
     ]
    }
   ],
   "source": [
    "seg_C = (178/(367+262+178))*100\n",
    "seg_C_total = (58254/(12971069+1954449+58254))*100\n",
    "print(\"{:.2f} percent of the products (Segment C) form {:.2f} percent of all order amounts\".format(seg_C,seg_C_total))"
   ]
  },
  {
   "cell_type": "markdown",
   "id": "0cd258f5",
   "metadata": {},
   "source": [
    "#### Customer-based ABC Analysis"
   ]
  },
  {
   "cell_type": "code",
   "execution_count": 55,
   "id": "46eef7df",
   "metadata": {},
   "outputs": [],
   "source": [
    "df_1 = pd.DataFrame(df_1).reset_index()"
   ]
  },
  {
   "cell_type": "code",
   "execution_count": 56,
   "id": "edbc746f",
   "metadata": {},
   "outputs": [],
   "source": [
    "# Create bins function\n",
    "def bins(x):\n",
    "    for bar in range(10000, 950000, 20000):\n",
    "        if x <= bar:\n",
    "            return bar\n",
    "# Create new column to apply the bin function\n",
    "df_1[\"miktar_dist\"] = df_1[\"Sipariş Edilen Miktar\"].apply(lambda x: bins(x))"
   ]
  },
  {
   "cell_type": "code",
   "execution_count": 57,
   "id": "b0497534",
   "metadata": {},
   "outputs": [],
   "source": [
    "# Create a support column of 1’s to facilitate the pivot table\n",
    "df_1[\"count\"] = 1\n",
    "# Create a pivot table of the revenue distributions\n",
    "pivot_table2 = pd.pivot_table(df_1, index = [\"miktar_dist\"], values = [\"count\"], aggfunc = np.sum)"
   ]
  },
  {
   "cell_type": "code",
   "execution_count": 58,
   "id": "93ed136d",
   "metadata": {},
   "outputs": [
    {
     "data": {
      "text/plain": [
       "KMeans(n_clusters=3)"
      ]
     },
     "execution_count": 58,
     "metadata": {},
     "output_type": "execute_result"
    }
   ],
   "source": [
    "# import model from SKLearn\n",
    "from sklearn.cluster import KMeans\n",
    "# K -clusters is equal to 3 because things will be sorted into A, B, and C\n",
    "kmeans = KMeans(n_clusters=3)\n",
    "kmeans.fit(pivot_table2)"
   ]
  },
  {
   "cell_type": "code",
   "execution_count": 59,
   "id": "ebf17fe1",
   "metadata": {},
   "outputs": [],
   "source": [
    "pivot_table2[\"category\"] = kmeans.labels_"
   ]
  },
  {
   "cell_type": "code",
   "execution_count": 60,
   "id": "bf4ccf94",
   "metadata": {},
   "outputs": [],
   "source": [
    "# Create a dictionary to give alphabetical labels\n",
    "ABC_dict = {    \n",
    "    0: \"A\",\n",
    "    1: \"B\",\n",
    "    2: \"C\"\n",
    "}\n",
    "pivot_table2[\"ABC\"] = pivot_table2[\"category\"].apply(lambda x: ABC_dict[x])"
   ]
  },
  {
   "cell_type": "code",
   "execution_count": 61,
   "id": "95aaffbe",
   "metadata": {},
   "outputs": [],
   "source": [
    "data_order_3 = pd.merge(df_1, pivot_table2, on = \"miktar_dist\", how =\"left\")"
   ]
  },
  {
   "cell_type": "code",
   "execution_count": 62,
   "id": "5887643c",
   "metadata": {},
   "outputs": [
    {
     "data": {
      "text/html": [
       "<div>\n",
       "<style scoped>\n",
       "    .dataframe tbody tr th:only-of-type {\n",
       "        vertical-align: middle;\n",
       "    }\n",
       "\n",
       "    .dataframe tbody tr th {\n",
       "        vertical-align: top;\n",
       "    }\n",
       "\n",
       "    .dataframe thead th {\n",
       "        text-align: right;\n",
       "    }\n",
       "</style>\n",
       "<table border=\"1\" class=\"dataframe\">\n",
       "  <thead>\n",
       "    <tr style=\"text-align: right;\">\n",
       "      <th></th>\n",
       "      <th>Müşteri No</th>\n",
       "      <th>Sipariş Edilen Miktar</th>\n",
       "      <th>miktar_dist</th>\n",
       "      <th>count</th>\n",
       "    </tr>\n",
       "  </thead>\n",
       "  <tbody>\n",
       "    <tr>\n",
       "      <th>0</th>\n",
       "      <td>C-10001</td>\n",
       "      <td>126290</td>\n",
       "      <td>130000</td>\n",
       "      <td>1</td>\n",
       "    </tr>\n",
       "    <tr>\n",
       "      <th>1</th>\n",
       "      <td>C-10003</td>\n",
       "      <td>29815</td>\n",
       "      <td>30000</td>\n",
       "      <td>1</td>\n",
       "    </tr>\n",
       "    <tr>\n",
       "      <th>2</th>\n",
       "      <td>C-10004</td>\n",
       "      <td>15238</td>\n",
       "      <td>30000</td>\n",
       "      <td>1</td>\n",
       "    </tr>\n",
       "    <tr>\n",
       "      <th>3</th>\n",
       "      <td>C-10005</td>\n",
       "      <td>880903</td>\n",
       "      <td>890000</td>\n",
       "      <td>1</td>\n",
       "    </tr>\n",
       "    <tr>\n",
       "      <th>4</th>\n",
       "      <td>C-10006</td>\n",
       "      <td>11673</td>\n",
       "      <td>30000</td>\n",
       "      <td>1</td>\n",
       "    </tr>\n",
       "    <tr>\n",
       "      <th>...</th>\n",
       "      <td>...</td>\n",
       "      <td>...</td>\n",
       "      <td>...</td>\n",
       "      <td>...</td>\n",
       "    </tr>\n",
       "    <tr>\n",
       "      <th>666</th>\n",
       "      <td>M10384</td>\n",
       "      <td>20961</td>\n",
       "      <td>30000</td>\n",
       "      <td>1</td>\n",
       "    </tr>\n",
       "    <tr>\n",
       "      <th>667</th>\n",
       "      <td>M10385</td>\n",
       "      <td>4096</td>\n",
       "      <td>10000</td>\n",
       "      <td>1</td>\n",
       "    </tr>\n",
       "    <tr>\n",
       "      <th>668</th>\n",
       "      <td>M10386</td>\n",
       "      <td>33713</td>\n",
       "      <td>50000</td>\n",
       "      <td>1</td>\n",
       "    </tr>\n",
       "    <tr>\n",
       "      <th>669</th>\n",
       "      <td>M10387</td>\n",
       "      <td>265173</td>\n",
       "      <td>270000</td>\n",
       "      <td>1</td>\n",
       "    </tr>\n",
       "    <tr>\n",
       "      <th>670</th>\n",
       "      <td>M10388</td>\n",
       "      <td>67548</td>\n",
       "      <td>70000</td>\n",
       "      <td>1</td>\n",
       "    </tr>\n",
       "  </tbody>\n",
       "</table>\n",
       "<p>671 rows × 4 columns</p>\n",
       "</div>"
      ],
      "text/plain": [
       "    Müşteri No  Sipariş Edilen Miktar  miktar_dist  count\n",
       "0      C-10001                 126290       130000      1\n",
       "1      C-10003                  29815        30000      1\n",
       "2      C-10004                  15238        30000      1\n",
       "3      C-10005                 880903       890000      1\n",
       "4      C-10006                  11673        30000      1\n",
       "..         ...                    ...          ...    ...\n",
       "666     M10384                  20961        30000      1\n",
       "667     M10385                   4096        10000      1\n",
       "668     M10386                  33713        50000      1\n",
       "669     M10387                 265173       270000      1\n",
       "670     M10388                  67548        70000      1\n",
       "\n",
       "[671 rows x 4 columns]"
      ]
     },
     "execution_count": 62,
     "metadata": {},
     "output_type": "execute_result"
    }
   ],
   "source": [
    "df_1"
   ]
  },
  {
   "cell_type": "code",
   "execution_count": 63,
   "id": "728f50b6",
   "metadata": {},
   "outputs": [
    {
     "data": {
      "text/html": [
       "<div>\n",
       "<style scoped>\n",
       "    .dataframe tbody tr th:only-of-type {\n",
       "        vertical-align: middle;\n",
       "    }\n",
       "\n",
       "    .dataframe tbody tr th {\n",
       "        vertical-align: top;\n",
       "    }\n",
       "\n",
       "    .dataframe thead th {\n",
       "        text-align: right;\n",
       "    }\n",
       "</style>\n",
       "<table border=\"1\" class=\"dataframe\">\n",
       "  <thead>\n",
       "    <tr style=\"text-align: right;\">\n",
       "      <th></th>\n",
       "      <th>Müşteri No</th>\n",
       "      <th>Sipariş Edilen Miktar</th>\n",
       "      <th>miktar_dist</th>\n",
       "      <th>count_x</th>\n",
       "      <th>count_y</th>\n",
       "      <th>category</th>\n",
       "      <th>ABC</th>\n",
       "    </tr>\n",
       "  </thead>\n",
       "  <tbody>\n",
       "    <tr>\n",
       "      <th>0</th>\n",
       "      <td>C-10001</td>\n",
       "      <td>126290</td>\n",
       "      <td>130000</td>\n",
       "      <td>1</td>\n",
       "      <td>5</td>\n",
       "      <td>0</td>\n",
       "      <td>A</td>\n",
       "    </tr>\n",
       "    <tr>\n",
       "      <th>1</th>\n",
       "      <td>C-10003</td>\n",
       "      <td>29815</td>\n",
       "      <td>30000</td>\n",
       "      <td>1</td>\n",
       "      <td>230</td>\n",
       "      <td>1</td>\n",
       "      <td>B</td>\n",
       "    </tr>\n",
       "    <tr>\n",
       "      <th>2</th>\n",
       "      <td>C-10004</td>\n",
       "      <td>15238</td>\n",
       "      <td>30000</td>\n",
       "      <td>1</td>\n",
       "      <td>230</td>\n",
       "      <td>1</td>\n",
       "      <td>B</td>\n",
       "    </tr>\n",
       "    <tr>\n",
       "      <th>3</th>\n",
       "      <td>C-10005</td>\n",
       "      <td>880903</td>\n",
       "      <td>890000</td>\n",
       "      <td>1</td>\n",
       "      <td>1</td>\n",
       "      <td>0</td>\n",
       "      <td>A</td>\n",
       "    </tr>\n",
       "    <tr>\n",
       "      <th>4</th>\n",
       "      <td>C-10006</td>\n",
       "      <td>11673</td>\n",
       "      <td>30000</td>\n",
       "      <td>1</td>\n",
       "      <td>230</td>\n",
       "      <td>1</td>\n",
       "      <td>B</td>\n",
       "    </tr>\n",
       "    <tr>\n",
       "      <th>...</th>\n",
       "      <td>...</td>\n",
       "      <td>...</td>\n",
       "      <td>...</td>\n",
       "      <td>...</td>\n",
       "      <td>...</td>\n",
       "      <td>...</td>\n",
       "      <td>...</td>\n",
       "    </tr>\n",
       "    <tr>\n",
       "      <th>666</th>\n",
       "      <td>M10384</td>\n",
       "      <td>20961</td>\n",
       "      <td>30000</td>\n",
       "      <td>1</td>\n",
       "      <td>230</td>\n",
       "      <td>1</td>\n",
       "      <td>B</td>\n",
       "    </tr>\n",
       "    <tr>\n",
       "      <th>667</th>\n",
       "      <td>M10385</td>\n",
       "      <td>4096</td>\n",
       "      <td>10000</td>\n",
       "      <td>1</td>\n",
       "      <td>333</td>\n",
       "      <td>2</td>\n",
       "      <td>C</td>\n",
       "    </tr>\n",
       "    <tr>\n",
       "      <th>668</th>\n",
       "      <td>M10386</td>\n",
       "      <td>33713</td>\n",
       "      <td>50000</td>\n",
       "      <td>1</td>\n",
       "      <td>45</td>\n",
       "      <td>0</td>\n",
       "      <td>A</td>\n",
       "    </tr>\n",
       "    <tr>\n",
       "      <th>669</th>\n",
       "      <td>M10387</td>\n",
       "      <td>265173</td>\n",
       "      <td>270000</td>\n",
       "      <td>1</td>\n",
       "      <td>1</td>\n",
       "      <td>0</td>\n",
       "      <td>A</td>\n",
       "    </tr>\n",
       "    <tr>\n",
       "      <th>670</th>\n",
       "      <td>M10388</td>\n",
       "      <td>67548</td>\n",
       "      <td>70000</td>\n",
       "      <td>1</td>\n",
       "      <td>19</td>\n",
       "      <td>0</td>\n",
       "      <td>A</td>\n",
       "    </tr>\n",
       "  </tbody>\n",
       "</table>\n",
       "<p>671 rows × 7 columns</p>\n",
       "</div>"
      ],
      "text/plain": [
       "    Müşteri No  Sipariş Edilen Miktar  miktar_dist  count_x  count_y  \\\n",
       "0      C-10001                 126290       130000        1        5   \n",
       "1      C-10003                  29815        30000        1      230   \n",
       "2      C-10004                  15238        30000        1      230   \n",
       "3      C-10005                 880903       890000        1        1   \n",
       "4      C-10006                  11673        30000        1      230   \n",
       "..         ...                    ...          ...      ...      ...   \n",
       "666     M10384                  20961        30000        1      230   \n",
       "667     M10385                   4096        10000        1      333   \n",
       "668     M10386                  33713        50000        1       45   \n",
       "669     M10387                 265173       270000        1        1   \n",
       "670     M10388                  67548        70000        1       19   \n",
       "\n",
       "     category ABC  \n",
       "0           0   A  \n",
       "1           1   B  \n",
       "2           1   B  \n",
       "3           0   A  \n",
       "4           1   B  \n",
       "..        ...  ..  \n",
       "666         1   B  \n",
       "667         2   C  \n",
       "668         0   A  \n",
       "669         0   A  \n",
       "670         0   A  \n",
       "\n",
       "[671 rows x 7 columns]"
      ]
     },
     "execution_count": 63,
     "metadata": {},
     "output_type": "execute_result"
    }
   ],
   "source": [
    "data_order_3"
   ]
  },
  {
   "cell_type": "code",
   "execution_count": 64,
   "id": "8c1846c0",
   "metadata": {
    "scrolled": true
   },
   "outputs": [
    {
     "data": {
      "text/plain": [
       "C    333\n",
       "B    230\n",
       "A    108\n",
       "Name: ABC, dtype: int64"
      ]
     },
     "execution_count": 64,
     "metadata": {},
     "output_type": "execute_result"
    }
   ],
   "source": [
    "data_order_3[\"ABC\"].value_counts()"
   ]
  },
  {
   "cell_type": "code",
   "execution_count": 65,
   "id": "3a53565d",
   "metadata": {},
   "outputs": [
    {
     "data": {
      "text/plain": [
       "9762633"
      ]
     },
     "execution_count": 65,
     "metadata": {},
     "output_type": "execute_result"
    }
   ],
   "source": [
    "data_order_3[data_order_3[\"ABC\"]==\"A\"][\"Sipariş Edilen Miktar\"].sum()"
   ]
  },
  {
   "cell_type": "code",
   "execution_count": 66,
   "id": "29132efb",
   "metadata": {},
   "outputs": [
    {
     "data": {
      "text/plain": [
       "3997197"
      ]
     },
     "execution_count": 66,
     "metadata": {},
     "output_type": "execute_result"
    }
   ],
   "source": [
    "data_order_3[data_order_3[\"ABC\"]==\"B\"][\"Sipariş Edilen Miktar\"].sum()"
   ]
  },
  {
   "cell_type": "code",
   "execution_count": 67,
   "id": "e879461a",
   "metadata": {},
   "outputs": [
    {
     "data": {
      "text/plain": [
       "1223942"
      ]
     },
     "execution_count": 67,
     "metadata": {},
     "output_type": "execute_result"
    }
   ],
   "source": [
    "data_order_3[data_order_3[\"ABC\"]==\"C\"][\"Sipariş Edilen Miktar\"].sum()"
   ]
  },
  {
   "cell_type": "code",
   "execution_count": 68,
   "id": "9cdfa63c",
   "metadata": {},
   "outputs": [
    {
     "name": "stdout",
     "output_type": "stream",
     "text": [
      "16.10 percent of the customers (Segment A) order 65.15 percent of all order amounts\n"
     ]
    }
   ],
   "source": [
    "seg_A = (108/(108+230+333))*100\n",
    "seg_A_total = (9762633/(9762633+3997197+1223942))*100\n",
    "print(\"{:.2f} percent of the customers (Segment A) order {:.2f} percent of all order amounts\".format(seg_A,seg_A_total))"
   ]
  },
  {
   "cell_type": "code",
   "execution_count": 69,
   "id": "a1ed5fdd",
   "metadata": {
    "scrolled": true
   },
   "outputs": [
    {
     "name": "stdout",
     "output_type": "stream",
     "text": [
      "34.28 percent of the customers (Segment B) order 26.68 percent of all order amounts\n"
     ]
    }
   ],
   "source": [
    "seg_B = (230/(108+230+333))*100\n",
    "seg_B_total = (3997197/(9762633+3997197+1223942))*100\n",
    "print(\"{:.2f} percent of the customers (Segment B) order {:.2f} percent of all order amounts\".format(seg_B,seg_B_total))"
   ]
  },
  {
   "cell_type": "code",
   "execution_count": 70,
   "id": "bb24fd28",
   "metadata": {},
   "outputs": [
    {
     "name": "stdout",
     "output_type": "stream",
     "text": [
      "49.63 percent of the customers (Segment C) order 8.17 percent of all order amounts\n"
     ]
    }
   ],
   "source": [
    "seg_C = (333/(108+230+333))*100\n",
    "seg_C_total = (1223942/(9762633+3997197+1223942))*100\n",
    "print(\"{:.2f} percent of the customers (Segment C) order {:.2f} percent of all order amounts\".format(seg_C,seg_C_total))"
   ]
  }
 ],
 "metadata": {
  "kernelspec": {
   "display_name": "Python 3 (ipykernel)",
   "language": "python",
   "name": "python3"
  },
  "language_info": {
   "codemirror_mode": {
    "name": "ipython",
    "version": 3
   },
   "file_extension": ".py",
   "mimetype": "text/x-python",
   "name": "python",
   "nbconvert_exporter": "python",
   "pygments_lexer": "ipython3",
   "version": "3.8.12"
  }
 },
 "nbformat": 4,
 "nbformat_minor": 5
}
