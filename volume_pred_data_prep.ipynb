{
 "cells": [
  {
   "cell_type": "markdown",
   "metadata": {},
   "source": [
    "- hacim tahminleme\n",
    "    - klasik model\n",
    "        - diğer featurelar\n",
    "                - ek veri\n",
    "                    - enflasyon\n",
    "                    - döviz\n",
    "                    - üfe\n",
    "                    - holiday dataset\n",
    "          \n",
    "                - order day/week/month\n",
    "                - sipariş verme sıklığı\n",
    "                - daily_average\n",
    "                - ürün bazlı sipariş verme sıklığı\n",
    "                - day diff between last order\n",
    "    - past data based model\n",
    "        - convert sales to daily basis\n",
    "        - geçmiş 10/20/30/40/50/60/90 gün verisi\n",
    "    - rnn\n",
    "    - lstm"
   ]
  },
  {
   "cell_type": "markdown",
   "metadata": {},
   "source": [
    "trials\n",
    "    - sum of past data\n",
    "    - average of past data"
   ]
  },
  {
   "cell_type": "code",
   "execution_count": 1,
   "metadata": {},
   "outputs": [],
   "source": [
    "import pandas as pd\n",
    "import numpy as np\n",
    "import matplotlib.pyplot as plt\n",
    "import seaborn as sns"
   ]
  },
  {
   "cell_type": "code",
   "execution_count": 2,
   "metadata": {},
   "outputs": [
    {
     "name": "stderr",
     "output_type": "stream",
     "text": [
      "C:\\Users\\IsmailKaraman\\anaconda3\\lib\\site-packages\\IPython\\core\\interactiveshell.py:3155: DtypeWarning: Columns (3) have mixed types.Specify dtype option on import or set low_memory=False.\n",
      "  has_raised = await self.run_ast_nodes(code_ast.body, cell_name,\n"
     ]
    }
   ],
   "source": [
    "order_df = pd.read_csv('data/datathon_order.csv', parse_dates=['Sipariş Tarihi'], \n",
    "                       usecols=['Malzeme Numarası', 'Sipariş Edilen Miktar','Müşteri No', 'Sipariş Tarihi'])"
   ]
  },
  {
   "cell_type": "code",
   "execution_count": 3,
   "metadata": {},
   "outputs": [
    {
     "data": {
      "text/plain": [
       "Index(['Malzeme Numarası', 'Sipariş Edilen Miktar', 'Müşteri No',\n",
       "       'Sipariş Tarihi'],\n",
       "      dtype='object')"
      ]
     },
     "execution_count": 3,
     "metadata": {},
     "output_type": "execute_result"
    }
   ],
   "source": [
    "order_df.columns"
   ]
  },
  {
   "cell_type": "code",
   "execution_count": 4,
   "metadata": {},
   "outputs": [],
   "source": [
    "order_df.columns = ['material_num', 'order_amount', 'customer_num', 'order_date']"
   ]
  },
  {
   "cell_type": "code",
   "execution_count": 5,
   "metadata": {},
   "outputs": [],
   "source": [
    "def convert_string_to_date(str_date):\n",
    "    \n",
    "    str_date = str(str_date)\n",
    "    str_date = str_date.replace('/','')\n",
    "    str_date = str_date.replace('.','')\n",
    "    \n",
    "    len_date = len(str_date)\n",
    "    \n",
    "    if len_date>7:\n",
    "        return pd.Timestamp(int(str_date[4:]), int(str_date[2:4]), int(str_date[:2]))   \n",
    "    elif len_date==7:\n",
    "        return pd.Timestamp(int(str_date[3:]), int(str_date[1:3]), int(str_date[:1]))   \n",
    "    elif len_date==6:\n",
    "        return pd.Timestamp(int(str_date[2:]), int(str_date[1:2]), int(str_date[:1]))   "
   ]
  },
  {
   "cell_type": "code",
   "execution_count": 6,
   "metadata": {},
   "outputs": [
    {
     "data": {
      "text/html": [
       "<div>\n",
       "<style scoped>\n",
       "    .dataframe tbody tr th:only-of-type {\n",
       "        vertical-align: middle;\n",
       "    }\n",
       "\n",
       "    .dataframe tbody tr th {\n",
       "        vertical-align: top;\n",
       "    }\n",
       "\n",
       "    .dataframe thead th {\n",
       "        text-align: right;\n",
       "    }\n",
       "</style>\n",
       "<table border=\"1\" class=\"dataframe\">\n",
       "  <thead>\n",
       "    <tr style=\"text-align: right;\">\n",
       "      <th></th>\n",
       "      <th>material_num</th>\n",
       "      <th>order_amount</th>\n",
       "      <th>customer_num</th>\n",
       "      <th>order_date</th>\n",
       "    </tr>\n",
       "  </thead>\n",
       "  <tbody>\n",
       "    <tr>\n",
       "      <th>0</th>\n",
       "      <td>61001960</td>\n",
       "      <td>60</td>\n",
       "      <td>C-10008</td>\n",
       "      <td>2020-01-02</td>\n",
       "    </tr>\n",
       "    <tr>\n",
       "      <th>1</th>\n",
       "      <td>61000066</td>\n",
       "      <td>25</td>\n",
       "      <td>C-10185</td>\n",
       "      <td>2020-01-02</td>\n",
       "    </tr>\n",
       "    <tr>\n",
       "      <th>2</th>\n",
       "      <td>61001960</td>\n",
       "      <td>50</td>\n",
       "      <td>C-10185</td>\n",
       "      <td>2020-01-02</td>\n",
       "    </tr>\n",
       "    <tr>\n",
       "      <th>3</th>\n",
       "      <td>61000066</td>\n",
       "      <td>40</td>\n",
       "      <td>C-10188</td>\n",
       "      <td>2020-01-02</td>\n",
       "    </tr>\n",
       "    <tr>\n",
       "      <th>4</th>\n",
       "      <td>61001960</td>\n",
       "      <td>20</td>\n",
       "      <td>C-10188</td>\n",
       "      <td>2020-01-02</td>\n",
       "    </tr>\n",
       "  </tbody>\n",
       "</table>\n",
       "</div>"
      ],
      "text/plain": [
       "  material_num  order_amount customer_num order_date\n",
       "0     61001960            60      C-10008 2020-01-02\n",
       "1     61000066            25      C-10185 2020-01-02\n",
       "2     61001960            50      C-10185 2020-01-02\n",
       "3     61000066            40      C-10188 2020-01-02\n",
       "4     61001960            20      C-10188 2020-01-02"
      ]
     },
     "execution_count": 6,
     "metadata": {},
     "output_type": "execute_result"
    }
   ],
   "source": [
    "order_df.head()"
   ]
  },
  {
   "cell_type": "code",
   "execution_count": 7,
   "metadata": {},
   "outputs": [],
   "source": [
    "# from analysis we saw that customer number 'C-10170' is replaced with 'C-10277', so we replace all the values\n",
    "order_df.replace('C-10170', 'C-10277', inplace=True)"
   ]
  },
  {
   "cell_type": "code",
   "execution_count": 8,
   "metadata": {},
   "outputs": [
    {
     "data": {
      "text/plain": [
       "material_num    0\n",
       "order_amount    0\n",
       "customer_num    0\n",
       "order_date      0\n",
       "dtype: int64"
      ]
     },
     "execution_count": 8,
     "metadata": {},
     "output_type": "execute_result"
    }
   ],
   "source": [
    "order_df.isna().sum()"
   ]
  },
  {
   "cell_type": "code",
   "execution_count": 9,
   "metadata": {},
   "outputs": [
    {
     "name": "stdout",
     "output_type": "stream",
     "text": [
      "# of unique values in material_num : 807\n",
      "# of unique values in order_amount : 1243\n",
      "# of unique values in customer_num : 670\n",
      "# of unique values in order_date : 319\n"
     ]
    }
   ],
   "source": [
    "for col in order_df.columns:\n",
    "    print(f'# of unique values in {col} : {order_df[col].nunique()}')"
   ]
  },
  {
   "cell_type": "code",
   "execution_count": 10,
   "metadata": {},
   "outputs": [
    {
     "data": {
      "text/html": [
       "<div>\n",
       "<style scoped>\n",
       "    .dataframe tbody tr th:only-of-type {\n",
       "        vertical-align: middle;\n",
       "    }\n",
       "\n",
       "    .dataframe tbody tr th {\n",
       "        vertical-align: top;\n",
       "    }\n",
       "\n",
       "    .dataframe thead th {\n",
       "        text-align: right;\n",
       "    }\n",
       "</style>\n",
       "<table border=\"1\" class=\"dataframe\">\n",
       "  <thead>\n",
       "    <tr style=\"text-align: right;\">\n",
       "      <th></th>\n",
       "      <th>order_amount</th>\n",
       "    </tr>\n",
       "  </thead>\n",
       "  <tbody>\n",
       "    <tr>\n",
       "      <th>count</th>\n",
       "      <td>508069.000000</td>\n",
       "    </tr>\n",
       "    <tr>\n",
       "      <th>mean</th>\n",
       "      <td>29.491608</td>\n",
       "    </tr>\n",
       "    <tr>\n",
       "      <th>std</th>\n",
       "      <td>118.890148</td>\n",
       "    </tr>\n",
       "    <tr>\n",
       "      <th>min</th>\n",
       "      <td>1.000000</td>\n",
       "    </tr>\n",
       "    <tr>\n",
       "      <th>25%</th>\n",
       "      <td>2.000000</td>\n",
       "    </tr>\n",
       "    <tr>\n",
       "      <th>50%</th>\n",
       "      <td>5.000000</td>\n",
       "    </tr>\n",
       "    <tr>\n",
       "      <th>75%</th>\n",
       "      <td>20.000000</td>\n",
       "    </tr>\n",
       "    <tr>\n",
       "      <th>max</th>\n",
       "      <td>21000.000000</td>\n",
       "    </tr>\n",
       "  </tbody>\n",
       "</table>\n",
       "</div>"
      ],
      "text/plain": [
       "        order_amount\n",
       "count  508069.000000\n",
       "mean       29.491608\n",
       "std       118.890148\n",
       "min         1.000000\n",
       "25%         2.000000\n",
       "50%         5.000000\n",
       "75%        20.000000\n",
       "max     21000.000000"
      ]
     },
     "execution_count": 10,
     "metadata": {},
     "output_type": "execute_result"
    }
   ],
   "source": [
    "order_df.describe()"
   ]
  },
  {
   "cell_type": "code",
   "execution_count": 11,
   "metadata": {},
   "outputs": [],
   "source": [
    "raw_df = order_df.copy()"
   ]
  },
  {
   "cell_type": "code",
   "execution_count": 12,
   "metadata": {},
   "outputs": [
    {
     "name": "stderr",
     "output_type": "stream",
     "text": [
      "<ipython-input-12-6e1589c49ef7>:1: FutureWarning: Series.dt.weekofyear and Series.dt.week have been deprecated.  Please use Series.dt.isocalendar().week instead.\n",
      "  order_df['order_week'] = order_df['order_date'].dt.week\n"
     ]
    }
   ],
   "source": [
    "order_df['order_week'] = order_df['order_date'].dt.week"
   ]
  },
  {
   "cell_type": "code",
   "execution_count": 13,
   "metadata": {},
   "outputs": [
    {
     "data": {
      "text/plain": [
       "(508069, 5)"
      ]
     },
     "execution_count": 13,
     "metadata": {},
     "output_type": "execute_result"
    }
   ],
   "source": [
    "order_df.shape"
   ]
  },
  {
   "cell_type": "code",
   "execution_count": 14,
   "metadata": {},
   "outputs": [
    {
     "data": {
      "text/plain": [
       "<AxesSubplot:>"
      ]
     },
     "execution_count": 14,
     "metadata": {},
     "output_type": "execute_result"
    },
    {
     "data": {
      "image/png": "[encoded data removed]",
      "text/plain": [
       "<Figure size 432x288 with 1 Axes>"
      ]
     },
     "metadata": {
      "needs_background": "light"
     },
     "output_type": "display_data"
    }
   ],
   "source": [
    "order_df['order_week'].value_counts().sort_index().plot()"
   ]
  },
  {
   "cell_type": "code",
   "execution_count": 15,
   "metadata": {},
   "outputs": [],
   "source": [
    "# grouping data by order_date, same products may be placed with different orders in same day\n",
    "order_df = order_df.groupby(['order_week', 'material_num', 'customer_num'])['order_amount'].sum().reset_index()"
   ]
  },
  {
   "cell_type": "code",
   "execution_count": 16,
   "metadata": {},
   "outputs": [
    {
     "data": {
      "text/plain": [
       "(347616, 4)"
      ]
     },
     "execution_count": 16,
     "metadata": {},
     "output_type": "execute_result"
    }
   ],
   "source": [
    "order_df.shape"
   ]
  },
  {
   "cell_type": "code",
   "execution_count": 17,
   "metadata": {},
   "outputs": [],
   "source": [
    "dates20 = pd.DataFrame(order_df['order_week'].unique(), columns=['order_week'])\n",
    "materials = pd.DataFrame(order_df['material_num'].unique(), columns=['material_num'])\n",
    "customers = pd.DataFrame(order_df['customer_num'].unique(), columns=['customer_num'])\n",
    "dates20['key'] = 1\n",
    "materials['key'] = 1\n",
    "customers['key'] = 1\n",
    "null_df = pd.merge(dates20, materials, on=['key'], how='left')\n",
    "null_df = pd.merge(null_df, customers, on=['key'], how='left')\n",
    "null_df.drop('key', axis=1, inplace=True)"
   ]
  },
  {
   "cell_type": "code",
   "execution_count": 18,
   "metadata": {},
   "outputs": [],
   "source": [
    "order_df = pd.merge(null_df, order_df, on=['order_week', 'material_num', 'customer_num'], how='left')"
   ]
  },
  {
   "cell_type": "code",
   "execution_count": 19,
   "metadata": {},
   "outputs": [
    {
     "data": {
      "text/html": [
       "<div>\n",
       "<style scoped>\n",
       "    .dataframe tbody tr th:only-of-type {\n",
       "        vertical-align: middle;\n",
       "    }\n",
       "\n",
       "    .dataframe tbody tr th {\n",
       "        vertical-align: top;\n",
       "    }\n",
       "\n",
       "    .dataframe thead th {\n",
       "        text-align: right;\n",
       "    }\n",
       "</style>\n",
       "<table border=\"1\" class=\"dataframe\">\n",
       "  <thead>\n",
       "    <tr style=\"text-align: right;\">\n",
       "      <th></th>\n",
       "      <th>order_week</th>\n",
       "      <th>material_num</th>\n",
       "      <th>customer_num</th>\n",
       "      <th>order_amount</th>\n",
       "    </tr>\n",
       "  </thead>\n",
       "  <tbody>\n",
       "    <tr>\n",
       "      <th>0</th>\n",
       "      <td>1</td>\n",
       "      <td>91704</td>\n",
       "      <td>M10125</td>\n",
       "      <td>2.0</td>\n",
       "    </tr>\n",
       "    <tr>\n",
       "      <th>1</th>\n",
       "      <td>1</td>\n",
       "      <td>91704</td>\n",
       "      <td>M10140</td>\n",
       "      <td>21.0</td>\n",
       "    </tr>\n",
       "    <tr>\n",
       "      <th>2</th>\n",
       "      <td>1</td>\n",
       "      <td>91704</td>\n",
       "      <td>M10142</td>\n",
       "      <td>13.0</td>\n",
       "    </tr>\n",
       "    <tr>\n",
       "      <th>3</th>\n",
       "      <td>1</td>\n",
       "      <td>91704</td>\n",
       "      <td>M10143</td>\n",
       "      <td>12.0</td>\n",
       "    </tr>\n",
       "    <tr>\n",
       "      <th>4</th>\n",
       "      <td>1</td>\n",
       "      <td>91704</td>\n",
       "      <td>M10158</td>\n",
       "      <td>4.0</td>\n",
       "    </tr>\n",
       "  </tbody>\n",
       "</table>\n",
       "</div>"
      ],
      "text/plain": [
       "   order_week material_num customer_num  order_amount\n",
       "0           1        91704       M10125           2.0\n",
       "1           1        91704       M10140          21.0\n",
       "2           1        91704       M10142          13.0\n",
       "3           1        91704       M10143          12.0\n",
       "4           1        91704       M10158           4.0"
      ]
     },
     "execution_count": 19,
     "metadata": {},
     "output_type": "execute_result"
    }
   ],
   "source": [
    "order_df.head()"
   ]
  },
  {
   "cell_type": "code",
   "execution_count": 20,
   "metadata": {},
   "outputs": [
    {
     "data": {
      "text/plain": [
       "order_week      0.00000\n",
       "material_num    0.00000\n",
       "customer_num    0.00000\n",
       "order_amount    0.98787\n",
       "dtype: float64"
      ]
     },
     "execution_count": 20,
     "metadata": {},
     "output_type": "execute_result"
    }
   ],
   "source": [
    "order_df.isna().sum()/order_df.shape[0]"
   ]
  },
  {
   "cell_type": "code",
   "execution_count": 21,
   "metadata": {},
   "outputs": [],
   "source": [
    "order_df.fillna(0.0, inplace=True)"
   ]
  },
  {
   "cell_type": "code",
   "execution_count": 22,
   "metadata": {},
   "outputs": [
    {
     "data": {
      "text/plain": [
       "order_week        int64\n",
       "material_num     object\n",
       "customer_num     object\n",
       "order_amount    float64\n",
       "dtype: object"
      ]
     },
     "execution_count": 22,
     "metadata": {},
     "output_type": "execute_result"
    }
   ],
   "source": [
    "order_df.dtypes"
   ]
  },
  {
   "cell_type": "code",
   "execution_count": 23,
   "metadata": {},
   "outputs": [],
   "source": [
    "order_df['material_num'] = order_df['material_num'].astype('str')\n",
    "order_df['order_amount'] = order_df['order_amount'].astype('int32')\n",
    "order_df['customer_num'] = order_df['customer_num'].astype('str')\n",
    "order_df['order_week'] = order_df['order_week'].astype('int16')"
   ]
  },
  {
   "cell_type": "code",
   "execution_count": 24,
   "metadata": {
    "scrolled": true
   },
   "outputs": [
    {
     "data": {
      "text/plain": [
       "order_week       int16\n",
       "material_num    object\n",
       "customer_num    object\n",
       "order_amount     int32\n",
       "dtype: object"
      ]
     },
     "execution_count": 24,
     "metadata": {},
     "output_type": "execute_result"
    }
   ],
   "source": [
    "order_df.dtypes"
   ]
  },
  {
   "cell_type": "code",
   "execution_count": 25,
   "metadata": {
    "scrolled": true
   },
   "outputs": [
    {
     "data": {
      "text/plain": [
       "material_num\n",
       "4016984     458685\n",
       "61001960    368298\n",
       "4002326     352764\n",
       "4002329     344800\n",
       "4047491     228728\n",
       "TR01822B    222226\n",
       "TR01575A    203860\n",
       "4050584     195385\n",
       "PL08105A    189395\n",
       "TR02288A    172344\n",
       "Name: order_amount, dtype: int32"
      ]
     },
     "execution_count": 25,
     "metadata": {},
     "output_type": "execute_result"
    }
   ],
   "source": [
    "order_df.groupby(['material_num'])['order_amount'].sum().nlargest(10)"
   ]
  },
  {
   "cell_type": "code",
   "execution_count": 26,
   "metadata": {},
   "outputs": [
    {
     "data": {
      "text/plain": [
       "material_num\n",
       "4253047     1\n",
       "669690      1\n",
       "669719      1\n",
       "CN00912A    1\n",
       "PL03154A    1\n",
       "TR00191B    1\n",
       "TR01657A    1\n",
       "TR01659A    1\n",
       "4253046     2\n",
       "61008454    2\n",
       "Name: order_amount, dtype: int32"
      ]
     },
     "execution_count": 26,
     "metadata": {},
     "output_type": "execute_result"
    }
   ],
   "source": [
    "order_df.groupby(['material_num'])['order_amount'].sum().nsmallest(10)"
   ]
  },
  {
   "cell_type": "markdown",
   "metadata": {},
   "source": [
    "when we analyze the daily total sales, dataset looks like stationary whihch does not have any trend or seasonality"
   ]
  },
  {
   "cell_type": "markdown",
   "metadata": {},
   "source": [
    "p value is less than 0.05 we reject the H0 hypothesis, meaning our data is stationary"
   ]
  },
  {
   "cell_type": "markdown",
   "metadata": {},
   "source": [
    "### ürün ve müşteri bazlı geçmiş 1,2,3,5,7,14,30 haftalık toplam/ortalama siparişler"
   ]
  },
  {
   "cell_type": "code",
   "execution_count": 27,
   "metadata": {},
   "outputs": [
    {
     "data": {
      "text/plain": [
       "(28656570, 4)"
      ]
     },
     "execution_count": 27,
     "metadata": {},
     "output_type": "execute_result"
    }
   ],
   "source": [
    "order_df.shape"
   ]
  },
  {
   "cell_type": "code",
   "execution_count": 28,
   "metadata": {},
   "outputs": [],
   "source": [
    "# customer-product economy\n",
    "for i in range(1,15):\n",
    "    order_df['shift'+str(i)] = order_df.groupby(['material_num', 'customer_num'])['order_amount'].shift(i)"
   ]
  },
  {
   "cell_type": "code",
   "execution_count": 29,
   "metadata": {},
   "outputs": [],
   "source": [
    "# product economy\n",
    "prod_df = order_df.groupby(['order_week', 'material_num'])['order_amount'].sum().reset_index()\n",
    "\n",
    "for i in range(1,15):\n",
    "    prod_df['shift'+str(i)] = prod_df.groupby(['material_num'])['order_amount'].shift(i)"
   ]
  },
  {
   "cell_type": "code",
   "execution_count": 30,
   "metadata": {},
   "outputs": [],
   "source": [
    "# customer economy\n",
    "cust_df = order_df.groupby(['order_week', 'customer_num'])['order_amount'].sum().reset_index()\n",
    "\n",
    "for i in range(1,15):\n",
    "    cust_df['shift'+str(i)] = cust_df.groupby(['customer_num'])['order_amount'].shift(i)"
   ]
  },
  {
   "cell_type": "code",
   "execution_count": 31,
   "metadata": {},
   "outputs": [],
   "source": [
    "# whole economy\n",
    "whole_df = order_df.groupby(['order_week'])['order_amount'].sum().reset_index()\n",
    "\n",
    "for i in range(1,15):\n",
    "    whole_df['shift'+str(i)] = whole_df['order_amount'].shift(i)"
   ]
  },
  {
   "cell_type": "code",
   "execution_count": 32,
   "metadata": {},
   "outputs": [],
   "source": [
    "order_df.fillna(0.0, inplace=True)\n",
    "prod_df.fillna(0.0, inplace=True)\n",
    "cust_df.fillna(0.0, inplace=True)\n",
    "whole_df.fillna(0.0, inplace=True)"
   ]
  },
  {
   "cell_type": "code",
   "execution_count": 33,
   "metadata": {},
   "outputs": [
    {
     "data": {
      "text/html": [
       "<div>\n",
       "<style scoped>\n",
       "    .dataframe tbody tr th:only-of-type {\n",
       "        vertical-align: middle;\n",
       "    }\n",
       "\n",
       "    .dataframe tbody tr th {\n",
       "        vertical-align: top;\n",
       "    }\n",
       "\n",
       "    .dataframe thead th {\n",
       "        text-align: right;\n",
       "    }\n",
       "</style>\n",
       "<table border=\"1\" class=\"dataframe\">\n",
       "  <thead>\n",
       "    <tr style=\"text-align: right;\">\n",
       "      <th></th>\n",
       "      <th>order_week</th>\n",
       "      <th>material_num</th>\n",
       "      <th>customer_num</th>\n",
       "      <th>order_amount</th>\n",
       "      <th>shift1</th>\n",
       "      <th>shift2</th>\n",
       "      <th>shift3</th>\n",
       "      <th>shift4</th>\n",
       "      <th>shift5</th>\n",
       "      <th>shift6</th>\n",
       "      <th>shift7</th>\n",
       "      <th>shift8</th>\n",
       "      <th>shift9</th>\n",
       "      <th>shift10</th>\n",
       "      <th>shift11</th>\n",
       "      <th>shift12</th>\n",
       "      <th>shift13</th>\n",
       "      <th>shift14</th>\n",
       "    </tr>\n",
       "  </thead>\n",
       "  <tbody>\n",
       "    <tr>\n",
       "      <th>0</th>\n",
       "      <td>1</td>\n",
       "      <td>91704</td>\n",
       "      <td>M10125</td>\n",
       "      <td>2</td>\n",
       "      <td>0.0</td>\n",
       "      <td>0.0</td>\n",
       "      <td>0.0</td>\n",
       "      <td>0.0</td>\n",
       "      <td>0.0</td>\n",
       "      <td>0.0</td>\n",
       "      <td>0.0</td>\n",
       "      <td>0.0</td>\n",
       "      <td>0.0</td>\n",
       "      <td>0.0</td>\n",
       "      <td>0.0</td>\n",
       "      <td>0.0</td>\n",
       "      <td>0.0</td>\n",
       "      <td>0.0</td>\n",
       "    </tr>\n",
       "    <tr>\n",
       "      <th>1</th>\n",
       "      <td>1</td>\n",
       "      <td>91704</td>\n",
       "      <td>M10140</td>\n",
       "      <td>21</td>\n",
       "      <td>0.0</td>\n",
       "      <td>0.0</td>\n",
       "      <td>0.0</td>\n",
       "      <td>0.0</td>\n",
       "      <td>0.0</td>\n",
       "      <td>0.0</td>\n",
       "      <td>0.0</td>\n",
       "      <td>0.0</td>\n",
       "      <td>0.0</td>\n",
       "      <td>0.0</td>\n",
       "      <td>0.0</td>\n",
       "      <td>0.0</td>\n",
       "      <td>0.0</td>\n",
       "      <td>0.0</td>\n",
       "    </tr>\n",
       "    <tr>\n",
       "      <th>2</th>\n",
       "      <td>1</td>\n",
       "      <td>91704</td>\n",
       "      <td>M10142</td>\n",
       "      <td>13</td>\n",
       "      <td>0.0</td>\n",
       "      <td>0.0</td>\n",
       "      <td>0.0</td>\n",
       "      <td>0.0</td>\n",
       "      <td>0.0</td>\n",
       "      <td>0.0</td>\n",
       "      <td>0.0</td>\n",
       "      <td>0.0</td>\n",
       "      <td>0.0</td>\n",
       "      <td>0.0</td>\n",
       "      <td>0.0</td>\n",
       "      <td>0.0</td>\n",
       "      <td>0.0</td>\n",
       "      <td>0.0</td>\n",
       "    </tr>\n",
       "    <tr>\n",
       "      <th>3</th>\n",
       "      <td>1</td>\n",
       "      <td>91704</td>\n",
       "      <td>M10143</td>\n",
       "      <td>12</td>\n",
       "      <td>0.0</td>\n",
       "      <td>0.0</td>\n",
       "      <td>0.0</td>\n",
       "      <td>0.0</td>\n",
       "      <td>0.0</td>\n",
       "      <td>0.0</td>\n",
       "      <td>0.0</td>\n",
       "      <td>0.0</td>\n",
       "      <td>0.0</td>\n",
       "      <td>0.0</td>\n",
       "      <td>0.0</td>\n",
       "      <td>0.0</td>\n",
       "      <td>0.0</td>\n",
       "      <td>0.0</td>\n",
       "    </tr>\n",
       "    <tr>\n",
       "      <th>4</th>\n",
       "      <td>1</td>\n",
       "      <td>91704</td>\n",
       "      <td>M10158</td>\n",
       "      <td>4</td>\n",
       "      <td>0.0</td>\n",
       "      <td>0.0</td>\n",
       "      <td>0.0</td>\n",
       "      <td>0.0</td>\n",
       "      <td>0.0</td>\n",
       "      <td>0.0</td>\n",
       "      <td>0.0</td>\n",
       "      <td>0.0</td>\n",
       "      <td>0.0</td>\n",
       "      <td>0.0</td>\n",
       "      <td>0.0</td>\n",
       "      <td>0.0</td>\n",
       "      <td>0.0</td>\n",
       "      <td>0.0</td>\n",
       "    </tr>\n",
       "  </tbody>\n",
       "</table>\n",
       "</div>"
      ],
      "text/plain": [
       "   order_week material_num customer_num  order_amount  shift1  shift2  shift3  \\\n",
       "0           1        91704       M10125             2     0.0     0.0     0.0   \n",
       "1           1        91704       M10140            21     0.0     0.0     0.0   \n",
       "2           1        91704       M10142            13     0.0     0.0     0.0   \n",
       "3           1        91704       M10143            12     0.0     0.0     0.0   \n",
       "4           1        91704       M10158             4     0.0     0.0     0.0   \n",
       "\n",
       "   shift4  shift5  shift6  shift7  shift8  shift9  shift10  shift11  shift12  \\\n",
       "0     0.0     0.0     0.0     0.0     0.0     0.0      0.0      0.0      0.0   \n",
       "1     0.0     0.0     0.0     0.0     0.0     0.0      0.0      0.0      0.0   \n",
       "2     0.0     0.0     0.0     0.0     0.0     0.0      0.0      0.0      0.0   \n",
       "3     0.0     0.0     0.0     0.0     0.0     0.0      0.0      0.0      0.0   \n",
       "4     0.0     0.0     0.0     0.0     0.0     0.0      0.0      0.0      0.0   \n",
       "\n",
       "   shift13  shift14  \n",
       "0      0.0      0.0  \n",
       "1      0.0      0.0  \n",
       "2      0.0      0.0  \n",
       "3      0.0      0.0  \n",
       "4      0.0      0.0  "
      ]
     },
     "execution_count": 33,
     "metadata": {},
     "output_type": "execute_result"
    }
   ],
   "source": [
    "order_df.head()"
   ]
  },
  {
   "cell_type": "code",
   "execution_count": 34,
   "metadata": {},
   "outputs": [],
   "source": [
    "sum_cols = {}\n",
    "\n",
    "for num_week in [2, 3, 4, 5, 7, 10, 14]:\n",
    "    \n",
    "    week_cols = []\n",
    "    \n",
    "    for i in range(1,1+num_week):\n",
    "        \n",
    "        week_cols.append('shift'+str(i))\n",
    "    sum_cols['sum'+str(num_week)] = week_cols   "
   ]
  },
  {
   "cell_type": "code",
   "execution_count": 35,
   "metadata": {},
   "outputs": [],
   "source": [
    "for col_name, cols_to_sum in sum_cols.items():\n",
    "    \n",
    "    order_df['order_'+col_name] = order_df[cols_to_sum].sum(axis=1)"
   ]
  },
  {
   "cell_type": "code",
   "execution_count": 36,
   "metadata": {},
   "outputs": [],
   "source": [
    "for col_name, cols_to_sum in sum_cols.items():\n",
    "    \n",
    "    prod_df['prod_'+col_name] = prod_df[cols_to_sum].sum(axis=1)"
   ]
  },
  {
   "cell_type": "code",
   "execution_count": 37,
   "metadata": {},
   "outputs": [],
   "source": [
    "for col_name, cols_to_sum in sum_cols.items():\n",
    "    \n",
    "    cust_df['cust_'+col_name] = cust_df[cols_to_sum].sum(axis=1)"
   ]
  },
  {
   "cell_type": "code",
   "execution_count": 38,
   "metadata": {},
   "outputs": [],
   "source": [
    "for col_name, cols_to_sum in sum_cols.items():\n",
    "    \n",
    "    whole_df['whole_'+col_name] = whole_df[cols_to_sum].sum(axis=1)"
   ]
  },
  {
   "cell_type": "code",
   "execution_count": 40,
   "metadata": {},
   "outputs": [],
   "source": [
    "cols_to_drop = ['shift1', 'shift2', 'shift3', 'shift4', 'shift5', 'shift6', 'shift7', \n",
    "                'shift8', 'shift9', 'shift10', 'shift11', 'shift12', 'shift13', 'shift14']"
   ]
  },
  {
   "cell_type": "code",
   "execution_count": 41,
   "metadata": {},
   "outputs": [],
   "source": [
    "order_df.drop(cols_to_drop, axis=1, inplace=True)\n",
    "prod_df.drop(cols_to_drop+['order_amount'], axis=1, inplace=True)\n",
    "cust_df.drop(cols_to_drop+['order_amount'], axis=1, inplace=True)\n",
    "whole_df.drop(cols_to_drop+['order_amount'], axis=1, inplace=True)"
   ]
  },
  {
   "cell_type": "code",
   "execution_count": 42,
   "metadata": {},
   "outputs": [],
   "source": [
    "order_df = pd.merge(order_df, cust_df, \n",
    "                    on=['order_week', 'customer_num'], how='left')\n",
    "order_df = pd.merge(order_df, prod_df, \n",
    "                    on=['order_week', 'material_num'], how='left')\n",
    "order_df = pd.merge(order_df, whole_df, \n",
    "                    on=['order_week'], how='left')"
   ]
  },
  {
   "cell_type": "code",
   "execution_count": 51,
   "metadata": {
    "scrolled": true
   },
   "outputs": [
    {
     "data": {
      "text/html": [
       "<div>\n",
       "<style scoped>\n",
       "    .dataframe tbody tr th:only-of-type {\n",
       "        vertical-align: middle;\n",
       "    }\n",
       "\n",
       "    .dataframe tbody tr th {\n",
       "        vertical-align: top;\n",
       "    }\n",
       "\n",
       "    .dataframe thead th {\n",
       "        text-align: right;\n",
       "    }\n",
       "</style>\n",
       "<table border=\"1\" class=\"dataframe\">\n",
       "  <thead>\n",
       "    <tr style=\"text-align: right;\">\n",
       "      <th></th>\n",
       "      <th>order_week</th>\n",
       "      <th>material_num</th>\n",
       "      <th>customer_num</th>\n",
       "      <th>order_amount</th>\n",
       "      <th>order_sum2</th>\n",
       "      <th>order_sum3</th>\n",
       "      <th>order_sum4</th>\n",
       "      <th>order_sum5</th>\n",
       "      <th>order_sum7</th>\n",
       "      <th>order_sum10</th>\n",
       "      <th>...</th>\n",
       "      <th>prod_sum7</th>\n",
       "      <th>prod_sum10</th>\n",
       "      <th>prod_sum14</th>\n",
       "      <th>whole_sum2</th>\n",
       "      <th>whole_sum3</th>\n",
       "      <th>whole_sum4</th>\n",
       "      <th>whole_sum5</th>\n",
       "      <th>whole_sum7</th>\n",
       "      <th>whole_sum10</th>\n",
       "      <th>whole_sum14</th>\n",
       "    </tr>\n",
       "  </thead>\n",
       "  <tbody>\n",
       "    <tr>\n",
       "      <th>0</th>\n",
       "      <td>1</td>\n",
       "      <td>91704</td>\n",
       "      <td>M10125</td>\n",
       "      <td>2</td>\n",
       "      <td>0.0</td>\n",
       "      <td>0.0</td>\n",
       "      <td>0.0</td>\n",
       "      <td>0.0</td>\n",
       "      <td>0.0</td>\n",
       "      <td>0.0</td>\n",
       "      <td>...</td>\n",
       "      <td>0.0</td>\n",
       "      <td>0.0</td>\n",
       "      <td>0.0</td>\n",
       "      <td>0.0</td>\n",
       "      <td>0.0</td>\n",
       "      <td>0.0</td>\n",
       "      <td>0.0</td>\n",
       "      <td>0.0</td>\n",
       "      <td>0.0</td>\n",
       "      <td>0.0</td>\n",
       "    </tr>\n",
       "    <tr>\n",
       "      <th>1</th>\n",
       "      <td>1</td>\n",
       "      <td>91704</td>\n",
       "      <td>M10140</td>\n",
       "      <td>21</td>\n",
       "      <td>0.0</td>\n",
       "      <td>0.0</td>\n",
       "      <td>0.0</td>\n",
       "      <td>0.0</td>\n",
       "      <td>0.0</td>\n",
       "      <td>0.0</td>\n",
       "      <td>...</td>\n",
       "      <td>0.0</td>\n",
       "      <td>0.0</td>\n",
       "      <td>0.0</td>\n",
       "      <td>0.0</td>\n",
       "      <td>0.0</td>\n",
       "      <td>0.0</td>\n",
       "      <td>0.0</td>\n",
       "      <td>0.0</td>\n",
       "      <td>0.0</td>\n",
       "      <td>0.0</td>\n",
       "    </tr>\n",
       "    <tr>\n",
       "      <th>2</th>\n",
       "      <td>1</td>\n",
       "      <td>91704</td>\n",
       "      <td>M10142</td>\n",
       "      <td>13</td>\n",
       "      <td>0.0</td>\n",
       "      <td>0.0</td>\n",
       "      <td>0.0</td>\n",
       "      <td>0.0</td>\n",
       "      <td>0.0</td>\n",
       "      <td>0.0</td>\n",
       "      <td>...</td>\n",
       "      <td>0.0</td>\n",
       "      <td>0.0</td>\n",
       "      <td>0.0</td>\n",
       "      <td>0.0</td>\n",
       "      <td>0.0</td>\n",
       "      <td>0.0</td>\n",
       "      <td>0.0</td>\n",
       "      <td>0.0</td>\n",
       "      <td>0.0</td>\n",
       "      <td>0.0</td>\n",
       "    </tr>\n",
       "    <tr>\n",
       "      <th>3</th>\n",
       "      <td>1</td>\n",
       "      <td>91704</td>\n",
       "      <td>M10143</td>\n",
       "      <td>12</td>\n",
       "      <td>0.0</td>\n",
       "      <td>0.0</td>\n",
       "      <td>0.0</td>\n",
       "      <td>0.0</td>\n",
       "      <td>0.0</td>\n",
       "      <td>0.0</td>\n",
       "      <td>...</td>\n",
       "      <td>0.0</td>\n",
       "      <td>0.0</td>\n",
       "      <td>0.0</td>\n",
       "      <td>0.0</td>\n",
       "      <td>0.0</td>\n",
       "      <td>0.0</td>\n",
       "      <td>0.0</td>\n",
       "      <td>0.0</td>\n",
       "      <td>0.0</td>\n",
       "      <td>0.0</td>\n",
       "    </tr>\n",
       "    <tr>\n",
       "      <th>4</th>\n",
       "      <td>1</td>\n",
       "      <td>91704</td>\n",
       "      <td>M10158</td>\n",
       "      <td>4</td>\n",
       "      <td>0.0</td>\n",
       "      <td>0.0</td>\n",
       "      <td>0.0</td>\n",
       "      <td>0.0</td>\n",
       "      <td>0.0</td>\n",
       "      <td>0.0</td>\n",
       "      <td>...</td>\n",
       "      <td>0.0</td>\n",
       "      <td>0.0</td>\n",
       "      <td>0.0</td>\n",
       "      <td>0.0</td>\n",
       "      <td>0.0</td>\n",
       "      <td>0.0</td>\n",
       "      <td>0.0</td>\n",
       "      <td>0.0</td>\n",
       "      <td>0.0</td>\n",
       "      <td>0.0</td>\n",
       "    </tr>\n",
       "  </tbody>\n",
       "</table>\n",
       "<p>5 rows × 32 columns</p>\n",
       "</div>"
      ],
      "text/plain": [
       "   order_week material_num customer_num  order_amount  order_sum2  order_sum3  \\\n",
       "0           1        91704       M10125             2         0.0         0.0   \n",
       "1           1        91704       M10140            21         0.0         0.0   \n",
       "2           1        91704       M10142            13         0.0         0.0   \n",
       "3           1        91704       M10143            12         0.0         0.0   \n",
       "4           1        91704       M10158             4         0.0         0.0   \n",
       "\n",
       "   order_sum4  order_sum5  order_sum7  order_sum10  ...  prod_sum7  \\\n",
       "0         0.0         0.0         0.0          0.0  ...        0.0   \n",
       "1         0.0         0.0         0.0          0.0  ...        0.0   \n",
       "2         0.0         0.0         0.0          0.0  ...        0.0   \n",
       "3         0.0         0.0         0.0          0.0  ...        0.0   \n",
       "4         0.0         0.0         0.0          0.0  ...        0.0   \n",
       "\n",
       "   prod_sum10  prod_sum14  whole_sum2  whole_sum3  whole_sum4  whole_sum5  \\\n",
       "0         0.0         0.0         0.0         0.0         0.0         0.0   \n",
       "1         0.0         0.0         0.0         0.0         0.0         0.0   \n",
       "2         0.0         0.0         0.0         0.0         0.0         0.0   \n",
       "3         0.0         0.0         0.0         0.0         0.0         0.0   \n",
       "4         0.0         0.0         0.0         0.0         0.0         0.0   \n",
       "\n",
       "   whole_sum7  whole_sum10  whole_sum14  \n",
       "0         0.0          0.0          0.0  \n",
       "1         0.0          0.0          0.0  \n",
       "2         0.0          0.0          0.0  \n",
       "3         0.0          0.0          0.0  \n",
       "4         0.0          0.0          0.0  \n",
       "\n",
       "[5 rows x 32 columns]"
      ]
     },
     "execution_count": 51,
     "metadata": {},
     "output_type": "execute_result"
    }
   ],
   "source": [
    "order_df.head()"
   ]
  },
  {
   "cell_type": "code",
   "execution_count": 62,
   "metadata": {},
   "outputs": [],
   "source": [
    "for col in order_df.select_dtypes('float').columns:\n",
    "    order_df[col] = order_df[col].astype('int32')"
   ]
  },
  {
   "cell_type": "code",
   "execution_count": 63,
   "metadata": {},
   "outputs": [
    {
     "data": {
      "text/plain": [
       "order_week       int16\n",
       "material_num    object\n",
       "customer_num    object\n",
       "order_amount     int32\n",
       "order_sum2       int32\n",
       "order_sum3       int32\n",
       "order_sum4       int32\n",
       "order_sum5       int32\n",
       "order_sum7       int32\n",
       "order_sum10      int32\n",
       "order_sum14      int32\n",
       "cust_sum2        int32\n",
       "cust_sum3        int32\n",
       "cust_sum4        int32\n",
       "cust_sum5        int32\n",
       "cust_sum7        int32\n",
       "cust_sum10       int32\n",
       "cust_sum14       int32\n",
       "prod_sum2        int32\n",
       "prod_sum3        int32\n",
       "prod_sum4        int32\n",
       "prod_sum5        int32\n",
       "prod_sum7        int32\n",
       "prod_sum10       int32\n",
       "prod_sum14       int32\n",
       "whole_sum2       int32\n",
       "whole_sum3       int32\n",
       "whole_sum4       int32\n",
       "whole_sum5       int32\n",
       "whole_sum7       int32\n",
       "whole_sum10      int32\n",
       "whole_sum14      int32\n",
       "dtype: object"
      ]
     },
     "execution_count": 63,
     "metadata": {},
     "output_type": "execute_result"
    }
   ],
   "source": [
    "order_df.dtypes"
   ]
  },
  {
   "cell_type": "code",
   "execution_count": 64,
   "metadata": {},
   "outputs": [],
   "source": [
    "order_df.to_csv('data/order_v2.csv', index=False)"
   ]
  }
 ],
 "metadata": {
  "kernelspec": {
   "display_name": "Python 3",
   "language": "python",
   "name": "python3"
  },
  "language_info": {
   "codemirror_mode": {
    "name": "ipython",
    "version": 3
   },
   "file_extension": ".py",
   "mimetype": "text/x-python",
   "name": "python",
   "nbconvert_exporter": "python",
   "pygments_lexer": "ipython3",
   "version": "3.8.5"
  }
 },
 "nbformat": 4,
 "nbformat_minor": 4
}
